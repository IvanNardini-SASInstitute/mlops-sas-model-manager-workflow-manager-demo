{
 "cells": [
  {
   "cell_type": "markdown",
   "metadata": {},
   "source": [
    "# The e2e Model Lifecycle on SAS Viya Platform"
   ]
  },
  {
   "cell_type": "markdown",
   "metadata": {},
   "source": [
    "In this notebook, \n",
    "\n",
    "1. Build and train the model.\n",
    "2. Create an API of the model. (Here we have put it in a flask API).\n",
    "3. Create the requirements file containing all the required libraries.\n",
    "4. Create the docker file with necessary environment setup and start-up operations.\n",
    "5. Build the docker image.\n",
    "\n",
    "I train XGboost model for testing Docker Private ML environment"
   ]
  },
  {
   "cell_type": "markdown",
   "metadata": {},
   "source": [
    "## Libraries"
   ]
  },
  {
   "cell_type": "code",
   "execution_count": 1,
   "metadata": {},
   "outputs": [],
   "source": [
    "# Mongo Library\n",
    "\n",
    "import pymongo\n",
    "\n",
    "# ML libraries \n",
    "\n",
    "import numpy as np\n",
    "import pandas as pd\n",
    "import scipy\n",
    "import matplotlib.pyplot as plt\n",
    "\n",
    "from sklearn.pipeline import Pipeline\n",
    "from sklearn.preprocessing import OneHotEncoder\n",
    "from sklearn.compose import ColumnTransformer\n",
    "from sklearn.impute import SimpleImputer\n",
    "\n",
    "from sklearn.base import TransformerMixin\n",
    "import sklearn.metrics as metrics\n",
    "import sklearn.model_selection as model_selection\n",
    "import statsmodels.api as smodel\n",
    "from xgboost import XGBClassifier \n",
    "\n",
    "# Tool libraries\n",
    "\n",
    "# import json\n",
    "import os\n",
    "import pprint\n",
    "import json\n",
    "# import requests as req\n",
    "# import random\n",
    "# import pickle\n",
    "import zipfile\n",
    "# import urllib\n",
    "# import base64\n",
    "# import time\n",
    "# import sys\n",
    "\n",
    "# import sasctl"
   ]
  },
  {
   "cell_type": "markdown",
   "metadata": {},
   "source": [
    "## Data Engineering"
   ]
  },
  {
   "cell_type": "markdown",
   "metadata": {},
   "source": [
    "### Load Data from Mongo"
   ]
  },
  {
   "cell_type": "code",
   "execution_count": 2,
   "metadata": {},
   "outputs": [],
   "source": [
    "#Connect to mongodb container\n",
    "\n",
    "conn = pymongo.MongoClient('mongo', 27017)"
   ]
  },
  {
   "cell_type": "code",
   "execution_count": 3,
   "metadata": {},
   "outputs": [
    {
     "data": {
      "text/plain": [
       "MongoClient(host=['mongo:27017'], document_class=dict, tz_aware=False, connect=True)"
      ]
     },
     "execution_count": 3,
     "metadata": {},
     "output_type": "execute_result"
    }
   ],
   "source": [
    "conn"
   ]
  },
  {
   "cell_type": "code",
   "execution_count": 4,
   "metadata": {},
   "outputs": [],
   "source": [
    "db = conn.training\n",
    "collection = db.churn_data"
   ]
  },
  {
   "cell_type": "code",
   "execution_count": 5,
   "metadata": {},
   "outputs": [
    {
     "data": {
      "text/html": [
       "<div>\n",
       "<style scoped>\n",
       "    .dataframe tbody tr th:only-of-type {\n",
       "        vertical-align: middle;\n",
       "    }\n",
       "\n",
       "    .dataframe tbody tr th {\n",
       "        vertical-align: top;\n",
       "    }\n",
       "\n",
       "    .dataframe thead th {\n",
       "        text-align: right;\n",
       "    }\n",
       "</style>\n",
       "<table border=\"1\" class=\"dataframe\">\n",
       "  <thead>\n",
       "    <tr style=\"text-align: right;\">\n",
       "      <th></th>\n",
       "      <th>BAD</th>\n",
       "      <th>LOAN</th>\n",
       "      <th>MORTDUE</th>\n",
       "      <th>VALUE</th>\n",
       "      <th>REASON</th>\n",
       "      <th>JOB</th>\n",
       "      <th>YOJ</th>\n",
       "      <th>DEROG</th>\n",
       "      <th>DELINQ</th>\n",
       "      <th>CLAGE</th>\n",
       "      <th>NINQ</th>\n",
       "      <th>CLNO</th>\n",
       "      <th>DEBTINC</th>\n",
       "    </tr>\n",
       "  </thead>\n",
       "  <tbody>\n",
       "    <tr>\n",
       "      <th>0</th>\n",
       "      <td>1</td>\n",
       "      <td>1100</td>\n",
       "      <td>25860</td>\n",
       "      <td>39025</td>\n",
       "      <td>HomeImp</td>\n",
       "      <td>Other</td>\n",
       "      <td>10.5</td>\n",
       "      <td>0</td>\n",
       "      <td>0</td>\n",
       "      <td>94.3667</td>\n",
       "      <td>1</td>\n",
       "      <td>9</td>\n",
       "      <td></td>\n",
       "    </tr>\n",
       "    <tr>\n",
       "      <th>1</th>\n",
       "      <td>1</td>\n",
       "      <td>1300</td>\n",
       "      <td>70053</td>\n",
       "      <td>68400</td>\n",
       "      <td>HomeImp</td>\n",
       "      <td>Other</td>\n",
       "      <td>7</td>\n",
       "      <td>0</td>\n",
       "      <td>2</td>\n",
       "      <td>121.833</td>\n",
       "      <td>0</td>\n",
       "      <td>14</td>\n",
       "      <td></td>\n",
       "    </tr>\n",
       "    <tr>\n",
       "      <th>2</th>\n",
       "      <td>1</td>\n",
       "      <td>1500</td>\n",
       "      <td>13500</td>\n",
       "      <td>16700</td>\n",
       "      <td>HomeImp</td>\n",
       "      <td>Other</td>\n",
       "      <td>4</td>\n",
       "      <td>0</td>\n",
       "      <td>0</td>\n",
       "      <td>149.467</td>\n",
       "      <td>1</td>\n",
       "      <td>10</td>\n",
       "      <td></td>\n",
       "    </tr>\n",
       "    <tr>\n",
       "      <th>3</th>\n",
       "      <td>1</td>\n",
       "      <td>1500</td>\n",
       "      <td></td>\n",
       "      <td></td>\n",
       "      <td></td>\n",
       "      <td></td>\n",
       "      <td></td>\n",
       "      <td></td>\n",
       "      <td></td>\n",
       "      <td></td>\n",
       "      <td></td>\n",
       "      <td></td>\n",
       "      <td></td>\n",
       "    </tr>\n",
       "    <tr>\n",
       "      <th>4</th>\n",
       "      <td>0</td>\n",
       "      <td>1700</td>\n",
       "      <td>97800</td>\n",
       "      <td>112000</td>\n",
       "      <td>HomeImp</td>\n",
       "      <td>Office</td>\n",
       "      <td>3</td>\n",
       "      <td>0</td>\n",
       "      <td>0</td>\n",
       "      <td>93.3333</td>\n",
       "      <td>0</td>\n",
       "      <td>14</td>\n",
       "      <td></td>\n",
       "    </tr>\n",
       "  </tbody>\n",
       "</table>\n",
       "</div>"
      ],
      "text/plain": [
       "   BAD  LOAN MORTDUE   VALUE   REASON     JOB   YOJ DEROG DELINQ    CLAGE  \\\n",
       "0    1  1100   25860   39025  HomeImp   Other  10.5     0      0  94.3667   \n",
       "1    1  1300   70053   68400  HomeImp   Other     7     0      2  121.833   \n",
       "2    1  1500   13500   16700  HomeImp   Other     4     0      0  149.467   \n",
       "3    1  1500                                                                \n",
       "4    0  1700   97800  112000  HomeImp  Office     3     0      0  93.3333   \n",
       "\n",
       "  NINQ CLNO DEBTINC  \n",
       "0    1    9          \n",
       "1    0   14          \n",
       "2    1   10          \n",
       "3                    \n",
       "4    0   14          "
      ]
     },
     "execution_count": 5,
     "metadata": {},
     "output_type": "execute_result"
    }
   ],
   "source": [
    "df = pd.DataFrame(list(collection.find()))\n",
    "df.drop('_id', axis=1, inplace=True)\n",
    "df.drop_duplicates(inplace=True)\n",
    "df.head()"
   ]
  },
  {
   "cell_type": "markdown",
   "metadata": {},
   "source": [
    "### Declare data types"
   ]
  },
  {
   "cell_type": "code",
   "execution_count": 6,
   "metadata": {},
   "outputs": [
    {
     "name": "stdout",
     "output_type": "stream",
     "text": [
      "<class 'pandas.core.frame.DataFrame'>\n",
      "Int64Index: 5960 entries, 0 to 5959\n",
      "Data columns (total 13 columns):\n",
      "BAD        5960 non-null int64\n",
      "LOAN       5960 non-null int64\n",
      "MORTDUE    5960 non-null object\n",
      "VALUE      5960 non-null object\n",
      "REASON     5960 non-null object\n",
      "JOB        5960 non-null object\n",
      "YOJ        5960 non-null object\n",
      "DEROG      5960 non-null object\n",
      "DELINQ     5960 non-null object\n",
      "CLAGE      5960 non-null object\n",
      "NINQ       5960 non-null object\n",
      "CLNO       5960 non-null object\n",
      "DEBTINC    5960 non-null object\n",
      "dtypes: int64(2), object(11)\n",
      "memory usage: 651.9+ KB\n"
     ]
    }
   ],
   "source": [
    "df.info()"
   ]
  },
  {
   "cell_type": "code",
   "execution_count": 7,
   "metadata": {},
   "outputs": [],
   "source": [
    "cols = df[df.columns.difference(['BAD','LOAN','REASON','JOB'])].columns\n",
    "df[cols] = df[cols].apply(pd.to_numeric, downcast='float', errors='coerce')\n",
    "df['BAD']=df['BAD'].astype('category')"
   ]
  },
  {
   "cell_type": "code",
   "execution_count": 8,
   "metadata": {},
   "outputs": [
    {
     "data": {
      "text/html": [
       "<div>\n",
       "<style scoped>\n",
       "    .dataframe tbody tr th:only-of-type {\n",
       "        vertical-align: middle;\n",
       "    }\n",
       "\n",
       "    .dataframe tbody tr th {\n",
       "        vertical-align: top;\n",
       "    }\n",
       "\n",
       "    .dataframe thead th {\n",
       "        text-align: right;\n",
       "    }\n",
       "</style>\n",
       "<table border=\"1\" class=\"dataframe\">\n",
       "  <thead>\n",
       "    <tr style=\"text-align: right;\">\n",
       "      <th></th>\n",
       "      <th>BAD</th>\n",
       "      <th>LOAN</th>\n",
       "      <th>MORTDUE</th>\n",
       "      <th>VALUE</th>\n",
       "      <th>REASON</th>\n",
       "      <th>JOB</th>\n",
       "      <th>YOJ</th>\n",
       "      <th>DEROG</th>\n",
       "      <th>DELINQ</th>\n",
       "      <th>CLAGE</th>\n",
       "      <th>NINQ</th>\n",
       "      <th>CLNO</th>\n",
       "      <th>DEBTINC</th>\n",
       "    </tr>\n",
       "  </thead>\n",
       "  <tbody>\n",
       "    <tr>\n",
       "      <th>0</th>\n",
       "      <td>1</td>\n",
       "      <td>1100</td>\n",
       "      <td>25860.0</td>\n",
       "      <td>39025.0</td>\n",
       "      <td>HomeImp</td>\n",
       "      <td>Other</td>\n",
       "      <td>10.5</td>\n",
       "      <td>0.0</td>\n",
       "      <td>0.0</td>\n",
       "      <td>94.366669</td>\n",
       "      <td>1.0</td>\n",
       "      <td>9.0</td>\n",
       "      <td>NaN</td>\n",
       "    </tr>\n",
       "    <tr>\n",
       "      <th>1</th>\n",
       "      <td>1</td>\n",
       "      <td>1300</td>\n",
       "      <td>70053.0</td>\n",
       "      <td>68400.0</td>\n",
       "      <td>HomeImp</td>\n",
       "      <td>Other</td>\n",
       "      <td>7.0</td>\n",
       "      <td>0.0</td>\n",
       "      <td>2.0</td>\n",
       "      <td>121.833336</td>\n",
       "      <td>0.0</td>\n",
       "      <td>14.0</td>\n",
       "      <td>NaN</td>\n",
       "    </tr>\n",
       "    <tr>\n",
       "      <th>2</th>\n",
       "      <td>1</td>\n",
       "      <td>1500</td>\n",
       "      <td>13500.0</td>\n",
       "      <td>16700.0</td>\n",
       "      <td>HomeImp</td>\n",
       "      <td>Other</td>\n",
       "      <td>4.0</td>\n",
       "      <td>0.0</td>\n",
       "      <td>0.0</td>\n",
       "      <td>149.466660</td>\n",
       "      <td>1.0</td>\n",
       "      <td>10.0</td>\n",
       "      <td>NaN</td>\n",
       "    </tr>\n",
       "    <tr>\n",
       "      <th>3</th>\n",
       "      <td>1</td>\n",
       "      <td>1500</td>\n",
       "      <td>NaN</td>\n",
       "      <td>NaN</td>\n",
       "      <td></td>\n",
       "      <td></td>\n",
       "      <td>NaN</td>\n",
       "      <td>NaN</td>\n",
       "      <td>NaN</td>\n",
       "      <td>NaN</td>\n",
       "      <td>NaN</td>\n",
       "      <td>NaN</td>\n",
       "      <td>NaN</td>\n",
       "    </tr>\n",
       "    <tr>\n",
       "      <th>4</th>\n",
       "      <td>0</td>\n",
       "      <td>1700</td>\n",
       "      <td>97800.0</td>\n",
       "      <td>112000.0</td>\n",
       "      <td>HomeImp</td>\n",
       "      <td>Office</td>\n",
       "      <td>3.0</td>\n",
       "      <td>0.0</td>\n",
       "      <td>0.0</td>\n",
       "      <td>93.333336</td>\n",
       "      <td>0.0</td>\n",
       "      <td>14.0</td>\n",
       "      <td>NaN</td>\n",
       "    </tr>\n",
       "  </tbody>\n",
       "</table>\n",
       "</div>"
      ],
      "text/plain": [
       "  BAD  LOAN  MORTDUE     VALUE   REASON     JOB   YOJ  DEROG  DELINQ  \\\n",
       "0   1  1100  25860.0   39025.0  HomeImp   Other  10.5    0.0     0.0   \n",
       "1   1  1300  70053.0   68400.0  HomeImp   Other   7.0    0.0     2.0   \n",
       "2   1  1500  13500.0   16700.0  HomeImp   Other   4.0    0.0     0.0   \n",
       "3   1  1500      NaN       NaN                    NaN    NaN     NaN   \n",
       "4   0  1700  97800.0  112000.0  HomeImp  Office   3.0    0.0     0.0   \n",
       "\n",
       "        CLAGE  NINQ  CLNO  DEBTINC  \n",
       "0   94.366669   1.0   9.0      NaN  \n",
       "1  121.833336   0.0  14.0      NaN  \n",
       "2  149.466660   1.0  10.0      NaN  \n",
       "3         NaN   NaN   NaN      NaN  \n",
       "4   93.333336   0.0  14.0      NaN  "
      ]
     },
     "execution_count": 8,
     "metadata": {},
     "output_type": "execute_result"
    }
   ],
   "source": [
    "df.head()"
   ]
  },
  {
   "cell_type": "code",
   "execution_count": 9,
   "metadata": {},
   "outputs": [
    {
     "name": "stdout",
     "output_type": "stream",
     "text": [
      "<class 'pandas.core.frame.DataFrame'>\n",
      "Int64Index: 5960 entries, 0 to 5959\n",
      "Data columns (total 13 columns):\n",
      "BAD        5960 non-null category\n",
      "LOAN       5960 non-null int64\n",
      "MORTDUE    5442 non-null float32\n",
      "VALUE      5848 non-null float32\n",
      "REASON     5960 non-null object\n",
      "JOB        5960 non-null object\n",
      "YOJ        5445 non-null float32\n",
      "DEROG      5252 non-null float32\n",
      "DELINQ     5380 non-null float32\n",
      "CLAGE      5652 non-null float32\n",
      "NINQ       5450 non-null float32\n",
      "CLNO       5738 non-null float32\n",
      "DEBTINC    4693 non-null float32\n",
      "dtypes: category(1), float32(9), int64(1), object(2)\n",
      "memory usage: 401.7+ KB\n"
     ]
    }
   ],
   "source": [
    "df.info()"
   ]
  },
  {
   "cell_type": "markdown",
   "metadata": {},
   "source": [
    "### Declare variables "
   ]
  },
  {
   "cell_type": "code",
   "execution_count": 10,
   "metadata": {},
   "outputs": [
    {
     "name": "stdout",
     "output_type": "stream",
     "text": [
      "Index(['BAD'], dtype='object')\n",
      "['REASON', 'JOB']\n",
      "['LOAN', 'MORTDUE', 'VALUE', 'YOJ', 'DEROG', 'DELINQ', 'CLAGE', 'NINQ', 'CLNO', 'DEBTINC']\n",
      "['REASON', 'JOB', 'LOAN', 'MORTDUE', 'VALUE', 'YOJ', 'DEROG', 'DELINQ', 'CLAGE', 'NINQ', 'CLNO', 'DEBTINC']\n"
     ]
    }
   ],
   "source": [
    "#target var\n",
    "target = df.select_dtypes('category').columns\n",
    "\n",
    "#categorical (nominal and ordinal) variables\n",
    "class_inputs = list(df.select_dtypes('object').columns)\n",
    "\n",
    "#input interval variables\n",
    "numerical_inputs = list(df.select_dtypes(include=['int64', 'float32']).columns)\n",
    "\n",
    "inputs= class_inputs + numerical_inputs\n",
    "\n",
    "print(target)\n",
    "print(class_inputs)\n",
    "print(numerical_inputs)\n",
    "print(inputs)"
   ]
  },
  {
   "cell_type": "code",
   "execution_count": 11,
   "metadata": {},
   "outputs": [
    {
     "data": {
      "text/html": [
       "<div>\n",
       "<style scoped>\n",
       "    .dataframe tbody tr th:only-of-type {\n",
       "        vertical-align: middle;\n",
       "    }\n",
       "\n",
       "    .dataframe tbody tr th {\n",
       "        vertical-align: top;\n",
       "    }\n",
       "\n",
       "    .dataframe thead th {\n",
       "        text-align: right;\n",
       "    }\n",
       "</style>\n",
       "<table border=\"1\" class=\"dataframe\">\n",
       "  <thead>\n",
       "    <tr style=\"text-align: right;\">\n",
       "      <th></th>\n",
       "      <th>REASON</th>\n",
       "      <th>JOB</th>\n",
       "      <th>LOAN</th>\n",
       "      <th>MORTDUE</th>\n",
       "      <th>VALUE</th>\n",
       "      <th>YOJ</th>\n",
       "      <th>DEROG</th>\n",
       "      <th>DELINQ</th>\n",
       "      <th>CLAGE</th>\n",
       "      <th>NINQ</th>\n",
       "      <th>CLNO</th>\n",
       "      <th>DEBTINC</th>\n",
       "    </tr>\n",
       "  </thead>\n",
       "  <tbody>\n",
       "    <tr>\n",
       "      <th>0</th>\n",
       "      <td>HomeImp</td>\n",
       "      <td>Other</td>\n",
       "      <td>1100</td>\n",
       "      <td>25860.0</td>\n",
       "      <td>39025.0</td>\n",
       "      <td>10.5</td>\n",
       "      <td>0.0</td>\n",
       "      <td>0.0</td>\n",
       "      <td>94.366669</td>\n",
       "      <td>1.0</td>\n",
       "      <td>9.0</td>\n",
       "      <td>NaN</td>\n",
       "    </tr>\n",
       "    <tr>\n",
       "      <th>1</th>\n",
       "      <td>HomeImp</td>\n",
       "      <td>Other</td>\n",
       "      <td>1300</td>\n",
       "      <td>70053.0</td>\n",
       "      <td>68400.0</td>\n",
       "      <td>7.0</td>\n",
       "      <td>0.0</td>\n",
       "      <td>2.0</td>\n",
       "      <td>121.833336</td>\n",
       "      <td>0.0</td>\n",
       "      <td>14.0</td>\n",
       "      <td>NaN</td>\n",
       "    </tr>\n",
       "    <tr>\n",
       "      <th>2</th>\n",
       "      <td>HomeImp</td>\n",
       "      <td>Other</td>\n",
       "      <td>1500</td>\n",
       "      <td>13500.0</td>\n",
       "      <td>16700.0</td>\n",
       "      <td>4.0</td>\n",
       "      <td>0.0</td>\n",
       "      <td>0.0</td>\n",
       "      <td>149.466660</td>\n",
       "      <td>1.0</td>\n",
       "      <td>10.0</td>\n",
       "      <td>NaN</td>\n",
       "    </tr>\n",
       "    <tr>\n",
       "      <th>3</th>\n",
       "      <td></td>\n",
       "      <td></td>\n",
       "      <td>1500</td>\n",
       "      <td>NaN</td>\n",
       "      <td>NaN</td>\n",
       "      <td>NaN</td>\n",
       "      <td>NaN</td>\n",
       "      <td>NaN</td>\n",
       "      <td>NaN</td>\n",
       "      <td>NaN</td>\n",
       "      <td>NaN</td>\n",
       "      <td>NaN</td>\n",
       "    </tr>\n",
       "    <tr>\n",
       "      <th>4</th>\n",
       "      <td>HomeImp</td>\n",
       "      <td>Office</td>\n",
       "      <td>1700</td>\n",
       "      <td>97800.0</td>\n",
       "      <td>112000.0</td>\n",
       "      <td>3.0</td>\n",
       "      <td>0.0</td>\n",
       "      <td>0.0</td>\n",
       "      <td>93.333336</td>\n",
       "      <td>0.0</td>\n",
       "      <td>14.0</td>\n",
       "      <td>NaN</td>\n",
       "    </tr>\n",
       "    <tr>\n",
       "      <th>...</th>\n",
       "      <td>...</td>\n",
       "      <td>...</td>\n",
       "      <td>...</td>\n",
       "      <td>...</td>\n",
       "      <td>...</td>\n",
       "      <td>...</td>\n",
       "      <td>...</td>\n",
       "      <td>...</td>\n",
       "      <td>...</td>\n",
       "      <td>...</td>\n",
       "      <td>...</td>\n",
       "      <td>...</td>\n",
       "    </tr>\n",
       "    <tr>\n",
       "      <th>5955</th>\n",
       "      <td>DebtCon</td>\n",
       "      <td>Other</td>\n",
       "      <td>89000</td>\n",
       "      <td>54576.0</td>\n",
       "      <td>92937.0</td>\n",
       "      <td>16.0</td>\n",
       "      <td>0.0</td>\n",
       "      <td>0.0</td>\n",
       "      <td>208.692062</td>\n",
       "      <td>0.0</td>\n",
       "      <td>15.0</td>\n",
       "      <td>35.859970</td>\n",
       "    </tr>\n",
       "    <tr>\n",
       "      <th>5956</th>\n",
       "      <td>DebtCon</td>\n",
       "      <td>Other</td>\n",
       "      <td>89200</td>\n",
       "      <td>54045.0</td>\n",
       "      <td>92924.0</td>\n",
       "      <td>15.0</td>\n",
       "      <td>0.0</td>\n",
       "      <td>0.0</td>\n",
       "      <td>212.279694</td>\n",
       "      <td>0.0</td>\n",
       "      <td>15.0</td>\n",
       "      <td>35.556591</td>\n",
       "    </tr>\n",
       "    <tr>\n",
       "      <th>5957</th>\n",
       "      <td>DebtCon</td>\n",
       "      <td>Other</td>\n",
       "      <td>89800</td>\n",
       "      <td>50370.0</td>\n",
       "      <td>91861.0</td>\n",
       "      <td>14.0</td>\n",
       "      <td>0.0</td>\n",
       "      <td>0.0</td>\n",
       "      <td>213.892715</td>\n",
       "      <td>0.0</td>\n",
       "      <td>16.0</td>\n",
       "      <td>34.340881</td>\n",
       "    </tr>\n",
       "    <tr>\n",
       "      <th>5958</th>\n",
       "      <td>DebtCon</td>\n",
       "      <td>Other</td>\n",
       "      <td>88900</td>\n",
       "      <td>48919.0</td>\n",
       "      <td>93371.0</td>\n",
       "      <td>15.0</td>\n",
       "      <td>0.0</td>\n",
       "      <td>1.0</td>\n",
       "      <td>205.650162</td>\n",
       "      <td>0.0</td>\n",
       "      <td>15.0</td>\n",
       "      <td>34.818260</td>\n",
       "    </tr>\n",
       "    <tr>\n",
       "      <th>5959</th>\n",
       "      <td>DebtCon</td>\n",
       "      <td>Other</td>\n",
       "      <td>89900</td>\n",
       "      <td>48811.0</td>\n",
       "      <td>88934.0</td>\n",
       "      <td>15.0</td>\n",
       "      <td>0.0</td>\n",
       "      <td>0.0</td>\n",
       "      <td>219.600998</td>\n",
       "      <td>0.0</td>\n",
       "      <td>16.0</td>\n",
       "      <td>34.571518</td>\n",
       "    </tr>\n",
       "  </tbody>\n",
       "</table>\n",
       "<p>5960 rows × 12 columns</p>\n",
       "</div>"
      ],
      "text/plain": [
       "       REASON     JOB   LOAN  MORTDUE     VALUE   YOJ  DEROG  DELINQ  \\\n",
       "0     HomeImp   Other   1100  25860.0   39025.0  10.5    0.0     0.0   \n",
       "1     HomeImp   Other   1300  70053.0   68400.0   7.0    0.0     2.0   \n",
       "2     HomeImp   Other   1500  13500.0   16700.0   4.0    0.0     0.0   \n",
       "3                       1500      NaN       NaN   NaN    NaN     NaN   \n",
       "4     HomeImp  Office   1700  97800.0  112000.0   3.0    0.0     0.0   \n",
       "...       ...     ...    ...      ...       ...   ...    ...     ...   \n",
       "5955  DebtCon   Other  89000  54576.0   92937.0  16.0    0.0     0.0   \n",
       "5956  DebtCon   Other  89200  54045.0   92924.0  15.0    0.0     0.0   \n",
       "5957  DebtCon   Other  89800  50370.0   91861.0  14.0    0.0     0.0   \n",
       "5958  DebtCon   Other  88900  48919.0   93371.0  15.0    0.0     1.0   \n",
       "5959  DebtCon   Other  89900  48811.0   88934.0  15.0    0.0     0.0   \n",
       "\n",
       "           CLAGE  NINQ  CLNO    DEBTINC  \n",
       "0      94.366669   1.0   9.0        NaN  \n",
       "1     121.833336   0.0  14.0        NaN  \n",
       "2     149.466660   1.0  10.0        NaN  \n",
       "3            NaN   NaN   NaN        NaN  \n",
       "4      93.333336   0.0  14.0        NaN  \n",
       "...          ...   ...   ...        ...  \n",
       "5955  208.692062   0.0  15.0  35.859970  \n",
       "5956  212.279694   0.0  15.0  35.556591  \n",
       "5957  213.892715   0.0  16.0  34.340881  \n",
       "5958  205.650162   0.0  15.0  34.818260  \n",
       "5959  219.600998   0.0  16.0  34.571518  \n",
       "\n",
       "[5960 rows x 12 columns]"
      ]
     },
     "execution_count": 11,
     "metadata": {},
     "output_type": "execute_result"
    }
   ],
   "source": [
    "df[inputs]"
   ]
  },
  {
   "cell_type": "markdown",
   "metadata": {},
   "source": [
    "### Impute missing"
   ]
  },
  {
   "cell_type": "code",
   "execution_count": 12,
   "metadata": {},
   "outputs": [
    {
     "name": "stdout",
     "output_type": "stream",
     "text": [
      "<class 'pandas.core.frame.DataFrame'>\n",
      "RangeIndex: 5960 entries, 0 to 5959\n",
      "Data columns (total 2 columns):\n",
      "REASON    5960 non-null object\n",
      "JOB       5960 non-null object\n",
      "dtypes: object(2)\n",
      "memory usage: 93.2+ KB\n",
      "--------------------------------------------------\n",
      "<class 'pandas.core.frame.DataFrame'>\n",
      "RangeIndex: 5960 entries, 0 to 5959\n",
      "Data columns (total 10 columns):\n",
      "LOAN       5960 non-null float64\n",
      "MORTDUE    5960 non-null float64\n",
      "VALUE      5960 non-null float64\n",
      "YOJ        5960 non-null float64\n",
      "DEROG      5960 non-null float64\n",
      "DELINQ     5960 non-null float64\n",
      "CLAGE      5960 non-null float64\n",
      "NINQ       5960 non-null float64\n",
      "CLNO       5960 non-null float64\n",
      "DEBTINC    5960 non-null float64\n",
      "dtypes: float64(10)\n",
      "memory usage: 465.8 KB\n"
     ]
    },
    {
     "data": {
      "text/html": [
       "<div>\n",
       "<style scoped>\n",
       "    .dataframe tbody tr th:only-of-type {\n",
       "        vertical-align: middle;\n",
       "    }\n",
       "\n",
       "    .dataframe tbody tr th {\n",
       "        vertical-align: top;\n",
       "    }\n",
       "\n",
       "    .dataframe thead th {\n",
       "        text-align: right;\n",
       "    }\n",
       "</style>\n",
       "<table border=\"1\" class=\"dataframe\">\n",
       "  <thead>\n",
       "    <tr style=\"text-align: right;\">\n",
       "      <th></th>\n",
       "      <th>LOAN</th>\n",
       "      <th>MORTDUE</th>\n",
       "      <th>VALUE</th>\n",
       "      <th>YOJ</th>\n",
       "      <th>DEROG</th>\n",
       "      <th>DELINQ</th>\n",
       "      <th>CLAGE</th>\n",
       "      <th>NINQ</th>\n",
       "      <th>CLNO</th>\n",
       "      <th>DEBTINC</th>\n",
       "    </tr>\n",
       "  </thead>\n",
       "  <tbody>\n",
       "    <tr>\n",
       "      <th>0</th>\n",
       "      <td>1100.0</td>\n",
       "      <td>25860.000000</td>\n",
       "      <td>39025.000000</td>\n",
       "      <td>10.500000</td>\n",
       "      <td>0.00000</td>\n",
       "      <td>0.000000</td>\n",
       "      <td>94.366669</td>\n",
       "      <td>1.000000</td>\n",
       "      <td>9.000000</td>\n",
       "      <td>33.779915</td>\n",
       "    </tr>\n",
       "    <tr>\n",
       "      <th>1</th>\n",
       "      <td>1300.0</td>\n",
       "      <td>70053.000000</td>\n",
       "      <td>68400.000000</td>\n",
       "      <td>7.000000</td>\n",
       "      <td>0.00000</td>\n",
       "      <td>2.000000</td>\n",
       "      <td>121.833336</td>\n",
       "      <td>0.000000</td>\n",
       "      <td>14.000000</td>\n",
       "      <td>33.779915</td>\n",
       "    </tr>\n",
       "    <tr>\n",
       "      <th>2</th>\n",
       "      <td>1500.0</td>\n",
       "      <td>13500.000000</td>\n",
       "      <td>16700.000000</td>\n",
       "      <td>4.000000</td>\n",
       "      <td>0.00000</td>\n",
       "      <td>0.000000</td>\n",
       "      <td>149.466660</td>\n",
       "      <td>1.000000</td>\n",
       "      <td>10.000000</td>\n",
       "      <td>33.779915</td>\n",
       "    </tr>\n",
       "    <tr>\n",
       "      <th>3</th>\n",
       "      <td>1500.0</td>\n",
       "      <td>73760.817199</td>\n",
       "      <td>101776.048741</td>\n",
       "      <td>8.922268</td>\n",
       "      <td>0.25457</td>\n",
       "      <td>0.449442</td>\n",
       "      <td>179.766275</td>\n",
       "      <td>1.186055</td>\n",
       "      <td>21.296096</td>\n",
       "      <td>33.779915</td>\n",
       "    </tr>\n",
       "    <tr>\n",
       "      <th>4</th>\n",
       "      <td>1700.0</td>\n",
       "      <td>97800.000000</td>\n",
       "      <td>112000.000000</td>\n",
       "      <td>3.000000</td>\n",
       "      <td>0.00000</td>\n",
       "      <td>0.000000</td>\n",
       "      <td>93.333336</td>\n",
       "      <td>0.000000</td>\n",
       "      <td>14.000000</td>\n",
       "      <td>33.779915</td>\n",
       "    </tr>\n",
       "    <tr>\n",
       "      <th>...</th>\n",
       "      <td>...</td>\n",
       "      <td>...</td>\n",
       "      <td>...</td>\n",
       "      <td>...</td>\n",
       "      <td>...</td>\n",
       "      <td>...</td>\n",
       "      <td>...</td>\n",
       "      <td>...</td>\n",
       "      <td>...</td>\n",
       "      <td>...</td>\n",
       "    </tr>\n",
       "    <tr>\n",
       "      <th>5955</th>\n",
       "      <td>89000.0</td>\n",
       "      <td>54576.000000</td>\n",
       "      <td>92937.000000</td>\n",
       "      <td>16.000000</td>\n",
       "      <td>0.00000</td>\n",
       "      <td>0.000000</td>\n",
       "      <td>208.692062</td>\n",
       "      <td>0.000000</td>\n",
       "      <td>15.000000</td>\n",
       "      <td>35.859970</td>\n",
       "    </tr>\n",
       "    <tr>\n",
       "      <th>5956</th>\n",
       "      <td>89200.0</td>\n",
       "      <td>54045.000000</td>\n",
       "      <td>92924.000000</td>\n",
       "      <td>15.000000</td>\n",
       "      <td>0.00000</td>\n",
       "      <td>0.000000</td>\n",
       "      <td>212.279694</td>\n",
       "      <td>0.000000</td>\n",
       "      <td>15.000000</td>\n",
       "      <td>35.556591</td>\n",
       "    </tr>\n",
       "    <tr>\n",
       "      <th>5957</th>\n",
       "      <td>89800.0</td>\n",
       "      <td>50370.000000</td>\n",
       "      <td>91861.000000</td>\n",
       "      <td>14.000000</td>\n",
       "      <td>0.00000</td>\n",
       "      <td>0.000000</td>\n",
       "      <td>213.892715</td>\n",
       "      <td>0.000000</td>\n",
       "      <td>16.000000</td>\n",
       "      <td>34.340881</td>\n",
       "    </tr>\n",
       "    <tr>\n",
       "      <th>5958</th>\n",
       "      <td>88900.0</td>\n",
       "      <td>48919.000000</td>\n",
       "      <td>93371.000000</td>\n",
       "      <td>15.000000</td>\n",
       "      <td>0.00000</td>\n",
       "      <td>1.000000</td>\n",
       "      <td>205.650162</td>\n",
       "      <td>0.000000</td>\n",
       "      <td>15.000000</td>\n",
       "      <td>34.818260</td>\n",
       "    </tr>\n",
       "    <tr>\n",
       "      <th>5959</th>\n",
       "      <td>89900.0</td>\n",
       "      <td>48811.000000</td>\n",
       "      <td>88934.000000</td>\n",
       "      <td>15.000000</td>\n",
       "      <td>0.00000</td>\n",
       "      <td>0.000000</td>\n",
       "      <td>219.600998</td>\n",
       "      <td>0.000000</td>\n",
       "      <td>16.000000</td>\n",
       "      <td>34.571518</td>\n",
       "    </tr>\n",
       "  </tbody>\n",
       "</table>\n",
       "<p>5960 rows × 10 columns</p>\n",
       "</div>"
      ],
      "text/plain": [
       "         LOAN       MORTDUE          VALUE        YOJ    DEROG    DELINQ  \\\n",
       "0      1100.0  25860.000000   39025.000000  10.500000  0.00000  0.000000   \n",
       "1      1300.0  70053.000000   68400.000000   7.000000  0.00000  2.000000   \n",
       "2      1500.0  13500.000000   16700.000000   4.000000  0.00000  0.000000   \n",
       "3      1500.0  73760.817199  101776.048741   8.922268  0.25457  0.449442   \n",
       "4      1700.0  97800.000000  112000.000000   3.000000  0.00000  0.000000   \n",
       "...       ...           ...            ...        ...      ...       ...   \n",
       "5955  89000.0  54576.000000   92937.000000  16.000000  0.00000  0.000000   \n",
       "5956  89200.0  54045.000000   92924.000000  15.000000  0.00000  0.000000   \n",
       "5957  89800.0  50370.000000   91861.000000  14.000000  0.00000  0.000000   \n",
       "5958  88900.0  48919.000000   93371.000000  15.000000  0.00000  1.000000   \n",
       "5959  89900.0  48811.000000   88934.000000  15.000000  0.00000  0.000000   \n",
       "\n",
       "           CLAGE      NINQ       CLNO    DEBTINC  \n",
       "0      94.366669  1.000000   9.000000  33.779915  \n",
       "1     121.833336  0.000000  14.000000  33.779915  \n",
       "2     149.466660  1.000000  10.000000  33.779915  \n",
       "3     179.766275  1.186055  21.296096  33.779915  \n",
       "4      93.333336  0.000000  14.000000  33.779915  \n",
       "...          ...       ...        ...        ...  \n",
       "5955  208.692062  0.000000  15.000000  35.859970  \n",
       "5956  212.279694  0.000000  15.000000  35.556591  \n",
       "5957  213.892715  0.000000  16.000000  34.340881  \n",
       "5958  205.650162  0.000000  15.000000  34.818260  \n",
       "5959  219.600998  0.000000  16.000000  34.571518  \n",
       "\n",
       "[5960 rows x 10 columns]"
      ]
     },
     "execution_count": 12,
     "metadata": {},
     "output_type": "execute_result"
    }
   ],
   "source": [
    "categorical_imputer = SimpleImputer(missing_values = '', strategy = 'most_frequent')\n",
    "numerical_imputer = SimpleImputer(missing_values = np.nan, strategy = 'mean')\n",
    "\n",
    "# Impute categorical variables\n",
    "\n",
    "categorical_imputer.fit(df[class_inputs])\n",
    "categorical_imputed = categorical_imputer.transform(df[class_inputs])\n",
    "df_categorical_imputed = pd.DataFrame(data=categorical_imputed, columns=class_inputs)\n",
    "df_categorical_imputed.info()\n",
    "\n",
    "print('-'*50)\n",
    "\n",
    "#Impute numerical variables\n",
    "\n",
    "numerical_imputer.fit(df[numerical_inputs])\n",
    "numerical_imputed = numerical_imputer.transform(df[numerical_inputs])\n",
    "df_numerical_imputed = pd.DataFrame(data=numerical_imputed, columns=numerical_inputs)\n",
    "df_numerical_imputed.info()\n",
    "df_numerical_imputed"
   ]
  },
  {
   "cell_type": "markdown",
   "metadata": {},
   "source": [
    "### One-Hot encoding for categorical variables"
   ]
  },
  {
   "cell_type": "code",
   "execution_count": 13,
   "metadata": {},
   "outputs": [
    {
     "name": "stdout",
     "output_type": "stream",
     "text": [
      "<class 'pandas.core.frame.DataFrame'>\n",
      "RangeIndex: 5960 entries, 0 to 5959\n",
      "Data columns (total 8 columns):\n",
      "DebtCon    5960 non-null float64\n",
      "HomeImp    5960 non-null float64\n",
      "Mgr        5960 non-null float64\n",
      "Office     5960 non-null float64\n",
      "Other      5960 non-null float64\n",
      "ProfExe    5960 non-null float64\n",
      "Sales      5960 non-null float64\n",
      "Self       5960 non-null float64\n",
      "dtypes: float64(8)\n",
      "memory usage: 372.6 KB\n"
     ]
    },
    {
     "data": {
      "text/html": [
       "<div>\n",
       "<style scoped>\n",
       "    .dataframe tbody tr th:only-of-type {\n",
       "        vertical-align: middle;\n",
       "    }\n",
       "\n",
       "    .dataframe tbody tr th {\n",
       "        vertical-align: top;\n",
       "    }\n",
       "\n",
       "    .dataframe thead th {\n",
       "        text-align: right;\n",
       "    }\n",
       "</style>\n",
       "<table border=\"1\" class=\"dataframe\">\n",
       "  <thead>\n",
       "    <tr style=\"text-align: right;\">\n",
       "      <th></th>\n",
       "      <th>DebtCon</th>\n",
       "      <th>HomeImp</th>\n",
       "      <th>Mgr</th>\n",
       "      <th>Office</th>\n",
       "      <th>Other</th>\n",
       "      <th>ProfExe</th>\n",
       "      <th>Sales</th>\n",
       "      <th>Self</th>\n",
       "    </tr>\n",
       "  </thead>\n",
       "  <tbody>\n",
       "    <tr>\n",
       "      <th>0</th>\n",
       "      <td>0.0</td>\n",
       "      <td>1.0</td>\n",
       "      <td>0.0</td>\n",
       "      <td>0.0</td>\n",
       "      <td>1.0</td>\n",
       "      <td>0.0</td>\n",
       "      <td>0.0</td>\n",
       "      <td>0.0</td>\n",
       "    </tr>\n",
       "    <tr>\n",
       "      <th>1</th>\n",
       "      <td>0.0</td>\n",
       "      <td>1.0</td>\n",
       "      <td>0.0</td>\n",
       "      <td>0.0</td>\n",
       "      <td>1.0</td>\n",
       "      <td>0.0</td>\n",
       "      <td>0.0</td>\n",
       "      <td>0.0</td>\n",
       "    </tr>\n",
       "    <tr>\n",
       "      <th>2</th>\n",
       "      <td>0.0</td>\n",
       "      <td>1.0</td>\n",
       "      <td>0.0</td>\n",
       "      <td>0.0</td>\n",
       "      <td>1.0</td>\n",
       "      <td>0.0</td>\n",
       "      <td>0.0</td>\n",
       "      <td>0.0</td>\n",
       "    </tr>\n",
       "    <tr>\n",
       "      <th>3</th>\n",
       "      <td>1.0</td>\n",
       "      <td>0.0</td>\n",
       "      <td>0.0</td>\n",
       "      <td>0.0</td>\n",
       "      <td>1.0</td>\n",
       "      <td>0.0</td>\n",
       "      <td>0.0</td>\n",
       "      <td>0.0</td>\n",
       "    </tr>\n",
       "    <tr>\n",
       "      <th>4</th>\n",
       "      <td>0.0</td>\n",
       "      <td>1.0</td>\n",
       "      <td>0.0</td>\n",
       "      <td>1.0</td>\n",
       "      <td>0.0</td>\n",
       "      <td>0.0</td>\n",
       "      <td>0.0</td>\n",
       "      <td>0.0</td>\n",
       "    </tr>\n",
       "    <tr>\n",
       "      <th>...</th>\n",
       "      <td>...</td>\n",
       "      <td>...</td>\n",
       "      <td>...</td>\n",
       "      <td>...</td>\n",
       "      <td>...</td>\n",
       "      <td>...</td>\n",
       "      <td>...</td>\n",
       "      <td>...</td>\n",
       "    </tr>\n",
       "    <tr>\n",
       "      <th>5955</th>\n",
       "      <td>1.0</td>\n",
       "      <td>0.0</td>\n",
       "      <td>0.0</td>\n",
       "      <td>0.0</td>\n",
       "      <td>1.0</td>\n",
       "      <td>0.0</td>\n",
       "      <td>0.0</td>\n",
       "      <td>0.0</td>\n",
       "    </tr>\n",
       "    <tr>\n",
       "      <th>5956</th>\n",
       "      <td>1.0</td>\n",
       "      <td>0.0</td>\n",
       "      <td>0.0</td>\n",
       "      <td>0.0</td>\n",
       "      <td>1.0</td>\n",
       "      <td>0.0</td>\n",
       "      <td>0.0</td>\n",
       "      <td>0.0</td>\n",
       "    </tr>\n",
       "    <tr>\n",
       "      <th>5957</th>\n",
       "      <td>1.0</td>\n",
       "      <td>0.0</td>\n",
       "      <td>0.0</td>\n",
       "      <td>0.0</td>\n",
       "      <td>1.0</td>\n",
       "      <td>0.0</td>\n",
       "      <td>0.0</td>\n",
       "      <td>0.0</td>\n",
       "    </tr>\n",
       "    <tr>\n",
       "      <th>5958</th>\n",
       "      <td>1.0</td>\n",
       "      <td>0.0</td>\n",
       "      <td>0.0</td>\n",
       "      <td>0.0</td>\n",
       "      <td>1.0</td>\n",
       "      <td>0.0</td>\n",
       "      <td>0.0</td>\n",
       "      <td>0.0</td>\n",
       "    </tr>\n",
       "    <tr>\n",
       "      <th>5959</th>\n",
       "      <td>1.0</td>\n",
       "      <td>0.0</td>\n",
       "      <td>0.0</td>\n",
       "      <td>0.0</td>\n",
       "      <td>1.0</td>\n",
       "      <td>0.0</td>\n",
       "      <td>0.0</td>\n",
       "      <td>0.0</td>\n",
       "    </tr>\n",
       "  </tbody>\n",
       "</table>\n",
       "<p>5960 rows × 8 columns</p>\n",
       "</div>"
      ],
      "text/plain": [
       "      DebtCon  HomeImp  Mgr  Office  Other  ProfExe  Sales  Self\n",
       "0         0.0      1.0  0.0     0.0    1.0      0.0    0.0   0.0\n",
       "1         0.0      1.0  0.0     0.0    1.0      0.0    0.0   0.0\n",
       "2         0.0      1.0  0.0     0.0    1.0      0.0    0.0   0.0\n",
       "3         1.0      0.0  0.0     0.0    1.0      0.0    0.0   0.0\n",
       "4         0.0      1.0  0.0     1.0    0.0      0.0    0.0   0.0\n",
       "...       ...      ...  ...     ...    ...      ...    ...   ...\n",
       "5955      1.0      0.0  0.0     0.0    1.0      0.0    0.0   0.0\n",
       "5956      1.0      0.0  0.0     0.0    1.0      0.0    0.0   0.0\n",
       "5957      1.0      0.0  0.0     0.0    1.0      0.0    0.0   0.0\n",
       "5958      1.0      0.0  0.0     0.0    1.0      0.0    0.0   0.0\n",
       "5959      1.0      0.0  0.0     0.0    1.0      0.0    0.0   0.0\n",
       "\n",
       "[5960 rows x 8 columns]"
      ]
     },
     "execution_count": 13,
     "metadata": {},
     "output_type": "execute_result"
    }
   ],
   "source": [
    "encoder = OneHotEncoder()\n",
    "encoder.fit(categorical_imputed)\n",
    "categorical_encoded = encoder.transform(categorical_imputed)\n",
    "\n",
    "categories = list(np.hstack(encoder.categories_, ))\n",
    "categories\n",
    "\n",
    "# print(categorical_encoded.toarray())\n",
    "df_categorical_encoded = pd.DataFrame(data=categorical_encoded.toarray(), columns=categories)\n",
    "df_categorical_encoded.info()\n",
    "df_categorical_encoded"
   ]
  },
  {
   "cell_type": "markdown",
   "metadata": {},
   "source": [
    "### ABT"
   ]
  },
  {
   "cell_type": "code",
   "execution_count": 14,
   "metadata": {},
   "outputs": [
    {
     "data": {
      "text/html": [
       "<div>\n",
       "<style scoped>\n",
       "    .dataframe tbody tr th:only-of-type {\n",
       "        vertical-align: middle;\n",
       "    }\n",
       "\n",
       "    .dataframe tbody tr th {\n",
       "        vertical-align: top;\n",
       "    }\n",
       "\n",
       "    .dataframe thead th {\n",
       "        text-align: right;\n",
       "    }\n",
       "</style>\n",
       "<table border=\"1\" class=\"dataframe\">\n",
       "  <thead>\n",
       "    <tr style=\"text-align: right;\">\n",
       "      <th></th>\n",
       "      <th>BAD</th>\n",
       "      <th>LOAN</th>\n",
       "      <th>MORTDUE</th>\n",
       "      <th>VALUE</th>\n",
       "      <th>YOJ</th>\n",
       "      <th>DEROG</th>\n",
       "      <th>DELINQ</th>\n",
       "      <th>CLAGE</th>\n",
       "      <th>NINQ</th>\n",
       "      <th>CLNO</th>\n",
       "      <th>DEBTINC</th>\n",
       "      <th>DebtCon</th>\n",
       "      <th>HomeImp</th>\n",
       "      <th>Mgr</th>\n",
       "      <th>Office</th>\n",
       "      <th>Other</th>\n",
       "      <th>ProfExe</th>\n",
       "      <th>Sales</th>\n",
       "      <th>Self</th>\n",
       "    </tr>\n",
       "  </thead>\n",
       "  <tbody>\n",
       "    <tr>\n",
       "      <th>0</th>\n",
       "      <td>1</td>\n",
       "      <td>1100.0</td>\n",
       "      <td>25860.000000</td>\n",
       "      <td>39025.000000</td>\n",
       "      <td>10.500000</td>\n",
       "      <td>0.00000</td>\n",
       "      <td>0.000000</td>\n",
       "      <td>94.366669</td>\n",
       "      <td>1.000000</td>\n",
       "      <td>9.000000</td>\n",
       "      <td>33.779915</td>\n",
       "      <td>0.0</td>\n",
       "      <td>1.0</td>\n",
       "      <td>0.0</td>\n",
       "      <td>0.0</td>\n",
       "      <td>1.0</td>\n",
       "      <td>0.0</td>\n",
       "      <td>0.0</td>\n",
       "      <td>0.0</td>\n",
       "    </tr>\n",
       "    <tr>\n",
       "      <th>1</th>\n",
       "      <td>1</td>\n",
       "      <td>1300.0</td>\n",
       "      <td>70053.000000</td>\n",
       "      <td>68400.000000</td>\n",
       "      <td>7.000000</td>\n",
       "      <td>0.00000</td>\n",
       "      <td>2.000000</td>\n",
       "      <td>121.833336</td>\n",
       "      <td>0.000000</td>\n",
       "      <td>14.000000</td>\n",
       "      <td>33.779915</td>\n",
       "      <td>0.0</td>\n",
       "      <td>1.0</td>\n",
       "      <td>0.0</td>\n",
       "      <td>0.0</td>\n",
       "      <td>1.0</td>\n",
       "      <td>0.0</td>\n",
       "      <td>0.0</td>\n",
       "      <td>0.0</td>\n",
       "    </tr>\n",
       "    <tr>\n",
       "      <th>2</th>\n",
       "      <td>1</td>\n",
       "      <td>1500.0</td>\n",
       "      <td>13500.000000</td>\n",
       "      <td>16700.000000</td>\n",
       "      <td>4.000000</td>\n",
       "      <td>0.00000</td>\n",
       "      <td>0.000000</td>\n",
       "      <td>149.466660</td>\n",
       "      <td>1.000000</td>\n",
       "      <td>10.000000</td>\n",
       "      <td>33.779915</td>\n",
       "      <td>0.0</td>\n",
       "      <td>1.0</td>\n",
       "      <td>0.0</td>\n",
       "      <td>0.0</td>\n",
       "      <td>1.0</td>\n",
       "      <td>0.0</td>\n",
       "      <td>0.0</td>\n",
       "      <td>0.0</td>\n",
       "    </tr>\n",
       "    <tr>\n",
       "      <th>3</th>\n",
       "      <td>1</td>\n",
       "      <td>1500.0</td>\n",
       "      <td>73760.817199</td>\n",
       "      <td>101776.048741</td>\n",
       "      <td>8.922268</td>\n",
       "      <td>0.25457</td>\n",
       "      <td>0.449442</td>\n",
       "      <td>179.766275</td>\n",
       "      <td>1.186055</td>\n",
       "      <td>21.296096</td>\n",
       "      <td>33.779915</td>\n",
       "      <td>1.0</td>\n",
       "      <td>0.0</td>\n",
       "      <td>0.0</td>\n",
       "      <td>0.0</td>\n",
       "      <td>1.0</td>\n",
       "      <td>0.0</td>\n",
       "      <td>0.0</td>\n",
       "      <td>0.0</td>\n",
       "    </tr>\n",
       "    <tr>\n",
       "      <th>4</th>\n",
       "      <td>0</td>\n",
       "      <td>1700.0</td>\n",
       "      <td>97800.000000</td>\n",
       "      <td>112000.000000</td>\n",
       "      <td>3.000000</td>\n",
       "      <td>0.00000</td>\n",
       "      <td>0.000000</td>\n",
       "      <td>93.333336</td>\n",
       "      <td>0.000000</td>\n",
       "      <td>14.000000</td>\n",
       "      <td>33.779915</td>\n",
       "      <td>0.0</td>\n",
       "      <td>1.0</td>\n",
       "      <td>0.0</td>\n",
       "      <td>1.0</td>\n",
       "      <td>0.0</td>\n",
       "      <td>0.0</td>\n",
       "      <td>0.0</td>\n",
       "      <td>0.0</td>\n",
       "    </tr>\n",
       "    <tr>\n",
       "      <th>...</th>\n",
       "      <td>...</td>\n",
       "      <td>...</td>\n",
       "      <td>...</td>\n",
       "      <td>...</td>\n",
       "      <td>...</td>\n",
       "      <td>...</td>\n",
       "      <td>...</td>\n",
       "      <td>...</td>\n",
       "      <td>...</td>\n",
       "      <td>...</td>\n",
       "      <td>...</td>\n",
       "      <td>...</td>\n",
       "      <td>...</td>\n",
       "      <td>...</td>\n",
       "      <td>...</td>\n",
       "      <td>...</td>\n",
       "      <td>...</td>\n",
       "      <td>...</td>\n",
       "      <td>...</td>\n",
       "    </tr>\n",
       "    <tr>\n",
       "      <th>5955</th>\n",
       "      <td>0</td>\n",
       "      <td>89000.0</td>\n",
       "      <td>54576.000000</td>\n",
       "      <td>92937.000000</td>\n",
       "      <td>16.000000</td>\n",
       "      <td>0.00000</td>\n",
       "      <td>0.000000</td>\n",
       "      <td>208.692062</td>\n",
       "      <td>0.000000</td>\n",
       "      <td>15.000000</td>\n",
       "      <td>35.859970</td>\n",
       "      <td>1.0</td>\n",
       "      <td>0.0</td>\n",
       "      <td>0.0</td>\n",
       "      <td>0.0</td>\n",
       "      <td>1.0</td>\n",
       "      <td>0.0</td>\n",
       "      <td>0.0</td>\n",
       "      <td>0.0</td>\n",
       "    </tr>\n",
       "    <tr>\n",
       "      <th>5956</th>\n",
       "      <td>0</td>\n",
       "      <td>89200.0</td>\n",
       "      <td>54045.000000</td>\n",
       "      <td>92924.000000</td>\n",
       "      <td>15.000000</td>\n",
       "      <td>0.00000</td>\n",
       "      <td>0.000000</td>\n",
       "      <td>212.279694</td>\n",
       "      <td>0.000000</td>\n",
       "      <td>15.000000</td>\n",
       "      <td>35.556591</td>\n",
       "      <td>1.0</td>\n",
       "      <td>0.0</td>\n",
       "      <td>0.0</td>\n",
       "      <td>0.0</td>\n",
       "      <td>1.0</td>\n",
       "      <td>0.0</td>\n",
       "      <td>0.0</td>\n",
       "      <td>0.0</td>\n",
       "    </tr>\n",
       "    <tr>\n",
       "      <th>5957</th>\n",
       "      <td>0</td>\n",
       "      <td>89800.0</td>\n",
       "      <td>50370.000000</td>\n",
       "      <td>91861.000000</td>\n",
       "      <td>14.000000</td>\n",
       "      <td>0.00000</td>\n",
       "      <td>0.000000</td>\n",
       "      <td>213.892715</td>\n",
       "      <td>0.000000</td>\n",
       "      <td>16.000000</td>\n",
       "      <td>34.340881</td>\n",
       "      <td>1.0</td>\n",
       "      <td>0.0</td>\n",
       "      <td>0.0</td>\n",
       "      <td>0.0</td>\n",
       "      <td>1.0</td>\n",
       "      <td>0.0</td>\n",
       "      <td>0.0</td>\n",
       "      <td>0.0</td>\n",
       "    </tr>\n",
       "    <tr>\n",
       "      <th>5958</th>\n",
       "      <td>0</td>\n",
       "      <td>88900.0</td>\n",
       "      <td>48919.000000</td>\n",
       "      <td>93371.000000</td>\n",
       "      <td>15.000000</td>\n",
       "      <td>0.00000</td>\n",
       "      <td>1.000000</td>\n",
       "      <td>205.650162</td>\n",
       "      <td>0.000000</td>\n",
       "      <td>15.000000</td>\n",
       "      <td>34.818260</td>\n",
       "      <td>1.0</td>\n",
       "      <td>0.0</td>\n",
       "      <td>0.0</td>\n",
       "      <td>0.0</td>\n",
       "      <td>1.0</td>\n",
       "      <td>0.0</td>\n",
       "      <td>0.0</td>\n",
       "      <td>0.0</td>\n",
       "    </tr>\n",
       "    <tr>\n",
       "      <th>5959</th>\n",
       "      <td>0</td>\n",
       "      <td>89900.0</td>\n",
       "      <td>48811.000000</td>\n",
       "      <td>88934.000000</td>\n",
       "      <td>15.000000</td>\n",
       "      <td>0.00000</td>\n",
       "      <td>0.000000</td>\n",
       "      <td>219.600998</td>\n",
       "      <td>0.000000</td>\n",
       "      <td>16.000000</td>\n",
       "      <td>34.571518</td>\n",
       "      <td>1.0</td>\n",
       "      <td>0.0</td>\n",
       "      <td>0.0</td>\n",
       "      <td>0.0</td>\n",
       "      <td>1.0</td>\n",
       "      <td>0.0</td>\n",
       "      <td>0.0</td>\n",
       "      <td>0.0</td>\n",
       "    </tr>\n",
       "  </tbody>\n",
       "</table>\n",
       "<p>5960 rows × 19 columns</p>\n",
       "</div>"
      ],
      "text/plain": [
       "     BAD     LOAN       MORTDUE          VALUE        YOJ    DEROG    DELINQ  \\\n",
       "0      1   1100.0  25860.000000   39025.000000  10.500000  0.00000  0.000000   \n",
       "1      1   1300.0  70053.000000   68400.000000   7.000000  0.00000  2.000000   \n",
       "2      1   1500.0  13500.000000   16700.000000   4.000000  0.00000  0.000000   \n",
       "3      1   1500.0  73760.817199  101776.048741   8.922268  0.25457  0.449442   \n",
       "4      0   1700.0  97800.000000  112000.000000   3.000000  0.00000  0.000000   \n",
       "...   ..      ...           ...            ...        ...      ...       ...   \n",
       "5955   0  89000.0  54576.000000   92937.000000  16.000000  0.00000  0.000000   \n",
       "5956   0  89200.0  54045.000000   92924.000000  15.000000  0.00000  0.000000   \n",
       "5957   0  89800.0  50370.000000   91861.000000  14.000000  0.00000  0.000000   \n",
       "5958   0  88900.0  48919.000000   93371.000000  15.000000  0.00000  1.000000   \n",
       "5959   0  89900.0  48811.000000   88934.000000  15.000000  0.00000  0.000000   \n",
       "\n",
       "           CLAGE      NINQ       CLNO    DEBTINC  DebtCon  HomeImp  Mgr  \\\n",
       "0      94.366669  1.000000   9.000000  33.779915      0.0      1.0  0.0   \n",
       "1     121.833336  0.000000  14.000000  33.779915      0.0      1.0  0.0   \n",
       "2     149.466660  1.000000  10.000000  33.779915      0.0      1.0  0.0   \n",
       "3     179.766275  1.186055  21.296096  33.779915      1.0      0.0  0.0   \n",
       "4      93.333336  0.000000  14.000000  33.779915      0.0      1.0  0.0   \n",
       "...          ...       ...        ...        ...      ...      ...  ...   \n",
       "5955  208.692062  0.000000  15.000000  35.859970      1.0      0.0  0.0   \n",
       "5956  212.279694  0.000000  15.000000  35.556591      1.0      0.0  0.0   \n",
       "5957  213.892715  0.000000  16.000000  34.340881      1.0      0.0  0.0   \n",
       "5958  205.650162  0.000000  15.000000  34.818260      1.0      0.0  0.0   \n",
       "5959  219.600998  0.000000  16.000000  34.571518      1.0      0.0  0.0   \n",
       "\n",
       "      Office  Other  ProfExe  Sales  Self  \n",
       "0        0.0    1.0      0.0    0.0   0.0  \n",
       "1        0.0    1.0      0.0    0.0   0.0  \n",
       "2        0.0    1.0      0.0    0.0   0.0  \n",
       "3        0.0    1.0      0.0    0.0   0.0  \n",
       "4        1.0    0.0      0.0    0.0   0.0  \n",
       "...      ...    ...      ...    ...   ...  \n",
       "5955     0.0    1.0      0.0    0.0   0.0  \n",
       "5956     0.0    1.0      0.0    0.0   0.0  \n",
       "5957     0.0    1.0      0.0    0.0   0.0  \n",
       "5958     0.0    1.0      0.0    0.0   0.0  \n",
       "5959     0.0    1.0      0.0    0.0   0.0  \n",
       "\n",
       "[5960 rows x 19 columns]"
      ]
     },
     "execution_count": 14,
     "metadata": {},
     "output_type": "execute_result"
    }
   ],
   "source": [
    "abt = pd.concat([df[target], df_numerical_imputed, df_categorical_encoded], axis=1)\n",
    "abt\n"
   ]
  },
  {
   "cell_type": "code",
   "execution_count": 15,
   "metadata": {},
   "outputs": [
    {
     "name": "stdout",
     "output_type": "stream",
     "text": [
      "<class 'pandas.core.frame.DataFrame'>\n",
      "Int64Index: 5960 entries, 0 to 5959\n",
      "Data columns (total 19 columns):\n",
      "BAD        5960 non-null category\n",
      "LOAN       5960 non-null float64\n",
      "MORTDUE    5960 non-null float64\n",
      "VALUE      5960 non-null float64\n",
      "YOJ        5960 non-null float64\n",
      "DEROG      5960 non-null float64\n",
      "DELINQ     5960 non-null float64\n",
      "CLAGE      5960 non-null float64\n",
      "NINQ       5960 non-null float64\n",
      "CLNO       5960 non-null float64\n",
      "DEBTINC    5960 non-null float64\n",
      "DebtCon    5960 non-null float64\n",
      "HomeImp    5960 non-null float64\n",
      "Mgr        5960 non-null float64\n",
      "Office     5960 non-null float64\n",
      "Other      5960 non-null float64\n",
      "ProfExe    5960 non-null float64\n",
      "Sales      5960 non-null float64\n",
      "Self       5960 non-null float64\n",
      "dtypes: category(1), float64(18)\n",
      "memory usage: 890.6 KB\n"
     ]
    }
   ],
   "source": [
    "abt.info()"
   ]
  },
  {
   "cell_type": "markdown",
   "metadata": {},
   "source": [
    "## Model Development"
   ]
  },
  {
   "cell_type": "code",
   "execution_count": 16,
   "metadata": {},
   "outputs": [],
   "source": [
    "X_train, X_test, y_train, y_test = model_selection.train_test_split(abt[abt.columns.difference(target)], \n",
    "                                                                    abt[target], \n",
    "                                                                    test_size=0.33, random_state=27513)"
   ]
  },
  {
   "cell_type": "markdown",
   "metadata": {},
   "source": [
    "## Look at traditional models..."
   ]
  },
  {
   "cell_type": "code",
   "execution_count": 17,
   "metadata": {},
   "outputs": [],
   "source": [
    "from sklearn.linear_model import LogisticRegression\n",
    "from sklearn.tree import DecisionTreeClassifier\n",
    "from sklearn.ensemble import RandomForestClassifier, GradientBoostingClassifier\n",
    "\n",
    "classifiers = [\n",
    "    LogisticRegression(),\n",
    "    DecisionTreeClassifier(),\n",
    "    RandomForestClassifier(),\n",
    "    GradientBoostingClassifier()\n",
    "    ]\n",
    "\n",
    "labels = ['Logit', 'DTree', 'RFor', 'GBoost']"
   ]
  },
  {
   "cell_type": "code",
   "execution_count": 18,
   "metadata": {},
   "outputs": [
    {
     "name": "stderr",
     "output_type": "stream",
     "text": [
      "/opt/conda/lib/python3.7/site-packages/sklearn/linear_model/logistic.py:432: FutureWarning: Default solver will be changed to 'lbfgs' in 0.22. Specify a solver to silence this warning.\n",
      "  FutureWarning)\n",
      "/opt/conda/lib/python3.7/site-packages/sklearn/ensemble/forest.py:245: FutureWarning: The default value of n_estimators will change from 10 in version 0.20 to 100 in 0.22.\n",
      "  \"10 in version 0.20 to 100 in 0.22.\", FutureWarning)\n"
     ]
    },
    {
     "name": "stdout",
     "output_type": "stream",
     "text": [
      "[{'label': 'Logit',\n",
      "  'model': LogisticRegression(C=1.0, class_weight=None, dual=False, fit_intercept=True,\n",
      "                   intercept_scaling=1, l1_ratio=None, max_iter=100,\n",
      "                   multi_class='warn', n_jobs=None, penalty='l2',\n",
      "                   random_state=None, solver='warn', tol=0.0001, verbose=0,\n",
      "                   warm_start=False)},\n",
      " {'label': 'DTree',\n",
      "  'model': DecisionTreeClassifier(class_weight=None, criterion='gini', max_depth=None,\n",
      "                       max_features=None, max_leaf_nodes=None,\n",
      "                       min_impurity_decrease=0.0, min_impurity_split=None,\n",
      "                       min_samples_leaf=1, min_samples_split=2,\n",
      "                       min_weight_fraction_leaf=0.0, presort=False,\n",
      "                       random_state=None, splitter='best')},\n",
      " {'label': 'RFor',\n",
      "  'model': RandomForestClassifier(bootstrap=True, class_weight=None, criterion='gini',\n",
      "                       max_depth=None, max_features='auto', max_leaf_nodes=None,\n",
      "                       min_impurity_decrease=0.0, min_impurity_split=None,\n",
      "                       min_samples_leaf=1, min_samples_split=2,\n",
      "                       min_weight_fraction_leaf=0.0, n_estimators=10,\n",
      "                       n_jobs=None, oob_score=False, random_state=None,\n",
      "                       verbose=0, warm_start=False)},\n",
      " {'label': 'GBoost',\n",
      "  'model': GradientBoostingClassifier(criterion='friedman_mse', init=None,\n",
      "                           learning_rate=0.1, loss='deviance', max_depth=3,\n",
      "                           max_features=None, max_leaf_nodes=None,\n",
      "                           min_impurity_decrease=0.0, min_impurity_split=None,\n",
      "                           min_samples_leaf=1, min_samples_split=2,\n",
      "                           min_weight_fraction_leaf=0.0, n_estimators=100,\n",
      "                           n_iter_no_change=None, presort='auto',\n",
      "                           random_state=None, subsample=1.0, tol=0.0001,\n",
      "                           validation_fraction=0.1, verbose=0,\n",
      "                           warm_start=False)}]\n"
     ]
    }
   ],
   "source": [
    "models = []\n",
    "models_dic = {}\n",
    "\n",
    "for label, classifier in zip(labels, classifiers):\n",
    "    model = classifier.fit(X_train, y_train.values.ravel())\n",
    "    models_dic = {'label': label, 'model': model}\n",
    "    models.append(models_dic)\n",
    "\n",
    "pprint.pprint(models)"
   ]
  },
  {
   "cell_type": "code",
   "execution_count": 19,
   "metadata": {},
   "outputs": [
    {
     "name": "stdout",
     "output_type": "stream",
     "text": [
      "Misclassification Rates\n",
      "Logit : 0.17996949669547535\n",
      "DTree : 0.1204880528723945\n",
      "RFor : 0.09252669039145911\n",
      "GBoost : 0.08998474834773762\n"
     ]
    }
   ],
   "source": [
    "print('Misclassification Rates')\n",
    "for m in models:\n",
    "    dt_misclassification = 1 - metrics.accuracy_score(y_test, m['model'].predict(X_test))\n",
    "    print('{} :'.format(m['label']), dt_misclassification)"
   ]
  },
  {
   "cell_type": "code",
   "execution_count": 20,
   "metadata": {},
   "outputs": [
    {
     "data": {
      "image/png": "[encoded data removed]",
      "text/plain": [
       "<Figure size 504x360 with 1 Axes>"
      ]
     },
     "metadata": {
      "needs_background": "light"
     },
     "output_type": "display_data"
    }
   ],
   "source": [
    "plt.figure(figsize = (7, 5))\n",
    "for m in models:\n",
    "    model = m['model']\n",
    "    fpr, tpr, thresholds = metrics.roc_curve(y_test, model.predict_proba(X_test)[:,1])\n",
    "    auc = metrics.roc_auc_score(y_test,model.predict(X_test))\n",
    "    plt.plot(fpr, tpr, label='%s ROC (area = %0.2f)' % (m['label'], auc))\n",
    "plt.plot([0, 1], [0, 1],'r--')\n",
    "plt.xlim([0.0, 1.0])\n",
    "plt.ylim([0.0, 1.05])\n",
    "plt.xlabel('False Postive Rate')\n",
    "plt.ylabel('True Positive Rate')\n",
    "plt.title('ROC Curve (using validation data)')\n",
    "plt.legend(loc=\"lower right\")\n",
    "plt.show()"
   ]
  },
  {
   "cell_type": "code",
   "execution_count": 21,
   "metadata": {},
   "outputs": [],
   "source": [
    "del_models = ['Logit', 'DTree']\n",
    "\n",
    "for model_dict in models:\n",
    "    if model_dict['label'] in del_models:\n",
    "        models.remove(model_dict)"
   ]
  },
  {
   "cell_type": "markdown",
   "metadata": {},
   "source": [
    "## Model Assessment"
   ]
  },
  {
   "cell_type": "code",
   "execution_count": 22,
   "metadata": {},
   "outputs": [
    {
     "name": "stdout",
     "output_type": "stream",
     "text": [
      "[0]\tvalidation_0-error:0.118708\tvalidation_0-logloss:0.632926\tvalidation_1-error:0.11032\tvalidation_1-logloss:0.63152\n",
      "Multiple eval metrics have been passed: 'validation_1-logloss' will be used for early stopping.\n",
      "\n",
      "Will train until validation_1-logloss hasn't improved in 10 rounds.\n",
      "[1]\tvalidation_0-error:0.128725\tvalidation_0-logloss:0.589832\tvalidation_1-error:0.127605\tvalidation_1-logloss:0.589081\n",
      "[2]\tvalidation_0-error:0.122214\tvalidation_0-logloss:0.54709\tvalidation_1-error:0.114896\tvalidation_1-logloss:0.544502\n",
      "[3]\tvalidation_0-error:0.116203\tvalidation_0-logloss:0.51257\tvalidation_1-error:0.113371\tvalidation_1-logloss:0.509829\n",
      "[4]\tvalidation_0-error:0.116704\tvalidation_0-logloss:0.482234\tvalidation_1-error:0.105236\tvalidation_1-logloss:0.478549\n",
      "[5]\tvalidation_0-error:0.122965\tvalidation_0-logloss:0.459565\tvalidation_1-error:0.120488\tvalidation_1-logloss:0.456959\n",
      "[6]\tvalidation_0-error:0.123216\tvalidation_0-logloss:0.437603\tvalidation_1-error:0.120996\tvalidation_1-logloss:0.435859\n",
      "[7]\tvalidation_0-error:0.121463\tvalidation_0-logloss:0.419856\tvalidation_1-error:0.118455\tvalidation_1-logloss:0.417503\n",
      "[8]\tvalidation_0-error:0.120461\tvalidation_0-logloss:0.401906\tvalidation_1-error:0.108287\tvalidation_1-logloss:0.399555\n",
      "[9]\tvalidation_0-error:0.114701\tvalidation_0-logloss:0.387397\tvalidation_1-error:0.10727\tvalidation_1-logloss:0.385329\n",
      "[10]\tvalidation_0-error:0.111695\tvalidation_0-logloss:0.372926\tvalidation_1-error:0.101169\tvalidation_1-logloss:0.37133\n",
      "[11]\tvalidation_0-error:0.113449\tvalidation_0-logloss:0.362016\tvalidation_1-error:0.105745\tvalidation_1-logloss:0.361396\n",
      "[12]\tvalidation_0-error:0.111946\tvalidation_0-logloss:0.35088\tvalidation_1-error:0.10422\tvalidation_1-logloss:0.350536\n",
      "[13]\tvalidation_0-error:0.111195\tvalidation_0-logloss:0.341514\tvalidation_1-error:0.101169\tvalidation_1-logloss:0.340931\n",
      "[14]\tvalidation_0-error:0.110944\tvalidation_0-logloss:0.332374\tvalidation_1-error:0.100661\tvalidation_1-logloss:0.332341\n"
     ]
    },
    {
     "name": "stderr",
     "output_type": "stream",
     "text": [
      "/opt/conda/lib/python3.7/site-packages/sklearn/preprocessing/label.py:252: DataConversionWarning: A column-vector y was passed when a 1d array was expected. Please change the shape of y to (n_samples, ), for example using ravel().\n",
      "  y = column_or_1d(y, warn=True)\n"
     ]
    },
    {
     "name": "stdout",
     "output_type": "stream",
     "text": [
      "[15]\tvalidation_0-error:0.109942\tvalidation_0-logloss:0.325463\tvalidation_1-error:0.100661\tvalidation_1-logloss:0.325786\n",
      "[16]\tvalidation_0-error:0.108941\tvalidation_0-logloss:0.317579\tvalidation_1-error:0.098627\tvalidation_1-logloss:0.317841\n",
      "[17]\tvalidation_0-error:0.109692\tvalidation_0-logloss:0.311061\tvalidation_1-error:0.099644\tvalidation_1-logloss:0.31158\n",
      "[18]\tvalidation_0-error:0.107939\tvalidation_0-logloss:0.305378\tvalidation_1-error:0.100153\tvalidation_1-logloss:0.306911\n",
      "[19]\tvalidation_0-error:0.105435\tvalidation_0-logloss:0.300127\tvalidation_1-error:0.097611\tvalidation_1-logloss:0.303073\n",
      "[20]\tvalidation_0-error:0.103431\tvalidation_0-logloss:0.295475\tvalidation_1-error:0.101169\tvalidation_1-logloss:0.299715\n",
      "[21]\tvalidation_0-error:0.104934\tvalidation_0-logloss:0.290779\tvalidation_1-error:0.098627\tvalidation_1-logloss:0.295521\n",
      "[22]\tvalidation_0-error:0.103431\tvalidation_0-logloss:0.286629\tvalidation_1-error:0.098119\tvalidation_1-logloss:0.291847\n",
      "[23]\tvalidation_0-error:0.10293\tvalidation_0-logloss:0.282602\tvalidation_1-error:0.098119\tvalidation_1-logloss:0.289031\n",
      "[24]\tvalidation_0-error:0.102429\tvalidation_0-logloss:0.278528\tvalidation_1-error:0.097611\tvalidation_1-logloss:0.285316\n",
      "[25]\tvalidation_0-error:0.102429\tvalidation_0-logloss:0.275243\tvalidation_1-error:0.097611\tvalidation_1-logloss:0.282361\n",
      "[26]\tvalidation_0-error:0.102429\tvalidation_0-logloss:0.271523\tvalidation_1-error:0.097611\tvalidation_1-logloss:0.278744\n",
      "[27]\tvalidation_0-error:0.100927\tvalidation_0-logloss:0.268343\tvalidation_1-error:0.097611\tvalidation_1-logloss:0.27604\n",
      "[28]\tvalidation_0-error:0.101177\tvalidation_0-logloss:0.266075\tvalidation_1-error:0.097102\tvalidation_1-logloss:0.274343\n",
      "[29]\tvalidation_0-error:0.100927\tvalidation_0-logloss:0.263223\tvalidation_1-error:0.096594\tvalidation_1-logloss:0.272437\n",
      "[30]\tvalidation_0-error:0.100426\tvalidation_0-logloss:0.260247\tvalidation_1-error:0.093543\tvalidation_1-logloss:0.270583\n",
      "[31]\tvalidation_0-error:0.099174\tvalidation_0-logloss:0.25779\tvalidation_1-error:0.094052\tvalidation_1-logloss:0.268488\n",
      "[32]\tvalidation_0-error:0.099424\tvalidation_0-logloss:0.255394\tvalidation_1-error:0.09456\tvalidation_1-logloss:0.267031\n",
      "[33]\tvalidation_0-error:0.098172\tvalidation_0-logloss:0.253088\tvalidation_1-error:0.095069\tvalidation_1-logloss:0.26543\n",
      "[34]\tvalidation_0-error:0.097921\tvalidation_0-logloss:0.251337\tvalidation_1-error:0.096085\tvalidation_1-logloss:0.263772\n",
      "[35]\tvalidation_0-error:0.09742\tvalidation_0-logloss:0.248702\tvalidation_1-error:0.098119\tvalidation_1-logloss:0.262541\n",
      "[36]\tvalidation_0-error:0.096669\tvalidation_0-logloss:0.246486\tvalidation_1-error:0.097102\tvalidation_1-logloss:0.261495\n",
      "[37]\tvalidation_0-error:0.093914\tvalidation_0-logloss:0.244077\tvalidation_1-error:0.096594\tvalidation_1-logloss:0.259594\n",
      "[38]\tvalidation_0-error:0.093413\tvalidation_0-logloss:0.241923\tvalidation_1-error:0.094052\tvalidation_1-logloss:0.258373\n",
      "[39]\tvalidation_0-error:0.092913\tvalidation_0-logloss:0.240121\tvalidation_1-error:0.092527\tvalidation_1-logloss:0.257101\n",
      "[40]\tvalidation_0-error:0.090909\tvalidation_0-logloss:0.238049\tvalidation_1-error:0.09151\tvalidation_1-logloss:0.25522\n",
      "[41]\tvalidation_0-error:0.09141\tvalidation_0-logloss:0.236599\tvalidation_1-error:0.09151\tvalidation_1-logloss:0.254279\n",
      "[42]\tvalidation_0-error:0.09116\tvalidation_0-logloss:0.234936\tvalidation_1-error:0.093035\tvalidation_1-logloss:0.253389\n",
      "[43]\tvalidation_0-error:0.090158\tvalidation_0-logloss:0.233582\tvalidation_1-error:0.093035\tvalidation_1-logloss:0.252643\n",
      "[44]\tvalidation_0-error:0.089907\tvalidation_0-logloss:0.231736\tvalidation_1-error:0.092018\tvalidation_1-logloss:0.251374\n",
      "[45]\tvalidation_0-error:0.088405\tvalidation_0-logloss:0.230002\tvalidation_1-error:0.091002\tvalidation_1-logloss:0.250231\n",
      "[46]\tvalidation_0-error:0.088405\tvalidation_0-logloss:0.228915\tvalidation_1-error:0.089985\tvalidation_1-logloss:0.249332\n",
      "[47]\tvalidation_0-error:0.088405\tvalidation_0-logloss:0.228056\tvalidation_1-error:0.093543\tvalidation_1-logloss:0.248961\n",
      "[48]\tvalidation_0-error:0.086401\tvalidation_0-logloss:0.226248\tvalidation_1-error:0.093035\tvalidation_1-logloss:0.247535\n",
      "[49]\tvalidation_0-error:0.085149\tvalidation_0-logloss:0.224758\tvalidation_1-error:0.093035\tvalidation_1-logloss:0.247044\n",
      "[50]\tvalidation_0-error:0.084648\tvalidation_0-logloss:0.223735\tvalidation_1-error:0.09151\tvalidation_1-logloss:0.246223\n",
      "[51]\tvalidation_0-error:0.084648\tvalidation_0-logloss:0.222578\tvalidation_1-error:0.09151\tvalidation_1-logloss:0.245325\n",
      "[52]\tvalidation_0-error:0.084147\tvalidation_0-logloss:0.221169\tvalidation_1-error:0.089985\tvalidation_1-logloss:0.244333\n",
      "[53]\tvalidation_0-error:0.083646\tvalidation_0-logloss:0.220156\tvalidation_1-error:0.089476\tvalidation_1-logloss:0.243734\n",
      "[54]\tvalidation_0-error:0.083897\tvalidation_0-logloss:0.219322\tvalidation_1-error:0.089476\tvalidation_1-logloss:0.242989\n",
      "[55]\tvalidation_0-error:0.083146\tvalidation_0-logloss:0.218534\tvalidation_1-error:0.089985\tvalidation_1-logloss:0.242711\n",
      "[56]\tvalidation_0-error:0.083897\tvalidation_0-logloss:0.217382\tvalidation_1-error:0.091002\tvalidation_1-logloss:0.242104\n",
      "[57]\tvalidation_0-error:0.084398\tvalidation_0-logloss:0.215646\tvalidation_1-error:0.092527\tvalidation_1-logloss:0.241005\n",
      "[58]\tvalidation_0-error:0.083146\tvalidation_0-logloss:0.215001\tvalidation_1-error:0.092018\tvalidation_1-logloss:0.24053\n",
      "[59]\tvalidation_0-error:0.082394\tvalidation_0-logloss:0.214268\tvalidation_1-error:0.09151\tvalidation_1-logloss:0.240175\n",
      "[60]\tvalidation_0-error:0.081392\tvalidation_0-logloss:0.212887\tvalidation_1-error:0.089985\tvalidation_1-logloss:0.238796\n",
      "[61]\tvalidation_0-error:0.079639\tvalidation_0-logloss:0.21155\tvalidation_1-error:0.090493\tvalidation_1-logloss:0.237777\n",
      "[62]\tvalidation_0-error:0.07989\tvalidation_0-logloss:0.211126\tvalidation_1-error:0.091002\tvalidation_1-logloss:0.237495\n",
      "[63]\tvalidation_0-error:0.079138\tvalidation_0-logloss:0.210272\tvalidation_1-error:0.090493\tvalidation_1-logloss:0.236959\n",
      "[64]\tvalidation_0-error:0.078137\tvalidation_0-logloss:0.209167\tvalidation_1-error:0.089985\tvalidation_1-logloss:0.236771\n",
      "[65]\tvalidation_0-error:0.076885\tvalidation_0-logloss:0.207435\tvalidation_1-error:0.089985\tvalidation_1-logloss:0.236152\n",
      "[66]\tvalidation_0-error:0.077135\tvalidation_0-logloss:0.206622\tvalidation_1-error:0.08846\tvalidation_1-logloss:0.235496\n",
      "[67]\tvalidation_0-error:0.076384\tvalidation_0-logloss:0.206263\tvalidation_1-error:0.087951\tvalidation_1-logloss:0.235374\n",
      "[68]\tvalidation_0-error:0.074881\tvalidation_0-logloss:0.205173\tvalidation_1-error:0.088968\tvalidation_1-logloss:0.234357\n",
      "[69]\tvalidation_0-error:0.07413\tvalidation_0-logloss:0.203542\tvalidation_1-error:0.087951\tvalidation_1-logloss:0.233342\n",
      "[70]\tvalidation_0-error:0.073378\tvalidation_0-logloss:0.202058\tvalidation_1-error:0.087951\tvalidation_1-logloss:0.232825\n",
      "[71]\tvalidation_0-error:0.073629\tvalidation_0-logloss:0.20137\tvalidation_1-error:0.087951\tvalidation_1-logloss:0.23223\n",
      "[72]\tvalidation_0-error:0.073629\tvalidation_0-logloss:0.199452\tvalidation_1-error:0.086934\tvalidation_1-logloss:0.23097\n",
      "[73]\tvalidation_0-error:0.072878\tvalidation_0-logloss:0.198445\tvalidation_1-error:0.087443\tvalidation_1-logloss:0.230442\n",
      "[74]\tvalidation_0-error:0.073128\tvalidation_0-logloss:0.197304\tvalidation_1-error:0.086426\tvalidation_1-logloss:0.230122\n",
      "[75]\tvalidation_0-error:0.073879\tvalidation_0-logloss:0.196207\tvalidation_1-error:0.085409\tvalidation_1-logloss:0.229718\n",
      "[76]\tvalidation_0-error:0.073879\tvalidation_0-logloss:0.195959\tvalidation_1-error:0.085409\tvalidation_1-logloss:0.229553\n",
      "[77]\tvalidation_0-error:0.07438\tvalidation_0-logloss:0.195572\tvalidation_1-error:0.085409\tvalidation_1-logloss:0.229146\n",
      "[78]\tvalidation_0-error:0.075131\tvalidation_0-logloss:0.194597\tvalidation_1-error:0.084901\tvalidation_1-logloss:0.228091\n",
      "[79]\tvalidation_0-error:0.075382\tvalidation_0-logloss:0.193684\tvalidation_1-error:0.085409\tvalidation_1-logloss:0.227662\n",
      "[80]\tvalidation_0-error:0.073879\tvalidation_0-logloss:0.193134\tvalidation_1-error:0.086426\tvalidation_1-logloss:0.227599\n",
      "[81]\tvalidation_0-error:0.073629\tvalidation_0-logloss:0.192735\tvalidation_1-error:0.085409\tvalidation_1-logloss:0.227167\n",
      "[82]\tvalidation_0-error:0.072627\tvalidation_0-logloss:0.191803\tvalidation_1-error:0.086426\tvalidation_1-logloss:0.226397\n"
     ]
    },
    {
     "name": "stdout",
     "output_type": "stream",
     "text": [
      "[83]\tvalidation_0-error:0.072627\tvalidation_0-logloss:0.191003\tvalidation_1-error:0.087443\tvalidation_1-logloss:0.225936\n",
      "[84]\tvalidation_0-error:0.072627\tvalidation_0-logloss:0.189264\tvalidation_1-error:0.084901\tvalidation_1-logloss:0.224768\n",
      "[85]\tvalidation_0-error:0.071625\tvalidation_0-logloss:0.188149\tvalidation_1-error:0.085918\tvalidation_1-logloss:0.223909\n",
      "[86]\tvalidation_0-error:0.071625\tvalidation_0-logloss:0.187155\tvalidation_1-error:0.085409\tvalidation_1-logloss:0.223527\n",
      "[87]\tvalidation_0-error:0.070874\tvalidation_0-logloss:0.18629\tvalidation_1-error:0.085409\tvalidation_1-logloss:0.222896\n",
      "[88]\tvalidation_0-error:0.070624\tvalidation_0-logloss:0.185567\tvalidation_1-error:0.085409\tvalidation_1-logloss:0.222742\n",
      "[89]\tvalidation_0-error:0.069872\tvalidation_0-logloss:0.184291\tvalidation_1-error:0.087443\tvalidation_1-logloss:0.222003\n",
      "[90]\tvalidation_0-error:0.069872\tvalidation_0-logloss:0.183643\tvalidation_1-error:0.087443\tvalidation_1-logloss:0.221696\n",
      "[91]\tvalidation_0-error:0.070123\tvalidation_0-logloss:0.182895\tvalidation_1-error:0.087443\tvalidation_1-logloss:0.221384\n",
      "[92]\tvalidation_0-error:0.069371\tvalidation_0-logloss:0.181424\tvalidation_1-error:0.086934\tvalidation_1-logloss:0.220862\n",
      "[93]\tvalidation_0-error:0.068119\tvalidation_0-logloss:0.180118\tvalidation_1-error:0.085918\tvalidation_1-logloss:0.219767\n",
      "[94]\tvalidation_0-error:0.067618\tvalidation_0-logloss:0.179415\tvalidation_1-error:0.085409\tvalidation_1-logloss:0.219201\n",
      "[95]\tvalidation_0-error:0.067618\tvalidation_0-logloss:0.179235\tvalidation_1-error:0.085918\tvalidation_1-logloss:0.219073\n",
      "[96]\tvalidation_0-error:0.067368\tvalidation_0-logloss:0.178372\tvalidation_1-error:0.084901\tvalidation_1-logloss:0.218836\n",
      "[97]\tvalidation_0-error:0.066116\tvalidation_0-logloss:0.177476\tvalidation_1-error:0.085918\tvalidation_1-logloss:0.2184\n",
      "[98]\tvalidation_0-error:0.066617\tvalidation_0-logloss:0.176638\tvalidation_1-error:0.084392\tvalidation_1-logloss:0.218083\n",
      "[99]\tvalidation_0-error:0.066366\tvalidation_0-logloss:0.175711\tvalidation_1-error:0.084901\tvalidation_1-logloss:0.217867\n",
      "CPU times: user 1.37 s, sys: 76.3 ms, total: 1.44 s\n",
      "Wall time: 1.39 s\n"
     ]
    },
    {
     "data": {
      "text/plain": [
       "XGBClassifier(base_score=0.5, booster='gbtree', colsample_bylevel=1,\n",
       "              colsample_bynode=1, colsample_bytree=1, gamma=0,\n",
       "              learning_rate=0.1, max_delta_step=0, max_depth=4,\n",
       "              min_child_weight=1, missing=None, n_estimators=100, n_jobs=1,\n",
       "              nthread=None, objective='binary:logistic', random_state=0,\n",
       "              reg_alpha=0, reg_lambda=1, scale_pos_weight=1, seed=None,\n",
       "              silent=None, subsample=0.9, verbosity=1)"
      ]
     },
     "execution_count": 22,
     "metadata": {},
     "output_type": "execute_result"
    }
   ],
   "source": [
    "%%time\n",
    "\n",
    "xgb = XGBClassifier(max_depth=4,\n",
    "                        subsample=0.9,\n",
    "                        objective='binary:logistic',\n",
    "                        n_estimators=100,\n",
    "                        learning_rate = 0.1)\n",
    "eval_set = [(X_train, y_train), (X_test, y_test)]\n",
    "xgb.fit(X_train, y_train.values.ravel(), early_stopping_rounds=10,\n",
    "          eval_metric=[\"error\", \"logloss\"], eval_set=eval_set, verbose=True)"
   ]
  },
  {
   "cell_type": "code",
   "execution_count": 23,
   "metadata": {},
   "outputs": [
    {
     "name": "stdout",
     "output_type": "stream",
     "text": [
      "Misclassification Rates\n",
      " XGBoost : 0.08490086426029486\n"
     ]
    }
   ],
   "source": [
    "dt_misclassification = 1 - metrics.accuracy_score(y_test, xgb.predict(X_test))\n",
    "print('Misclassification Rates\\n', 'XGBoost :', dt_misclassification)"
   ]
  },
  {
   "cell_type": "code",
   "execution_count": 24,
   "metadata": {},
   "outputs": [
    {
     "data": {
      "image/png": "[encoded data removed]",
      "text/plain": [
       "<Figure size 432x288 with 1 Axes>"
      ]
     },
     "metadata": {
      "needs_background": "light"
     },
     "output_type": "display_data"
    },
    {
     "data": {
      "image/png": "[encoded data removed]",
      "text/plain": [
       "<Figure size 432x288 with 1 Axes>"
      ]
     },
     "metadata": {
      "needs_background": "light"
     },
     "output_type": "display_data"
    }
   ],
   "source": [
    "# retrieve performance metrics\n",
    "results = xgb.evals_result()\n",
    "epochs = len(results['validation_0']['error'])\n",
    "x_axis = range(0, epochs)\n",
    "# plot log loss\n",
    "fig, ax = plt.subplots()\n",
    "ax.plot(x_axis, results['validation_0']['logloss'], label='Train')\n",
    "ax.plot(x_axis, results['validation_1']['logloss'], label='Test')\n",
    "ax.legend()\n",
    "plt.ylabel('Log Loss')\n",
    "plt.title('XGBoost Log Loss')\n",
    "plt.show()\n",
    "# plot classification error\n",
    "fig, ax = plt.subplots()\n",
    "ax.plot(x_axis, results['validation_0']['error'], label='Train')\n",
    "ax.plot(x_axis, results['validation_1']['error'], label='Test')\n",
    "ax.legend()\n",
    "plt.ylabel('Classification Error')\n",
    "plt.title('XGBoost Classification Error')\n",
    "plt.show()\n"
   ]
  },
  {
   "cell_type": "code",
   "execution_count": 25,
   "metadata": {},
   "outputs": [],
   "source": [
    "models.append({'label': 'XGBoost','model': xgb})"
   ]
  },
  {
   "cell_type": "code",
   "execution_count": 26,
   "metadata": {},
   "outputs": [
    {
     "data": {
      "image/png": "[encoded data removed]",
      "text/plain": [
       "<Figure size 504x360 with 1 Axes>"
      ]
     },
     "metadata": {
      "needs_background": "light"
     },
     "output_type": "display_data"
    }
   ],
   "source": [
    "plt.figure(figsize = (7, 5))\n",
    "for m in models:\n",
    "    model = m['model']\n",
    "    fpr, tpr, thresholds = metrics.roc_curve(y_test, model.predict_proba(X_test)[:,1])\n",
    "    auc = metrics.roc_auc_score(y_test,model.predict(X_test))\n",
    "    plt.plot(fpr, tpr, label='%s ROC (area = %0.2f)' % (m['label'], auc))\n",
    "plt.plot([0, 1], [0, 1],'r--')\n",
    "plt.xlim([0.0, 1.0])\n",
    "plt.ylim([0.0, 1.05])\n",
    "plt.xlabel('False Postive Rate')\n",
    "plt.ylabel('True Positive Rate')\n",
    "plt.title('ROC Curve (using validation data)')\n",
    "plt.legend(loc=\"lower right\")\n",
    "plt.show()"
   ]
  },
  {
   "cell_type": "markdown",
   "metadata": {},
   "source": [
    "#### The champion model is Rfor. And the challenger is Gboost"
   ]
  },
  {
   "cell_type": "markdown",
   "metadata": {},
   "source": [
    "## Machine Learning Engineering"
   ]
  },
  {
   "cell_type": "markdown",
   "metadata": {},
   "source": [
    "### Create ML pipelines"
   ]
  },
  {
   "cell_type": "markdown",
   "metadata": {},
   "source": [
    "Notice: During the Machine Learning Enginnering be sure to simulate the production enviroment!"
   ]
  },
  {
   "cell_type": "markdown",
   "metadata": {},
   "source": [
    "# Rfor pipeline"
   ]
  },
  {
   "cell_type": "code",
   "execution_count": 27,
   "metadata": {},
   "outputs": [],
   "source": [
    "class_inputs = list(df.select_dtypes('object').columns)\n",
    "numerical_inputs = list(df.select_dtypes(include=['int64', 'float32']).columns)\n",
    "\n",
    "# Preprocessing interval variables\n",
    "numeric_transformer = Pipeline(steps=[\n",
    "    \n",
    "    ('numerical_imputer', SimpleImputer(strategy='median'))\n",
    "])\n",
    "\n",
    "# Preprocessing categorical variables\n",
    "categorical_transformer = Pipeline(steps=[\n",
    "    \n",
    "    ('categorical_imputer', SimpleImputer(strategy='most_frequent')),\n",
    "    ('encoder', OneHotEncoder(handle_unknown='ignore'))\n",
    "    \n",
    "])\n",
    "\n",
    "# Create preprocessing step\n",
    "preprocessor = ColumnTransformer(transformers=[\n",
    "    \n",
    "    ('numericals', numeric_transformer, numerical_inputs),\n",
    "    ('categoricals', categorical_transformer, class_inputs)\n",
    "\n",
    "])\n",
    "\n",
    "rfor_pipeline = Pipeline(steps=[\n",
    "    \n",
    "    ('preprocessor', preprocessor),\n",
    "    ('classifier', RandomForestClassifier())\n",
    "\n",
    "])"
   ]
  },
  {
   "cell_type": "markdown",
   "metadata": {},
   "source": [
    "## Gboost pipeline"
   ]
  },
  {
   "cell_type": "code",
   "execution_count": 28,
   "metadata": {},
   "outputs": [],
   "source": [
    "class_inputs = list(df.select_dtypes('object').columns)\n",
    "numerical_inputs = list(df.select_dtypes(include=['int64', 'float32']).columns)\n",
    "\n",
    "# Preprocessing interval variables\n",
    "numeric_transformer = Pipeline(steps=[\n",
    "    \n",
    "    ('numerical_imputer', SimpleImputer(strategy='median'))\n",
    "])\n",
    "\n",
    "# Preprocessing categorical variables\n",
    "categorical_transformer = Pipeline(steps=[\n",
    "    \n",
    "    ('categorical_imputer', SimpleImputer(strategy='most_frequent')),\n",
    "    ('encoder', OneHotEncoder(handle_unknown='ignore'))\n",
    "    \n",
    "])\n",
    "\n",
    "# Create preprocessing step\n",
    "preprocessor = ColumnTransformer(transformers=[\n",
    "    \n",
    "    ('numericals', numeric_transformer, numerical_inputs),\n",
    "    ('categoricals', categorical_transformer, class_inputs)\n",
    "\n",
    "])\n",
    "\n",
    "gboost_pipeline = Pipeline(steps=[\n",
    "    \n",
    "    ('preprocessor', preprocessor),\n",
    "    ('classifier', GradientBoostingClassifier())\n",
    "\n",
    "])"
   ]
  },
  {
   "cell_type": "markdown",
   "metadata": {},
   "source": [
    "## XGBoost pipeline"
   ]
  },
  {
   "cell_type": "code",
   "execution_count": 29,
   "metadata": {},
   "outputs": [],
   "source": [
    "class_inputs = list(df.select_dtypes('object').columns)\n",
    "numerical_inputs = list(df.select_dtypes(include=['int64', 'float32']).columns)\n",
    "\n",
    "# Preprocessing interval variables\n",
    "numeric_transformer = Pipeline(steps=[\n",
    "    \n",
    "    ('numerical_imputer', SimpleImputer(strategy='median'))\n",
    "])\n",
    "\n",
    "# Preprocessing categorical variables\n",
    "categorical_transformer = Pipeline(steps=[\n",
    "    \n",
    "    ('categorical_imputer', SimpleImputer(strategy='most_frequent')),\n",
    "    ('encoder', OneHotEncoder(handle_unknown='ignore'))\n",
    "    \n",
    "])\n",
    "\n",
    "# Create preprocessing step\n",
    "preprocessor = ColumnTransformer(transformers=[\n",
    "    \n",
    "    ('numericals', numeric_transformer, numerical_inputs),\n",
    "    ('categoricals', categorical_transformer, class_inputs)\n",
    "\n",
    "])\n",
    "\n",
    "xgb_pipeline = Pipeline(steps=[\n",
    "    \n",
    "    ('preprocessor', preprocessor),\n",
    "    ('classifier', XGBClassifier())\n",
    "\n",
    "])"
   ]
  },
  {
   "cell_type": "markdown",
   "metadata": {},
   "source": [
    "## Test fit and predict"
   ]
  },
  {
   "cell_type": "code",
   "execution_count": 30,
   "metadata": {},
   "outputs": [],
   "source": [
    "# mask = df.columns != 'BAD'\n",
    "# target = 'BAD'\n",
    "\n",
    "# Prod_X_train, Prod_X_test, Prod_y_train, Prod_y_test = model_selection.train_test_split(df.loc[:, mask], \n",
    "#                                                                     df.loc[:, target], \n",
    "#                                                                     test_size=0.33, random_state=27513)\n",
    "\n",
    "Prod_X_train, Prod_X_test, Prod_y_train, Prod_y_test = model_selection.train_test_split(df[df.columns.difference(target)], \n",
    "                                                                    df[target], \n",
    "                                                                    test_size=0.33, random_state=27513)"
   ]
  },
  {
   "cell_type": "code",
   "execution_count": 31,
   "metadata": {},
   "outputs": [
    {
     "name": "stderr",
     "output_type": "stream",
     "text": [
      "/opt/conda/lib/python3.7/site-packages/sklearn/ensemble/forest.py:245: FutureWarning: The default value of n_estimators will change from 10 in version 0.20 to 100 in 0.22.\n",
      "  \"10 in version 0.20 to 100 in 0.22.\", FutureWarning)\n",
      "/opt/conda/lib/python3.7/site-packages/sklearn/pipeline.py:356: DataConversionWarning: A column-vector y was passed when a 1d array was expected. Please change the shape of y to (n_samples,), for example using ravel().\n",
      "  self._final_estimator.fit(Xt, y, **fit_params)\n"
     ]
    },
    {
     "data": {
      "text/plain": [
       "array([[0.4, 0.6],\n",
       "       [1. , 0. ],\n",
       "       [0.5, 0.5],\n",
       "       ...,\n",
       "       [0.8, 0.2],\n",
       "       [1. , 0. ],\n",
       "       [1. , 0. ]])"
      ]
     },
     "execution_count": 31,
     "metadata": {},
     "output_type": "execute_result"
    }
   ],
   "source": [
    "rfor_pipeline.fit(Prod_X_train, Prod_y_train)\n",
    "Prod_y_predict=rfor_pipeline.predict_proba(Prod_X_test)\n",
    "# Prod_y_predict=rfor_pipeline.predict(Prod_X_test)\n",
    "Prod_y_predict"
   ]
  },
  {
   "cell_type": "code",
   "execution_count": 32,
   "metadata": {},
   "outputs": [
    {
     "data": {
      "text/plain": [
       "0.9191662430096594"
      ]
     },
     "execution_count": 32,
     "metadata": {},
     "output_type": "execute_result"
    }
   ],
   "source": [
    "rfor_pipeline.score(Prod_X_test, Prod_y_test)"
   ]
  },
  {
   "cell_type": "code",
   "execution_count": 33,
   "metadata": {},
   "outputs": [
    {
     "name": "stderr",
     "output_type": "stream",
     "text": [
      "/opt/conda/lib/python3.7/site-packages/sklearn/ensemble/gradient_boosting.py:1450: DataConversionWarning: A column-vector y was passed when a 1d array was expected. Please change the shape of y to (n_samples, ), for example using ravel().\n",
      "  y = column_or_1d(y, warn=True)\n"
     ]
    },
    {
     "data": {
      "text/plain": [
       "array([[0.53352798, 0.46647202],\n",
       "       [0.94071316, 0.05928684],\n",
       "       [0.54957969, 0.45042031],\n",
       "       ...,\n",
       "       [0.75062912, 0.24937088],\n",
       "       [0.97327314, 0.02672686],\n",
       "       [0.95702072, 0.04297928]])"
      ]
     },
     "execution_count": 33,
     "metadata": {},
     "output_type": "execute_result"
    }
   ],
   "source": [
    "gboost_pipeline.fit(Prod_X_train, Prod_y_train)\n",
    "Prod_y_predict=gboost_pipeline.predict_proba(Prod_X_test)\n",
    "Prod_y_predict"
   ]
  },
  {
   "cell_type": "code",
   "execution_count": 34,
   "metadata": {},
   "outputs": [
    {
     "data": {
      "text/plain": [
       "0.9140823589222166"
      ]
     },
     "execution_count": 34,
     "metadata": {},
     "output_type": "execute_result"
    }
   ],
   "source": [
    "gboost_pipeline.score(Prod_X_test, Prod_y_test)"
   ]
  },
  {
   "cell_type": "code",
   "execution_count": 36,
   "metadata": {},
   "outputs": [
    {
     "name": "stderr",
     "output_type": "stream",
     "text": [
      "/opt/conda/lib/python3.7/site-packages/sklearn/preprocessing/label.py:219: DataConversionWarning: A column-vector y was passed when a 1d array was expected. Please change the shape of y to (n_samples, ), for example using ravel().\n",
      "  y = column_or_1d(y, warn=True)\n",
      "/opt/conda/lib/python3.7/site-packages/sklearn/preprocessing/label.py:252: DataConversionWarning: A column-vector y was passed when a 1d array was expected. Please change the shape of y to (n_samples, ), for example using ravel().\n",
      "  y = column_or_1d(y, warn=True)\n"
     ]
    },
    {
     "data": {
      "text/plain": [
       "array([[0.4606455 , 0.5393545 ],\n",
       "       [0.9467305 , 0.05326953],\n",
       "       [0.54331553, 0.45668444],\n",
       "       ...,\n",
       "       [0.6821841 , 0.31781593],\n",
       "       [0.97048986, 0.02951015],\n",
       "       [0.9581864 , 0.04181362]], dtype=float32)"
      ]
     },
     "execution_count": 36,
     "metadata": {},
     "output_type": "execute_result"
    }
   ],
   "source": [
    "xgb_pipeline.fit(Prod_X_train, Prod_y_train)\n",
    "Prod_y_predict=xgb_pipeline.predict_proba(Prod_X_test)\n",
    "Prod_y_predict"
   ]
  },
  {
   "cell_type": "code",
   "execution_count": 37,
   "metadata": {},
   "outputs": [
    {
     "data": {
      "text/plain": [
       "0.9115404168784952"
      ]
     },
     "execution_count": 37,
     "metadata": {},
     "output_type": "execute_result"
    }
   ],
   "source": [
    "xgb_pipeline.score(Prod_X_test, Prod_y_test)"
   ]
  },
  {
   "cell_type": "markdown",
   "metadata": {},
   "source": [
    "# Model Deployment of Sklearn Random Forest"
   ]
  },
  {
   "cell_type": "markdown",
   "metadata": {},
   "source": [
    "For Model Deployment purpose, we need some files:\n",
    "\n",
    "- Required\n",
    "\n",
    "    0. requirement.txt\n",
    "    1. score.py\n",
    "    2. model.pkl\n",
    "    3. inputVar.json\n",
    "    4. outputVar.json\n",
    "    \n",
    "    \n",
    "- Optional\n",
    "    \n",
    "    5. train.py\n",
    "    6. fileMetadata.json\n",
    "    7. ModelProperties.json\n",
    "    8. dmcas_fitstat.json\n",
    "    9. dmcas_roc\n",
    "    10. dmcas_lift\n"
   ]
  },
  {
   "cell_type": "code",
   "execution_count": 38,
   "metadata": {},
   "outputs": [],
   "source": [
    "from viyapy.services import utils"
   ]
  },
  {
   "cell_type": "code",
   "execution_count": 40,
   "metadata": {},
   "outputs": [],
   "source": [
    "import zipfile\n",
    "\n",
    "def zipdir(src, dst): #take source code file and choose a destination\n",
    "    zf = zipfile.ZipFile('%s' % (dst), \"w\", zipfile.ZIP_DEFLATED) #Open zip file\n",
    "    abs_src = os.path.abspath(src) \n",
    "    for dirname, subdirs, files in os.walk(src): #generate the directory tree\n",
    "        for filename in files:\n",
    "            absname = os.path.abspath(os.path.join(dirname, filename)) \n",
    "            arcname = absname[len(abs_src) + 1:]\n",
    "            print (\"zipping %s as %s\" % (os.path.join(dirname, filename),arcname))\n",
    "            zf.write(absname, arcname),\n",
    "    zf.close()"
   ]
  },
  {
   "cell_type": "code",
   "execution_count": 41,
   "metadata": {},
   "outputs": [],
   "source": [
    "! mkdir -p experiment_rfor experiment_gboost experiment_xgboost"
   ]
  },
  {
   "cell_type": "markdown",
   "metadata": {},
   "source": [
    "## 0. requirement.txt"
   ]
  },
  {
   "cell_type": "code",
   "execution_count": 42,
   "metadata": {},
   "outputs": [
    {
     "name": "stdout",
     "output_type": "stream",
     "text": [
      "WARNING: pip is being invoked by an old script wrapper. This will fail in a future version of pip.\n",
      "Please see https://github.com/pypa/pip/issues/5599 for advice on fixing the underlying issue.\n",
      "To avoid this problem you can invoke Python with '-m pip' instead of running pip directly.\n",
      "WARNING: pip is being invoked by an old script wrapper. This will fail in a future version of pip.\n",
      "Please see https://github.com/pypa/pip/issues/5599 for advice on fixing the underlying issue.\n",
      "To avoid this problem you can invoke Python with '-m pip' instead of running pip directly.\n",
      "WARNING: pip is being invoked by an old script wrapper. This will fail in a future version of pip.\n",
      "Please see https://github.com/pypa/pip/issues/5599 for advice on fixing the underlying issue.\n",
      "To avoid this problem you can invoke Python with '-m pip' instead of running pip directly.\n"
     ]
    }
   ],
   "source": [
    "! pip freeze > ./experiment_rfor/requirement.txt\n",
    "! pip freeze > ./experiment_gboost/requirement.txt\n",
    "! pip freeze > ./experiment_xgboost/requirement.txt"
   ]
  },
  {
   "cell_type": "markdown",
   "metadata": {},
   "source": [
    "## 1. Score.py "
   ]
  },
  {
   "cell_type": "markdown",
   "metadata": {},
   "source": [
    "About the Score code, you have to put the pickle file on the Model Manager file system.\n",
    "To avoid that (for now) use the \"write binary\" method."
   ]
  },
  {
   "cell_type": "code",
   "execution_count": 43,
   "metadata": {},
   "outputs": [
    {
     "name": "stdout",
     "output_type": "stream",
     "text": [
      "Overwriting ./experiment_rfor/score.py\n"
     ]
    }
   ],
   "source": [
    "%%writefile ./experiment_rfor/score.py\n",
    "\n",
    "# If the pickle file has not specified in command-line arguments, the script\n",
    "# looks for the first pickle file in the current directory, and the script quits, if the file is not found.\n",
    "\n",
    "# The scoring script reads the input variables from the inputVar.json file, and the output variables\n",
    "# from the outputVar.json file.\n",
    "\n",
    "# The scoring script reads the input data from input CSV file and stores the output data in the CSV file.\n",
    "\n",
    "import argparse\n",
    "import os\n",
    "import os.path\n",
    "import sys\n",
    "import pandas as pd\n",
    "import joblib\n",
    "import json\n",
    "\n",
    "# Find the first file that matches the pattern.\n",
    "\n",
    "\n",
    "def find_file(suffix):\n",
    "    current_dir = os.path.dirname(os.path.abspath(__file__))\n",
    "    for file in os.listdir(current_dir):\n",
    "        if file.endswith(suffix):\n",
    "            filename = file\n",
    "            return os.path.join(current_dir, filename)\n",
    "\n",
    "    return None\n",
    "\n",
    "\n",
    "def load_var_names(filename):\n",
    "    var_file = find_file(filename)\n",
    "    if var_file is None:\n",
    "        return None\n",
    "    if os.path.isfile(var_file):\n",
    "        with open(var_file) as f:\n",
    "            json_object = json.load(f)\n",
    "\n",
    "        names = []\n",
    "        for row in json_object:\n",
    "            names.append(row[\"name\"])\n",
    "        return names\n",
    "    else:\n",
    "        print('Didnot find file: ', filename)\n",
    "        return None\n",
    "\n",
    "\n",
    "def intersection(lst1, lst2):\n",
    "    lst3 = [value for value in lst1 if value in lst2]\n",
    "    return lst3\n",
    "\n",
    "\n",
    "def load_data_by_input_vars(data):\n",
    "    names = load_var_names('inputVar.json')\n",
    "    if names is None:\n",
    "        return data\n",
    "    else:\n",
    "        newcolumns = intersection(list(data.columns), names)\n",
    "        return data[newcolumns]\n",
    "\n",
    "\n",
    "def run(model_file, input_file, output_file):\n",
    "\n",
    "    if model_file is None:\n",
    "        print('Not found Python pickle file!')\n",
    "        sys.exit()\n",
    "\n",
    "    if not os.path.isfile(input_file):\n",
    "        print('Not found input file', input_file)\n",
    "        sys.exit()\n",
    "\n",
    "    inputDf = pd.read_csv(input_file).fillna(0)\n",
    "\n",
    "    output_vars = load_var_names('outputVar.json')\n",
    "\n",
    "    in_dataf = load_data_by_input_vars(inputDf)\n",
    "\n",
    "    model = open(model_file, 'rb')\n",
    "    rfor = joblib.load(model)\n",
    "    model.close()\n",
    "\n",
    "    outputDf = pd.DataFrame(rfor.predict_proba(in_dataf))\n",
    "\n",
    "    if output_vars is None:\n",
    "        outputcols = map(lambda x: 'P_' + str(x), list(rfor.classes_))\n",
    "    else:\n",
    "        outputcols = map(lambda x: output_vars[x], list(rfor.classes_))\n",
    "    outputDf.columns = outputcols\n",
    "\n",
    "    # merge with input data\n",
    "    outputDf = pd.merge(inputDf, outputDf, how='inner',\n",
    "                        left_index=True, right_index=True)\n",
    "\n",
    "    print('printing first few lines...')\n",
    "    print(outputDf.head())\n",
    "    outputDf.to_csv(output_file, sep=',', index=False)\n",
    "    return outputDf.to_dict()\n",
    "\n",
    "\n",
    "def main():\n",
    "    # parse arguments\n",
    "    parser = argparse.ArgumentParser(description='Score')\n",
    "    parser.add_argument('-m', dest=\"modelFile\",\n",
    "                        help='model file name, the default is the first PKL file that is found in the directory')\n",
    "    parser.add_argument('-i', dest=\"scoreInputCSV\",\n",
    "                        required=True, help='input filename')\n",
    "    parser.add_argument('-o', dest=\"scoreOutputCSV\",\n",
    "                        required=True, help='output csv filename')\n",
    "\n",
    "    args = parser.parse_args()\n",
    "    model_file = args.modelFile\n",
    "    input_file = args.scoreInputCSV\n",
    "    output_file = args.scoreOutputCSV\n",
    "\n",
    "    # Search for the first PKL file in the directory if argument is not specified.\n",
    "    if model_file is None:\n",
    "        for file in os.listdir(\".\"):\n",
    "            if file.endswith(\".pickle\"):\n",
    "                model_file = file\n",
    "                break\n",
    "\n",
    "    result = run(model_file, input_file, output_file)\n",
    "    return 0\n",
    "\n",
    "\n",
    "if __name__ == \"__main__\":\n",
    "    sys.exit(main())"
   ]
  },
  {
   "cell_type": "markdown",
   "metadata": {},
   "source": [
    "## 2. model.pickle"
   ]
  },
  {
   "cell_type": "code",
   "execution_count": 44,
   "metadata": {},
   "outputs": [
    {
     "name": "stderr",
     "output_type": "stream",
     "text": [
      "/opt/conda/lib/python3.7/site-packages/sklearn/externals/joblib/__init__.py:15: DeprecationWarning: sklearn.externals.joblib is deprecated in 0.21 and will be removed in 0.23. Please import this functionality directly from joblib, which can be installed with: pip install joblib. If this warning is raised when loading pickled models, you may need to re-serialize those models with scikit-learn 0.21+.\n",
      "  warnings.warn(msg, category=DeprecationWarning)\n"
     ]
    }
   ],
   "source": [
    "from sklearn.externals import joblib\n",
    "folders = ['experiment_rfor', 'experiment_gboost', 'experiment_xgboost']\n",
    "pipes = [rfor_pipeline, gboost_pipeline, xgb_pipeline]\n",
    "pickles = ['rfor_pipeline.pickle', 'gboost_pipeline.pickle', 'xgb_pipeline.pickle']\n",
    "\n",
    "for folder, pipe, pkl in zip(folders, pipes, pickles):\n",
    "    joblib.dump(pipe, './{}/{}'.format(folder, pkl))"
   ]
  },
  {
   "cell_type": "markdown",
   "metadata": {},
   "source": [
    "## 3. ModelProperties"
   ]
  },
  {
   "cell_type": "code",
   "execution_count": 45,
   "metadata": {},
   "outputs": [],
   "source": [
    "for folder in folders: \n",
    "    utils.generate_modelproperties('experiment_xgboost', 'xgboost for hmeq',\n",
    "                                   'bad', 'gradient boosting', 1, 2, 'ivnard', folder)"
   ]
  },
  {
   "cell_type": "markdown",
   "metadata": {},
   "source": [
    "## 4. inputVar"
   ]
  },
  {
   "cell_type": "code",
   "execution_count": 46,
   "metadata": {},
   "outputs": [],
   "source": [
    "for folder in folders: \n",
    "    utils.generate_inputvar(df, 'BAD', './{}'.format(folder), debug=False)\n"
   ]
  },
  {
   "cell_type": "markdown",
   "metadata": {},
   "source": [
    "## 5. outputVar"
   ]
  },
  {
   "cell_type": "code",
   "execution_count": 47,
   "metadata": {},
   "outputs": [],
   "source": [
    " for folder in folders: \n",
    "    utils.generate_outputvar(df, 'BAD', './{}'.format(folder), debug=False)"
   ]
  },
  {
   "cell_type": "markdown",
   "metadata": {},
   "source": [
    "## 6.Train.py"
   ]
  },
  {
   "cell_type": "code",
   "execution_count": 48,
   "metadata": {},
   "outputs": [
    {
     "name": "stdout",
     "output_type": "stream",
     "text": [
      "Overwriting ./experiment_rfor/train.py\n"
     ]
    }
   ],
   "source": [
    "%%writefile ./experiment_rfor/train.py\n",
    "\n",
    "# Import Libraries #\n",
    "\n",
    "# Mongo Library\n",
    "\n",
    "import pymongo\n",
    "\n",
    "# ML libraries\n",
    "\n",
    "import numpy as np\n",
    "import pandas as pd\n",
    "\n",
    "from sklearn.preprocessing import OneHotEncoder\n",
    "from sklearn.impute import SimpleImputer\n",
    "import sklearn.model_selection as model_selection\n",
    "from sklearn.ensemble import RandomForestClassifier\n",
    "\n",
    "# Tool libraries\n",
    "import joblib\n",
    "\n",
    "# Connect to mongodb container #\n",
    "\n",
    "conn = pymongo.MongoClient('mongo', 27017)\n",
    "\n",
    "# Read data #\n",
    "\n",
    "db = conn.training\n",
    "collection = db.churn_data\n",
    "df = pd.DataFrame(list(collection.find()))\n",
    "df.drop('_id', axis=1, inplace=True)\n",
    "df.drop_duplicates(inplace=True)\n",
    "\n",
    "# Prepare Data #\n",
    "\n",
    "cols = df[df.columns.difference(['BAD', 'LOAN', 'REASON', 'JOB'])].columns\n",
    "df[cols] = df[cols].apply(pd.to_numeric, downcast='float', errors='coerce')\n",
    "df['BAD'] = df['BAD'].astype('category')\n",
    "\n",
    "# Declare Variables #\n",
    "\n",
    "# target var\n",
    "target = df.select_dtypes('category').columns\n",
    "# categorical (nominal and ordinal) variables\n",
    "class_inputs = list(df.select_dtypes('object').columns)\n",
    "# input interval variables\n",
    "numerical_inputs = list(df.select_dtypes(include=['int64', 'float32']).columns)\n",
    "inputs = class_inputs + numerical_inputs\n",
    "\n",
    "# Data engineering #\n",
    "\n",
    "# Impute missings\n",
    "\n",
    "categorical_imputer = SimpleImputer(\n",
    "    missing_values='', strategy='most_frequent')\n",
    "numerical_imputer = SimpleImputer(missing_values=np.nan, strategy='mean')\n",
    "\n",
    "# Impute categorical variables\n",
    "\n",
    "categorical_imputer.fit(df[class_inputs])\n",
    "categorical_imputed = categorical_imputer.transform(df[class_inputs])\n",
    "df_categorical_imputed = pd.DataFrame(\n",
    "    data=categorical_imputed, columns=class_inputs)\n",
    "\n",
    "# Impute numerical variables\n",
    "\n",
    "numerical_imputer.fit(df[numerical_inputs])\n",
    "numerical_imputed = numerical_imputer.transform(df[numerical_inputs])\n",
    "df_numerical_imputed = pd.DataFrame(\n",
    "    data=numerical_imputed, columns=numerical_inputs)\n",
    "\n",
    "# One-hot encoding\n",
    "\n",
    "encoder = OneHotEncoder()\n",
    "encoder.fit(categorical_imputed)\n",
    "categorical_encoded = encoder.transform(categorical_imputed)\n",
    "\n",
    "categories = list(np.hstack(encoder.categories_, ))\n",
    "df_categorical_encoded = pd.DataFrame(\n",
    "    data=categorical_encoded.toarray(), columns=categories)\n",
    "\n",
    "# ABT\n",
    "\n",
    "abt = pd.concat([df[target], df_numerical_imputed,\n",
    "                 df_categorical_encoded], axis=1)\n",
    "\n",
    "\n",
    "# Model Training #\n",
    "\n",
    "X_train, X_test, y_train, y_test = model_selection.train_test_split(abt[abt.columns.difference(target)],\n",
    "                                                                    abt[target],\n",
    "                                                                    test_size=0.33, random_state=27513)\n",
    "\n",
    "# Build Sklearn Random Forest\n",
    "rfor = RandomForestClassifier()\n",
    "rfor.fit(X_train, y_train)\n",
    "\n",
    "output = open('./experiment_rfor/rfor.pkl', 'wb')\n",
    "joblib.dump(rfor, output)\n",
    "output.close()"
   ]
  },
  {
   "cell_type": "markdown",
   "metadata": {},
   "source": [
    "## 6. dmcas_lift"
   ]
  },
  {
   "cell_type": "code",
   "execution_count": 49,
   "metadata": {},
   "outputs": [],
   "source": [
    "for folder, pipe in zip(folders, pipes):\n",
    "    utils.generate_lift(Prod_y_train, Prod_y_test, 'BAD', 1, pipe.predict_proba(Prod_X_train)[:,1], pipe.predict_proba(Prod_X_test)[:,1], folder, debug=False)"
   ]
  },
  {
   "cell_type": "markdown",
   "metadata": {},
   "source": [
    "## 7. dmcas_roc"
   ]
  },
  {
   "cell_type": "code",
   "execution_count": 50,
   "metadata": {},
   "outputs": [],
   "source": [
    "for folder, pipe in zip(folders, pipes):\n",
    "    utils.generate_roc(Prod_y_train, Prod_y_test, 'BAD', 1, pipe.predict_proba(Prod_X_train)[:,1], pipe.predict_proba(Prod_X_test)[:,1], folder, debug=False)"
   ]
  },
  {
   "cell_type": "markdown",
   "metadata": {},
   "source": [
    "## 8. dmcas_fitstat"
   ]
  },
  {
   "cell_type": "code",
   "execution_count": 51,
   "metadata": {},
   "outputs": [],
   "source": [
    "for folder, pipe in zip(folders, pipes):\n",
    "    utils.generate_fitstat(Prod_y_train, Prod_y_test, 'BAD', 1, pipe.predict_proba(Prod_X_train)[:,1], pipe.predict_proba(Prod_X_test)[:,1], folder, debug=False)"
   ]
  },
  {
   "cell_type": "markdown",
   "metadata": {},
   "source": [
    "## 9. fileMetadata"
   ]
  },
  {
   "cell_type": "code",
   "execution_count": 52,
   "metadata": {},
   "outputs": [],
   "source": [
    "for folder, pickle in zip(folders, pickles):\n",
    "    utils.generate_fileMetadata('score.py', pickle, folder)"
   ]
  },
  {
   "cell_type": "markdown",
   "metadata": {},
   "source": [
    "## Test Open Model Manager"
   ]
  },
  {
   "cell_type": "code",
   "execution_count": 53,
   "metadata": {},
   "outputs": [
    {
     "name": "stdout",
     "output_type": "stream",
     "text": [
      "zipping ./experiment_rfor/dmcas_fitstat.json as dmcas_fitstat.json\n",
      "zipping ./experiment_rfor/dmcas_lift.json as dmcas_lift.json\n",
      "zipping ./experiment_rfor/dmcas_roc.json as dmcas_roc.json\n",
      "zipping ./experiment_rfor/fileMetadata.json as fileMetadata.json\n",
      "zipping ./experiment_rfor/inputVar.json as inputVar.json\n",
      "zipping ./experiment_rfor/modelproperties.json as modelproperties.json\n",
      "zipping ./experiment_rfor/outputVar.json as outputVar.json\n",
      "zipping ./experiment_rfor/requirement.txt as requirement.txt\n",
      "zipping ./experiment_rfor/rfor_pipeline.pickle as rfor_pipeline.pickle\n",
      "zipping ./experiment_rfor/score.py as score.py\n",
      "zipping ./experiment_rfor/train.py as train.py\n"
     ]
    }
   ],
   "source": [
    "sourceDir = './experiment_rfor'\n",
    "modelZipfile = './experiment_rfor' + \".zip\"\n",
    "zipdir(sourceDir, modelZipfile)"
   ]
  }
 ],
 "metadata": {
  "kernelspec": {
   "display_name": "Python 3",
   "language": "python",
   "name": "python3"
  },
  "language_info": {
   "codemirror_mode": {
    "name": "ipython",
    "version": 3
   },
   "file_extension": ".py",
   "mimetype": "text/x-python",
   "name": "python",
   "nbconvert_exporter": "python",
   "pygments_lexer": "ipython3",
   "version": "3.7.6"
  }
 },
 "nbformat": 4,
 "nbformat_minor": 2
}
