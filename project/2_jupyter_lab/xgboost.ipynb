{
 "cells": [
  {
   "cell_type": "markdown",
   "metadata": {},
   "source": [
    "# The e2e Model Lifecycle on SAS Viya Platform"
   ]
  },
  {
   "cell_type": "markdown",
   "metadata": {},
   "source": [
    "In this notebook, \n",
    "\n",
    "1. Build and train the model.\n",
    "2. Create an API of the model. (Here we have put it in a flask API).\n",
    "3. Create the requirements file containing all the required libraries.\n",
    "4. Create the docker file with necessary environment setup and start-up operations.\n",
    "5. Build the docker image.\n",
    "\n",
    "I train XGboost model for testing Docker Private ML environment"
   ]
  },
  {
   "cell_type": "markdown",
   "metadata": {},
   "source": [
    "## Libraries"
   ]
  },
  {
   "cell_type": "code",
   "execution_count": 1,
   "metadata": {},
   "outputs": [],
   "source": [
    "# Mongo Library\n",
    "\n",
    "import pymongo\n",
    "\n",
    "# ML libraries \n",
    "\n",
    "import numpy as np\n",
    "import pandas as pd\n",
    "import scipy\n",
    "import matplotlib.pyplot as plt\n",
    "\n",
    "from sklearn.pipeline import Pipeline\n",
    "from sklearn.preprocessing import OneHotEncoder\n",
    "from sklearn.compose import ColumnTransformer\n",
    "from sklearn.impute import SimpleImputer\n",
    "\n",
    "from sklearn.base import TransformerMixin\n",
    "import sklearn.metrics as metrics\n",
    "import sklearn.model_selection as model_selection\n",
    "import statsmodels.api as smodel\n",
    "import xgboost as xgb\n",
    "\n",
    "# Tool libraries\n",
    "\n",
    "# import json\n",
    "# import os\n",
    "# import requests as req\n",
    "# import random\n",
    "# import pickle\n",
    "# import zipfile\n",
    "# import urllib\n",
    "# import base64\n",
    "# import time\n",
    "# import sys\n",
    "\n",
    "# import sasctl"
   ]
  },
  {
   "cell_type": "markdown",
   "metadata": {},
   "source": [
    "## Utilities"
   ]
  },
  {
   "cell_type": "code",
   "execution_count": 2,
   "metadata": {},
   "outputs": [],
   "source": [
    "# class DataFrameImputer(TransformerMixin):\n",
    "\n",
    "#     def __init__(self):\n",
    "#         \"\"\"Impute missing values.\n",
    "\n",
    "#         Columns of dtype object are imputed with the most frequent value \n",
    "#         in column.\n",
    "\n",
    "#         Columns of other types are imputed with mean of column.\n",
    "\n",
    "#         \"\"\"\n",
    "#     def fit(self, X, y=None):\n",
    "\n",
    "#         self.fill = pd.Series([X[c].value_counts().index[0]\n",
    "#             if X[c].dtype == np.dtype('O') else X[c].mean() for c in X],\n",
    "#             index=X.columns)\n",
    "\n",
    "#         return self\n",
    "\n",
    "#     def transform(self, X, y=None):\n",
    "        return X.fillna(self.fill)"
   ]
  },
  {
   "cell_type": "markdown",
   "metadata": {},
   "source": [
    "## Data Engineering"
   ]
  },
  {
   "cell_type": "markdown",
   "metadata": {},
   "source": [
    "## Load Data from Mongo"
   ]
  },
  {
   "cell_type": "code",
   "execution_count": 3,
   "metadata": {},
   "outputs": [],
   "source": [
    "#Connect to mongodb container\n",
    "\n",
    "conn = pymongo.MongoClient('mongo', 27017)"
   ]
  },
  {
   "cell_type": "code",
   "execution_count": 4,
   "metadata": {},
   "outputs": [
    {
     "data": {
      "text/plain": [
       "MongoClient(host=['mongo:27017'], document_class=dict, tz_aware=False, connect=True)"
      ]
     },
     "execution_count": 4,
     "metadata": {},
     "output_type": "execute_result"
    }
   ],
   "source": [
    "conn"
   ]
  },
  {
   "cell_type": "code",
   "execution_count": 5,
   "metadata": {},
   "outputs": [],
   "source": [
    "db = conn.training\n",
    "collection = db.churn_data"
   ]
  },
  {
   "cell_type": "code",
   "execution_count": 33,
   "metadata": {},
   "outputs": [
    {
     "data": {
      "text/html": [
       "<div>\n",
       "<style scoped>\n",
       "    .dataframe tbody tr th:only-of-type {\n",
       "        vertical-align: middle;\n",
       "    }\n",
       "\n",
       "    .dataframe tbody tr th {\n",
       "        vertical-align: top;\n",
       "    }\n",
       "\n",
       "    .dataframe thead th {\n",
       "        text-align: right;\n",
       "    }\n",
       "</style>\n",
       "<table border=\"1\" class=\"dataframe\">\n",
       "  <thead>\n",
       "    <tr style=\"text-align: right;\">\n",
       "      <th></th>\n",
       "      <th>BAD</th>\n",
       "      <th>LOAN</th>\n",
       "      <th>MORTDUE</th>\n",
       "      <th>VALUE</th>\n",
       "      <th>REASON</th>\n",
       "      <th>JOB</th>\n",
       "      <th>YOJ</th>\n",
       "      <th>DEROG</th>\n",
       "      <th>DELINQ</th>\n",
       "      <th>CLAGE</th>\n",
       "      <th>NINQ</th>\n",
       "      <th>CLNO</th>\n",
       "      <th>DEBTINC</th>\n",
       "    </tr>\n",
       "    <tr>\n",
       "      <th>_id</th>\n",
       "      <th></th>\n",
       "      <th></th>\n",
       "      <th></th>\n",
       "      <th></th>\n",
       "      <th></th>\n",
       "      <th></th>\n",
       "      <th></th>\n",
       "      <th></th>\n",
       "      <th></th>\n",
       "      <th></th>\n",
       "      <th></th>\n",
       "      <th></th>\n",
       "      <th></th>\n",
       "    </tr>\n",
       "  </thead>\n",
       "  <tbody>\n",
       "    <tr>\n",
       "      <th>5e26d19517a1596a2416f8da</th>\n",
       "      <td>1</td>\n",
       "      <td>1100</td>\n",
       "      <td>25860</td>\n",
       "      <td>39025</td>\n",
       "      <td>HomeImp</td>\n",
       "      <td>Other</td>\n",
       "      <td>10.5</td>\n",
       "      <td>0</td>\n",
       "      <td>0</td>\n",
       "      <td>94.3667</td>\n",
       "      <td>1</td>\n",
       "      <td>9</td>\n",
       "      <td></td>\n",
       "    </tr>\n",
       "    <tr>\n",
       "      <th>5e26d19517a1596a2416f8db</th>\n",
       "      <td>1</td>\n",
       "      <td>1300</td>\n",
       "      <td>70053</td>\n",
       "      <td>68400</td>\n",
       "      <td>HomeImp</td>\n",
       "      <td>Other</td>\n",
       "      <td>7</td>\n",
       "      <td>0</td>\n",
       "      <td>2</td>\n",
       "      <td>121.833</td>\n",
       "      <td>0</td>\n",
       "      <td>14</td>\n",
       "      <td></td>\n",
       "    </tr>\n",
       "    <tr>\n",
       "      <th>5e26d19517a1596a2416f8dc</th>\n",
       "      <td>1</td>\n",
       "      <td>1500</td>\n",
       "      <td>13500</td>\n",
       "      <td>16700</td>\n",
       "      <td>HomeImp</td>\n",
       "      <td>Other</td>\n",
       "      <td>4</td>\n",
       "      <td>0</td>\n",
       "      <td>0</td>\n",
       "      <td>149.467</td>\n",
       "      <td>1</td>\n",
       "      <td>10</td>\n",
       "      <td></td>\n",
       "    </tr>\n",
       "    <tr>\n",
       "      <th>5e26d19517a1596a2416f8dd</th>\n",
       "      <td>1</td>\n",
       "      <td>1500</td>\n",
       "      <td></td>\n",
       "      <td></td>\n",
       "      <td></td>\n",
       "      <td></td>\n",
       "      <td></td>\n",
       "      <td></td>\n",
       "      <td></td>\n",
       "      <td></td>\n",
       "      <td></td>\n",
       "      <td></td>\n",
       "      <td></td>\n",
       "    </tr>\n",
       "    <tr>\n",
       "      <th>5e26d19517a1596a2416f8de</th>\n",
       "      <td>0</td>\n",
       "      <td>1700</td>\n",
       "      <td>97800</td>\n",
       "      <td>112000</td>\n",
       "      <td>HomeImp</td>\n",
       "      <td>Office</td>\n",
       "      <td>3</td>\n",
       "      <td>0</td>\n",
       "      <td>0</td>\n",
       "      <td>93.3333</td>\n",
       "      <td>0</td>\n",
       "      <td>14</td>\n",
       "      <td></td>\n",
       "    </tr>\n",
       "  </tbody>\n",
       "</table>\n",
       "</div>"
      ],
      "text/plain": [
       "                          BAD  LOAN MORTDUE   VALUE   REASON     JOB   YOJ  \\\n",
       "_id                                                                          \n",
       "5e26d19517a1596a2416f8da    1  1100   25860   39025  HomeImp   Other  10.5   \n",
       "5e26d19517a1596a2416f8db    1  1300   70053   68400  HomeImp   Other     7   \n",
       "5e26d19517a1596a2416f8dc    1  1500   13500   16700  HomeImp   Other     4   \n",
       "5e26d19517a1596a2416f8dd    1  1500                                          \n",
       "5e26d19517a1596a2416f8de    0  1700   97800  112000  HomeImp  Office     3   \n",
       "\n",
       "                         DEROG DELINQ    CLAGE NINQ CLNO DEBTINC  \n",
       "_id                                                               \n",
       "5e26d19517a1596a2416f8da     0      0  94.3667    1    9          \n",
       "5e26d19517a1596a2416f8db     0      2  121.833    0   14          \n",
       "5e26d19517a1596a2416f8dc     0      0  149.467    1   10          \n",
       "5e26d19517a1596a2416f8dd                                          \n",
       "5e26d19517a1596a2416f8de     0      0  93.3333    0   14          "
      ]
     },
     "execution_count": 33,
     "metadata": {},
     "output_type": "execute_result"
    }
   ],
   "source": [
    "df = pd.DataFrame(list(collection.find()))\n",
    "df.set_index('_id', inplace=True)\n",
    "df.head()"
   ]
  },
  {
   "cell_type": "markdown",
   "metadata": {},
   "source": [
    "## Declare data types"
   ]
  },
  {
   "cell_type": "code",
   "execution_count": 34,
   "metadata": {},
   "outputs": [
    {
     "name": "stdout",
     "output_type": "stream",
     "text": [
      "<class 'pandas.core.frame.DataFrame'>\n",
      "Index: 65560 entries, 5e26d19517a1596a2416f8da to 5e26f2cfc9670dc5649fe7a5\n",
      "Data columns (total 13 columns):\n",
      "BAD        65560 non-null int64\n",
      "LOAN       65560 non-null int64\n",
      "MORTDUE    65560 non-null object\n",
      "VALUE      65560 non-null object\n",
      "REASON     65560 non-null object\n",
      "JOB        65560 non-null object\n",
      "YOJ        65560 non-null object\n",
      "DEROG      65560 non-null object\n",
      "DELINQ     65560 non-null object\n",
      "CLAGE      65560 non-null object\n",
      "NINQ       65560 non-null object\n",
      "CLNO       65560 non-null object\n",
      "DEBTINC    65560 non-null object\n",
      "dtypes: int64(2), object(11)\n",
      "memory usage: 7.0+ MB\n"
     ]
    }
   ],
   "source": [
    "df.info()"
   ]
  },
  {
   "cell_type": "code",
   "execution_count": 35,
   "metadata": {},
   "outputs": [],
   "source": [
    "cols = df[df.columns.difference(['BAD','LOAN','REASON','JOB'])].columns\n",
    "df[cols] = df[cols].apply(pd.to_numeric, downcast='float', errors='coerce')\n",
    "df['BAD']=df['BAD'].astype('category')"
   ]
  },
  {
   "cell_type": "code",
   "execution_count": 36,
   "metadata": {},
   "outputs": [
    {
     "data": {
      "text/html": [
       "<div>\n",
       "<style scoped>\n",
       "    .dataframe tbody tr th:only-of-type {\n",
       "        vertical-align: middle;\n",
       "    }\n",
       "\n",
       "    .dataframe tbody tr th {\n",
       "        vertical-align: top;\n",
       "    }\n",
       "\n",
       "    .dataframe thead th {\n",
       "        text-align: right;\n",
       "    }\n",
       "</style>\n",
       "<table border=\"1\" class=\"dataframe\">\n",
       "  <thead>\n",
       "    <tr style=\"text-align: right;\">\n",
       "      <th></th>\n",
       "      <th>BAD</th>\n",
       "      <th>LOAN</th>\n",
       "      <th>MORTDUE</th>\n",
       "      <th>VALUE</th>\n",
       "      <th>REASON</th>\n",
       "      <th>JOB</th>\n",
       "      <th>YOJ</th>\n",
       "      <th>DEROG</th>\n",
       "      <th>DELINQ</th>\n",
       "      <th>CLAGE</th>\n",
       "      <th>NINQ</th>\n",
       "      <th>CLNO</th>\n",
       "      <th>DEBTINC</th>\n",
       "    </tr>\n",
       "    <tr>\n",
       "      <th>_id</th>\n",
       "      <th></th>\n",
       "      <th></th>\n",
       "      <th></th>\n",
       "      <th></th>\n",
       "      <th></th>\n",
       "      <th></th>\n",
       "      <th></th>\n",
       "      <th></th>\n",
       "      <th></th>\n",
       "      <th></th>\n",
       "      <th></th>\n",
       "      <th></th>\n",
       "      <th></th>\n",
       "    </tr>\n",
       "  </thead>\n",
       "  <tbody>\n",
       "    <tr>\n",
       "      <th>5e26d19517a1596a2416f8da</th>\n",
       "      <td>1</td>\n",
       "      <td>1100</td>\n",
       "      <td>25860.0</td>\n",
       "      <td>39025.0</td>\n",
       "      <td>HomeImp</td>\n",
       "      <td>Other</td>\n",
       "      <td>10.5</td>\n",
       "      <td>0.0</td>\n",
       "      <td>0.0</td>\n",
       "      <td>94.366669</td>\n",
       "      <td>1.0</td>\n",
       "      <td>9.0</td>\n",
       "      <td>NaN</td>\n",
       "    </tr>\n",
       "    <tr>\n",
       "      <th>5e26d19517a1596a2416f8db</th>\n",
       "      <td>1</td>\n",
       "      <td>1300</td>\n",
       "      <td>70053.0</td>\n",
       "      <td>68400.0</td>\n",
       "      <td>HomeImp</td>\n",
       "      <td>Other</td>\n",
       "      <td>7.0</td>\n",
       "      <td>0.0</td>\n",
       "      <td>2.0</td>\n",
       "      <td>121.833336</td>\n",
       "      <td>0.0</td>\n",
       "      <td>14.0</td>\n",
       "      <td>NaN</td>\n",
       "    </tr>\n",
       "    <tr>\n",
       "      <th>5e26d19517a1596a2416f8dc</th>\n",
       "      <td>1</td>\n",
       "      <td>1500</td>\n",
       "      <td>13500.0</td>\n",
       "      <td>16700.0</td>\n",
       "      <td>HomeImp</td>\n",
       "      <td>Other</td>\n",
       "      <td>4.0</td>\n",
       "      <td>0.0</td>\n",
       "      <td>0.0</td>\n",
       "      <td>149.466660</td>\n",
       "      <td>1.0</td>\n",
       "      <td>10.0</td>\n",
       "      <td>NaN</td>\n",
       "    </tr>\n",
       "    <tr>\n",
       "      <th>5e26d19517a1596a2416f8dd</th>\n",
       "      <td>1</td>\n",
       "      <td>1500</td>\n",
       "      <td>NaN</td>\n",
       "      <td>NaN</td>\n",
       "      <td></td>\n",
       "      <td></td>\n",
       "      <td>NaN</td>\n",
       "      <td>NaN</td>\n",
       "      <td>NaN</td>\n",
       "      <td>NaN</td>\n",
       "      <td>NaN</td>\n",
       "      <td>NaN</td>\n",
       "      <td>NaN</td>\n",
       "    </tr>\n",
       "    <tr>\n",
       "      <th>5e26d19517a1596a2416f8de</th>\n",
       "      <td>0</td>\n",
       "      <td>1700</td>\n",
       "      <td>97800.0</td>\n",
       "      <td>112000.0</td>\n",
       "      <td>HomeImp</td>\n",
       "      <td>Office</td>\n",
       "      <td>3.0</td>\n",
       "      <td>0.0</td>\n",
       "      <td>0.0</td>\n",
       "      <td>93.333336</td>\n",
       "      <td>0.0</td>\n",
       "      <td>14.0</td>\n",
       "      <td>NaN</td>\n",
       "    </tr>\n",
       "  </tbody>\n",
       "</table>\n",
       "</div>"
      ],
      "text/plain": [
       "                         BAD  LOAN  MORTDUE     VALUE   REASON     JOB   YOJ  \\\n",
       "_id                                                                            \n",
       "5e26d19517a1596a2416f8da   1  1100  25860.0   39025.0  HomeImp   Other  10.5   \n",
       "5e26d19517a1596a2416f8db   1  1300  70053.0   68400.0  HomeImp   Other   7.0   \n",
       "5e26d19517a1596a2416f8dc   1  1500  13500.0   16700.0  HomeImp   Other   4.0   \n",
       "5e26d19517a1596a2416f8dd   1  1500      NaN       NaN                    NaN   \n",
       "5e26d19517a1596a2416f8de   0  1700  97800.0  112000.0  HomeImp  Office   3.0   \n",
       "\n",
       "                          DEROG  DELINQ       CLAGE  NINQ  CLNO  DEBTINC  \n",
       "_id                                                                       \n",
       "5e26d19517a1596a2416f8da    0.0     0.0   94.366669   1.0   9.0      NaN  \n",
       "5e26d19517a1596a2416f8db    0.0     2.0  121.833336   0.0  14.0      NaN  \n",
       "5e26d19517a1596a2416f8dc    0.0     0.0  149.466660   1.0  10.0      NaN  \n",
       "5e26d19517a1596a2416f8dd    NaN     NaN         NaN   NaN   NaN      NaN  \n",
       "5e26d19517a1596a2416f8de    0.0     0.0   93.333336   0.0  14.0      NaN  "
      ]
     },
     "execution_count": 36,
     "metadata": {},
     "output_type": "execute_result"
    }
   ],
   "source": [
    "df.head()"
   ]
  },
  {
   "cell_type": "code",
   "execution_count": 38,
   "metadata": {},
   "outputs": [
    {
     "name": "stdout",
     "output_type": "stream",
     "text": [
      "<class 'pandas.core.frame.DataFrame'>\n",
      "Index: 65560 entries, 5e26d19517a1596a2416f8da to 5e26f2cfc9670dc5649fe7a5\n",
      "Data columns (total 13 columns):\n",
      "BAD        65560 non-null category\n",
      "LOAN       65560 non-null int64\n",
      "MORTDUE    59862 non-null float32\n",
      "VALUE      64328 non-null float32\n",
      "REASON     65560 non-null object\n",
      "JOB        65560 non-null object\n",
      "YOJ        59895 non-null float32\n",
      "DEROG      57772 non-null float32\n",
      "DELINQ     59180 non-null float32\n",
      "CLAGE      62172 non-null float32\n",
      "NINQ       59950 non-null float32\n",
      "CLNO       63118 non-null float32\n",
      "DEBTINC    51623 non-null float32\n",
      "dtypes: category(1), float32(9), int64(1), object(2)\n",
      "memory usage: 4.3+ MB\n"
     ]
    }
   ],
   "source": [
    "df.info()"
   ]
  },
  {
   "cell_type": "markdown",
   "metadata": {},
   "source": [
    "## Declare variables "
   ]
  },
  {
   "cell_type": "code",
   "execution_count": 39,
   "metadata": {},
   "outputs": [
    {
     "name": "stdout",
     "output_type": "stream",
     "text": [
      "['BAD']\n",
      "['REASON', 'JOB']\n",
      "['MORTDUE', 'VALUE', 'YOJ', 'DEROG', 'DELINQ', 'CLAGE', 'NINQ', 'CLNO', 'DEBTINC']\n",
      "['REASON', 'JOB', 'MORTDUE', 'VALUE', 'YOJ', 'DEROG', 'DELINQ', 'CLAGE', 'NINQ', 'CLNO', 'DEBTINC']\n"
     ]
    }
   ],
   "source": [
    "target = list(df.select_dtypes('category').columns) #target var\n",
    "class_inputs = list(df.select_dtypes('object').columns) #categorical (nominal and ordinal) variables\n",
    "numerical_inputs = list(df.select_dtypes('float32').columns) #input interval variables\n",
    "inputs = class_inputs + numerical_inputs\n",
    "\n",
    "print(target)\n",
    "print(class_inputs)\n",
    "print(numerical_inputs)\n",
    "print(inputs)"
   ]
  },
  {
   "cell_type": "code",
   "execution_count": 47,
   "metadata": {},
   "outputs": [
    {
     "data": {
      "text/html": [
       "<div>\n",
       "<style scoped>\n",
       "    .dataframe tbody tr th:only-of-type {\n",
       "        vertical-align: middle;\n",
       "    }\n",
       "\n",
       "    .dataframe tbody tr th {\n",
       "        vertical-align: top;\n",
       "    }\n",
       "\n",
       "    .dataframe thead th {\n",
       "        text-align: right;\n",
       "    }\n",
       "</style>\n",
       "<table border=\"1\" class=\"dataframe\">\n",
       "  <thead>\n",
       "    <tr style=\"text-align: right;\">\n",
       "      <th></th>\n",
       "      <th>REASON</th>\n",
       "      <th>JOB</th>\n",
       "      <th>MORTDUE</th>\n",
       "      <th>VALUE</th>\n",
       "      <th>YOJ</th>\n",
       "      <th>DEROG</th>\n",
       "      <th>DELINQ</th>\n",
       "      <th>CLAGE</th>\n",
       "      <th>NINQ</th>\n",
       "      <th>CLNO</th>\n",
       "      <th>DEBTINC</th>\n",
       "    </tr>\n",
       "    <tr>\n",
       "      <th>_id</th>\n",
       "      <th></th>\n",
       "      <th></th>\n",
       "      <th></th>\n",
       "      <th></th>\n",
       "      <th></th>\n",
       "      <th></th>\n",
       "      <th></th>\n",
       "      <th></th>\n",
       "      <th></th>\n",
       "      <th></th>\n",
       "      <th></th>\n",
       "    </tr>\n",
       "  </thead>\n",
       "  <tbody>\n",
       "    <tr>\n",
       "      <th>5e26d19517a1596a2416f8da</th>\n",
       "      <td>HomeImp</td>\n",
       "      <td>Other</td>\n",
       "      <td>25860.0</td>\n",
       "      <td>39025.0</td>\n",
       "      <td>10.5</td>\n",
       "      <td>0.0</td>\n",
       "      <td>0.0</td>\n",
       "      <td>94.366669</td>\n",
       "      <td>1.0</td>\n",
       "      <td>9.0</td>\n",
       "      <td>NaN</td>\n",
       "    </tr>\n",
       "    <tr>\n",
       "      <th>5e26d19517a1596a2416f8db</th>\n",
       "      <td>HomeImp</td>\n",
       "      <td>Other</td>\n",
       "      <td>70053.0</td>\n",
       "      <td>68400.0</td>\n",
       "      <td>7.0</td>\n",
       "      <td>0.0</td>\n",
       "      <td>2.0</td>\n",
       "      <td>121.833336</td>\n",
       "      <td>0.0</td>\n",
       "      <td>14.0</td>\n",
       "      <td>NaN</td>\n",
       "    </tr>\n",
       "    <tr>\n",
       "      <th>5e26d19517a1596a2416f8dc</th>\n",
       "      <td>HomeImp</td>\n",
       "      <td>Other</td>\n",
       "      <td>13500.0</td>\n",
       "      <td>16700.0</td>\n",
       "      <td>4.0</td>\n",
       "      <td>0.0</td>\n",
       "      <td>0.0</td>\n",
       "      <td>149.466660</td>\n",
       "      <td>1.0</td>\n",
       "      <td>10.0</td>\n",
       "      <td>NaN</td>\n",
       "    </tr>\n",
       "    <tr>\n",
       "      <th>5e26d19517a1596a2416f8dd</th>\n",
       "      <td></td>\n",
       "      <td></td>\n",
       "      <td>NaN</td>\n",
       "      <td>NaN</td>\n",
       "      <td>NaN</td>\n",
       "      <td>NaN</td>\n",
       "      <td>NaN</td>\n",
       "      <td>NaN</td>\n",
       "      <td>NaN</td>\n",
       "      <td>NaN</td>\n",
       "      <td>NaN</td>\n",
       "    </tr>\n",
       "    <tr>\n",
       "      <th>5e26d19517a1596a2416f8de</th>\n",
       "      <td>HomeImp</td>\n",
       "      <td>Office</td>\n",
       "      <td>97800.0</td>\n",
       "      <td>112000.0</td>\n",
       "      <td>3.0</td>\n",
       "      <td>0.0</td>\n",
       "      <td>0.0</td>\n",
       "      <td>93.333336</td>\n",
       "      <td>0.0</td>\n",
       "      <td>14.0</td>\n",
       "      <td>NaN</td>\n",
       "    </tr>\n",
       "    <tr>\n",
       "      <th>...</th>\n",
       "      <td>...</td>\n",
       "      <td>...</td>\n",
       "      <td>...</td>\n",
       "      <td>...</td>\n",
       "      <td>...</td>\n",
       "      <td>...</td>\n",
       "      <td>...</td>\n",
       "      <td>...</td>\n",
       "      <td>...</td>\n",
       "      <td>...</td>\n",
       "      <td>...</td>\n",
       "    </tr>\n",
       "    <tr>\n",
       "      <th>5e26f2cfc9670dc5649fe7a1</th>\n",
       "      <td>DebtCon</td>\n",
       "      <td>Other</td>\n",
       "      <td>54576.0</td>\n",
       "      <td>92937.0</td>\n",
       "      <td>16.0</td>\n",
       "      <td>0.0</td>\n",
       "      <td>0.0</td>\n",
       "      <td>208.692062</td>\n",
       "      <td>0.0</td>\n",
       "      <td>15.0</td>\n",
       "      <td>35.859970</td>\n",
       "    </tr>\n",
       "    <tr>\n",
       "      <th>5e26f2cfc9670dc5649fe7a2</th>\n",
       "      <td>HomeImp</td>\n",
       "      <td></td>\n",
       "      <td>21694.0</td>\n",
       "      <td>103143.0</td>\n",
       "      <td>26.0</td>\n",
       "      <td>0.0</td>\n",
       "      <td>1.0</td>\n",
       "      <td>139.938995</td>\n",
       "      <td>0.0</td>\n",
       "      <td>14.0</td>\n",
       "      <td>31.333685</td>\n",
       "    </tr>\n",
       "    <tr>\n",
       "      <th>5e26f2cfc9670dc5649fe7a3</th>\n",
       "      <td>DebtCon</td>\n",
       "      <td>Other</td>\n",
       "      <td>54045.0</td>\n",
       "      <td>92924.0</td>\n",
       "      <td>15.0</td>\n",
       "      <td>0.0</td>\n",
       "      <td>0.0</td>\n",
       "      <td>212.279694</td>\n",
       "      <td>0.0</td>\n",
       "      <td>15.0</td>\n",
       "      <td>35.556591</td>\n",
       "    </tr>\n",
       "    <tr>\n",
       "      <th>5e26f2cfc9670dc5649fe7a4</th>\n",
       "      <td>DebtCon</td>\n",
       "      <td>Other</td>\n",
       "      <td>48811.0</td>\n",
       "      <td>88934.0</td>\n",
       "      <td>15.0</td>\n",
       "      <td>0.0</td>\n",
       "      <td>0.0</td>\n",
       "      <td>219.600998</td>\n",
       "      <td>0.0</td>\n",
       "      <td>16.0</td>\n",
       "      <td>34.571518</td>\n",
       "    </tr>\n",
       "    <tr>\n",
       "      <th>5e26f2cfc9670dc5649fe7a5</th>\n",
       "      <td>DebtCon</td>\n",
       "      <td>Other</td>\n",
       "      <td>50370.0</td>\n",
       "      <td>91861.0</td>\n",
       "      <td>14.0</td>\n",
       "      <td>0.0</td>\n",
       "      <td>0.0</td>\n",
       "      <td>213.892715</td>\n",
       "      <td>0.0</td>\n",
       "      <td>16.0</td>\n",
       "      <td>34.340881</td>\n",
       "    </tr>\n",
       "  </tbody>\n",
       "</table>\n",
       "<p>65560 rows × 11 columns</p>\n",
       "</div>"
      ],
      "text/plain": [
       "                           REASON     JOB  MORTDUE     VALUE   YOJ  DEROG  \\\n",
       "_id                                                                         \n",
       "5e26d19517a1596a2416f8da  HomeImp   Other  25860.0   39025.0  10.5    0.0   \n",
       "5e26d19517a1596a2416f8db  HomeImp   Other  70053.0   68400.0   7.0    0.0   \n",
       "5e26d19517a1596a2416f8dc  HomeImp   Other  13500.0   16700.0   4.0    0.0   \n",
       "5e26d19517a1596a2416f8dd                       NaN       NaN   NaN    NaN   \n",
       "5e26d19517a1596a2416f8de  HomeImp  Office  97800.0  112000.0   3.0    0.0   \n",
       "...                           ...     ...      ...       ...   ...    ...   \n",
       "5e26f2cfc9670dc5649fe7a1  DebtCon   Other  54576.0   92937.0  16.0    0.0   \n",
       "5e26f2cfc9670dc5649fe7a2  HomeImp          21694.0  103143.0  26.0    0.0   \n",
       "5e26f2cfc9670dc5649fe7a3  DebtCon   Other  54045.0   92924.0  15.0    0.0   \n",
       "5e26f2cfc9670dc5649fe7a4  DebtCon   Other  48811.0   88934.0  15.0    0.0   \n",
       "5e26f2cfc9670dc5649fe7a5  DebtCon   Other  50370.0   91861.0  14.0    0.0   \n",
       "\n",
       "                          DELINQ       CLAGE  NINQ  CLNO    DEBTINC  \n",
       "_id                                                                  \n",
       "5e26d19517a1596a2416f8da     0.0   94.366669   1.0   9.0        NaN  \n",
       "5e26d19517a1596a2416f8db     2.0  121.833336   0.0  14.0        NaN  \n",
       "5e26d19517a1596a2416f8dc     0.0  149.466660   1.0  10.0        NaN  \n",
       "5e26d19517a1596a2416f8dd     NaN         NaN   NaN   NaN        NaN  \n",
       "5e26d19517a1596a2416f8de     0.0   93.333336   0.0  14.0        NaN  \n",
       "...                          ...         ...   ...   ...        ...  \n",
       "5e26f2cfc9670dc5649fe7a1     0.0  208.692062   0.0  15.0  35.859970  \n",
       "5e26f2cfc9670dc5649fe7a2     1.0  139.938995   0.0  14.0  31.333685  \n",
       "5e26f2cfc9670dc5649fe7a3     0.0  212.279694   0.0  15.0  35.556591  \n",
       "5e26f2cfc9670dc5649fe7a4     0.0  219.600998   0.0  16.0  34.571518  \n",
       "5e26f2cfc9670dc5649fe7a5     0.0  213.892715   0.0  16.0  34.340881  \n",
       "\n",
       "[65560 rows x 11 columns]"
      ]
     },
     "execution_count": 47,
     "metadata": {},
     "output_type": "execute_result"
    }
   ],
   "source": [
    "df[inputs]"
   ]
  },
  {
   "cell_type": "markdown",
   "metadata": {},
   "source": [
    "## Impute missing"
   ]
  },
  {
   "cell_type": "code",
   "execution_count": 52,
   "metadata": {},
   "outputs": [
    {
     "data": {
      "text/plain": [
       "REASON     HomeImp\n",
       "JOB        ProfExe\n",
       "MORTDUE      47000\n",
       "VALUE        80000\n",
       "YOJ              1\n",
       "DEROG            1\n",
       "DELINQ           1\n",
       "CLAGE        102.5\n",
       "NINQ             1\n",
       "CLNO            19\n",
       "DEBTINC    30.7832\n",
       "dtype: object"
      ]
     },
     "execution_count": 52,
     "metadata": {},
     "output_type": "execute_result"
    }
   ],
   "source": [
    "# def imputer(col):\n",
    "#     if col.dtype == np.dtype('O'):\n",
    "#         return col.value_counts().index[0]\n",
    "#     else:\n",
    "#         return col.mean()\n",
    "\n",
    "# inputed_inputs = df[inputs].apply(imputer)apply(lambda x: x + 1)\n",
    "\n",
    "# inputed_inputs\n",
    "    "
   ]
  },
  {
   "cell_type": "code",
   "execution_count": null,
   "metadata": {},
   "outputs": [],
   "source": [
    "\n",
    "\n",
    "pd.Series([X[c].value_counts().index[0] if X[c].dtype == np.dtype('O') else X[c].mean() for c in X], index=X.columns)"
   ]
  },
  {
   "cell_type": "code",
   "execution_count": null,
   "metadata": {},
   "outputs": [],
   "source": [
    "inputdf_enc = DataFrameImputer().fit_transform(inputdf[inputs])\n",
    "inputdf_enc_dummy = pd.concat([inputdf_enc, pd.get_dummies(inputdf_enc[class_input])], axis=1).drop(class_input, axis = 1)"
   ]
  },
  {
   "cell_type": "code",
   "execution_count": null,
   "metadata": {},
   "outputs": [],
   "source": []
  },
  {
   "cell_type": "code",
   "execution_count": null,
   "metadata": {},
   "outputs": [],
   "source": []
  },
  {
   "cell_type": "code",
   "execution_count": null,
   "metadata": {},
   "outputs": [],
   "source": []
  },
  {
   "cell_type": "code",
   "execution_count": null,
   "metadata": {},
   "outputs": [],
   "source": []
  },
  {
   "cell_type": "code",
   "execution_count": null,
   "metadata": {},
   "outputs": [],
   "source": []
  },
  {
   "cell_type": "code",
   "execution_count": null,
   "metadata": {},
   "outputs": [],
   "source": []
  },
  {
   "cell_type": "markdown",
   "metadata": {},
   "source": [
    "## Machine Learning Model Development"
   ]
  },
  {
   "cell_type": "code",
   "execution_count": null,
   "metadata": {},
   "outputs": [],
   "source": []
  },
  {
   "cell_type": "code",
   "execution_count": null,
   "metadata": {},
   "outputs": [],
   "source": []
  },
  {
   "cell_type": "code",
   "execution_count": null,
   "metadata": {},
   "outputs": [],
   "source": []
  },
  {
   "cell_type": "code",
   "execution_count": null,
   "metadata": {},
   "outputs": [],
   "source": []
  },
  {
   "cell_type": "code",
   "execution_count": null,
   "metadata": {},
   "outputs": [],
   "source": []
  },
  {
   "cell_type": "code",
   "execution_count": null,
   "metadata": {},
   "outputs": [],
   "source": []
  },
  {
   "cell_type": "markdown",
   "metadata": {},
   "source": [
    "## Machine Learning Engineering"
   ]
  },
  {
   "cell_type": "code",
   "execution_count": 32,
   "metadata": {},
   "outputs": [],
   "source": [
    "# Preprocessing interval variables\n",
    "numeric_transformer = Pipeline(steps=[\n",
    "    ('imputation', SimpleImputer(strategy='median'))])\n",
    "\n",
    "# Preprocessing categorical variables\n",
    "categorical_transformer = Pipeline(steps=[\n",
    "     ('imputation', SimpleImputer(strategy='most_frequent')),\n",
    "     ('onehot-encoding', OneHotEncoder(handle_unknown='ignore'))])\n",
    "\n",
    "# Create preprocessing step\n",
    "preprocessor = ColumnTransformer(transformers=[\n",
    "    ('numericals', numeric_transformer, numerical_inputs),\n",
    "    ('categoricals', categorical_transformer, class_inputs)])"
   ]
  },
  {
   "cell_type": "code",
   "execution_count": null,
   "metadata": {},
   "outputs": [],
   "source": []
  },
  {
   "cell_type": "code",
   "execution_count": null,
   "metadata": {},
   "outputs": [],
   "source": []
  },
  {
   "cell_type": "code",
   "execution_count": null,
   "metadata": {},
   "outputs": [],
   "source": []
  },
  {
   "cell_type": "code",
   "execution_count": null,
   "metadata": {},
   "outputs": [],
   "source": []
  },
  {
   "cell_type": "code",
   "execution_count": null,
   "metadata": {},
   "outputs": [],
   "source": [
    "\n"
   ]
  },
  {
   "cell_type": "code",
   "execution_count": 42,
   "metadata": {},
   "outputs": [],
   "source": []
  },
  {
   "cell_type": "code",
   "execution_count": 43,
   "metadata": {},
   "outputs": [
    {
     "name": "stdout",
     "output_type": "stream",
     "text": [
      "                               CLAGE       CLNO    DEBTINC    DELINQ    DEROG  \\\n",
      "_id                                                                             \n",
      "5e243bf1e607ed91944025fa   94.366669   9.000000  33.779919  0.000000  0.00000   \n",
      "5e243bf1e607ed91944025fb   93.333336  14.000000  33.779919  0.000000  0.00000   \n",
      "5e243bf1e607ed91944025fc  179.766281  21.296097  33.779919  0.449442  0.25457   \n",
      "5e243bf1e607ed91944025fd  101.466003   8.000000  37.113613  0.000000  0.00000   \n",
      "5e243bf1e607ed91944025fe   77.099998  17.000000  33.779919  2.000000  3.00000   \n",
      "...                              ...        ...        ...       ...      ...   \n",
      "5e2610a4945d0653a1986903  212.279694  15.000000  35.556591  0.000000  0.00000   \n",
      "5e2610a4945d0653a1986904  205.650162  15.000000  34.818260  1.000000  0.00000   \n",
      "5e2610a4945d0653a1986905  193.702057  15.000000  36.262691  0.000000  0.00000   \n",
      "5e2610a4945d0653a1986906  208.692062  15.000000  35.859970  0.000000  0.00000   \n",
      "5e2610a4945d0653a1986907  218.304977  15.000000  34.242466  0.000000  0.00000   \n",
      "\n",
      "                           LOAN       MORTDUE      NINQ          VALUE  \\\n",
      "_id                                                                      \n",
      "5e243bf1e607ed91944025fa   1100  25860.000000  1.000000   39025.000000   \n",
      "5e243bf1e607ed91944025fb   1700  97800.000000  0.000000  112000.000000   \n",
      "5e243bf1e607ed91944025fc   1500  73760.820312  1.186055  101776.054688   \n",
      "5e243bf1e607ed91944025fd   1700  30548.000000  1.000000   40320.000000   \n",
      "5e243bf1e607ed91944025fe   1800  48649.000000  1.000000   57037.000000   \n",
      "...                         ...           ...       ...            ...   \n",
      "5e2610a4945d0653a1986903  89200  54045.000000  0.000000   92924.000000   \n",
      "5e2610a4945d0653a1986904  88900  48919.000000  0.000000   93371.000000   \n",
      "5e2610a4945d0653a1986905  88300  54004.000000  0.000000   94838.000000   \n",
      "5e2610a4945d0653a1986906  89000  54576.000000  0.000000   92937.000000   \n",
      "5e2610a4945d0653a1986907  88800  53307.000000  0.000000   94058.000000   \n",
      "\n",
      "                                YOJ  REASON_  REASON_DebtCon  REASON_HomeImp  \\\n",
      "_id                                                                            \n",
      "5e243bf1e607ed91944025fa  10.500000        0               0               1   \n",
      "5e243bf1e607ed91944025fb   3.000000        0               0               1   \n",
      "5e243bf1e607ed91944025fc   8.922268        1               0               0   \n",
      "5e243bf1e607ed91944025fd   9.000000        0               0               1   \n",
      "5e243bf1e607ed91944025fe   5.000000        0               0               1   \n",
      "...                             ...      ...             ...             ...   \n",
      "5e2610a4945d0653a1986903  15.000000        0               1               0   \n",
      "5e2610a4945d0653a1986904  15.000000        0               1               0   \n",
      "5e2610a4945d0653a1986905  16.000000        0               1               0   \n",
      "5e2610a4945d0653a1986906  16.000000        0               1               0   \n",
      "5e2610a4945d0653a1986907  16.000000        0               1               0   \n",
      "\n",
      "                          JOB_  JOB_Mgr  JOB_Office  JOB_Other  JOB_ProfExe  \\\n",
      "_id                                                                           \n",
      "5e243bf1e607ed91944025fa     0        0           0          1            0   \n",
      "5e243bf1e607ed91944025fb     0        0           1          0            0   \n",
      "5e243bf1e607ed91944025fc     1        0           0          0            0   \n",
      "5e243bf1e607ed91944025fd     0        0           0          1            0   \n",
      "5e243bf1e607ed91944025fe     0        0           0          1            0   \n",
      "...                        ...      ...         ...        ...          ...   \n",
      "5e2610a4945d0653a1986903     0        0           0          1            0   \n",
      "5e2610a4945d0653a1986904     0        0           0          1            0   \n",
      "5e2610a4945d0653a1986905     0        0           0          1            0   \n",
      "5e2610a4945d0653a1986906     0        0           0          1            0   \n",
      "5e2610a4945d0653a1986907     0        0           0          1            0   \n",
      "\n",
      "                          JOB_Sales  JOB_Self  \n",
      "_id                                            \n",
      "5e243bf1e607ed91944025fa          0         0  \n",
      "5e243bf1e607ed91944025fb          0         0  \n",
      "5e243bf1e607ed91944025fc          0         0  \n",
      "5e243bf1e607ed91944025fd          0         0  \n",
      "5e243bf1e607ed91944025fe          0         0  \n",
      "...                             ...       ...  \n",
      "5e2610a4945d0653a1986903          0         0  \n",
      "5e2610a4945d0653a1986904          0         0  \n",
      "5e2610a4945d0653a1986905          0         0  \n",
      "5e2610a4945d0653a1986906          0         0  \n",
      "5e2610a4945d0653a1986907          0         0  \n",
      "\n",
      "[71520 rows x 20 columns]\n"
     ]
    }
   ],
   "source": [
    "print(inputdf_enc_dummy)"
   ]
  },
  {
   "cell_type": "markdown",
   "metadata": {},
   "source": [
    "## Model Training "
   ]
  },
  {
   "cell_type": "code",
   "execution_count": 44,
   "metadata": {},
   "outputs": [],
   "source": [
    "X_train, X_test, y_train, y_test = model_selection.train_test_split(inputdf_enc_dummy, inputdf[dec_target], \n",
    "                                                                    test_size=0.33, random_state=27513)"
   ]
  },
  {
   "cell_type": "code",
   "execution_count": 45,
   "metadata": {},
   "outputs": [
    {
     "name": "stdout",
     "output_type": "stream",
     "text": [
      "[0]\tvalidation_0-error:0.12951\tvalidation_0-logloss:0.63257\tvalidation_1-error:0.13007\tvalidation_1-logloss:0.63271\n",
      "Multiple eval metrics have been passed: 'validation_1-logloss' will be used for early stopping.\n",
      "\n",
      "Will train until validation_1-logloss hasn't improved in 10 rounds.\n",
      "[1]\tvalidation_0-error:0.12857\tvalidation_0-logloss:0.58331\tvalidation_1-error:0.12995\tvalidation_1-logloss:0.58394\n",
      "[2]\tvalidation_0-error:0.12882\tvalidation_0-logloss:0.54186\tvalidation_1-error:0.12995\tvalidation_1-logloss:0.54273\n",
      "[3]\tvalidation_0-error:0.12891\tvalidation_0-logloss:0.50948\tvalidation_1-error:0.13232\tvalidation_1-logloss:0.51068\n",
      "[4]\tvalidation_0-error:0.11910\tvalidation_0-logloss:0.48282\tvalidation_1-error:0.12274\tvalidation_1-logloss:0.48442\n",
      "[5]\tvalidation_0-error:0.11914\tvalidation_0-logloss:0.45933\tvalidation_1-error:0.12317\tvalidation_1-logloss:0.46117\n",
      "[6]\tvalidation_0-error:0.11632\tvalidation_0-logloss:0.43921\tvalidation_1-error:0.12126\tvalidation_1-logloss:0.44201\n",
      "[7]\tvalidation_0-error:0.11687\tvalidation_0-logloss:0.41734\tvalidation_1-error:0.12169\tvalidation_1-logloss:0.42014\n",
      "[8]\tvalidation_0-error:0.11572\tvalidation_0-logloss:0.39852\tvalidation_1-error:0.11995\tvalidation_1-logloss:0.40142\n",
      "[9]\tvalidation_0-error:0.11551\tvalidation_0-logloss:0.38318\tvalidation_1-error:0.11986\tvalidation_1-logloss:0.38624\n",
      "[10]\tvalidation_0-error:0.11384\tvalidation_0-logloss:0.36899\tvalidation_1-error:0.11766\tvalidation_1-logloss:0.37235\n",
      "[11]\tvalidation_0-error:0.10998\tvalidation_0-logloss:0.35723\tvalidation_1-error:0.11228\tvalidation_1-logloss:0.36060\n",
      "[12]\tvalidation_0-error:0.10946\tvalidation_0-logloss:0.34573\tvalidation_1-error:0.11232\tvalidation_1-logloss:0.34932\n",
      "[13]\tvalidation_0-error:0.10773\tvalidation_0-logloss:0.33552\tvalidation_1-error:0.11075\tvalidation_1-logloss:0.33957\n",
      "[14]\tvalidation_0-error:0.10236\tvalidation_0-logloss:0.32716\tvalidation_1-error:0.10436\tvalidation_1-logloss:0.33144\n",
      "[15]\tvalidation_0-error:0.10272\tvalidation_0-logloss:0.32047\tvalidation_1-error:0.10567\tvalidation_1-logloss:0.32481\n",
      "[16]\tvalidation_0-error:0.10270\tvalidation_0-logloss:0.31304\tvalidation_1-error:0.10571\tvalidation_1-logloss:0.31764\n",
      "[17]\tvalidation_0-error:0.10165\tvalidation_0-logloss:0.30563\tvalidation_1-error:0.10325\tvalidation_1-logloss:0.31051\n",
      "[18]\tvalidation_0-error:0.09938\tvalidation_0-logloss:0.29934\tvalidation_1-error:0.10075\tvalidation_1-logloss:0.30437\n",
      "[19]\tvalidation_0-error:0.09873\tvalidation_0-logloss:0.29427\tvalidation_1-error:0.10054\tvalidation_1-logloss:0.29949\n",
      "[20]\tvalidation_0-error:0.09957\tvalidation_0-logloss:0.28962\tvalidation_1-error:0.10292\tvalidation_1-logloss:0.29506\n",
      "[21]\tvalidation_0-error:0.09758\tvalidation_0-logloss:0.28472\tvalidation_1-error:0.10084\tvalidation_1-logloss:0.29028\n",
      "[22]\tvalidation_0-error:0.09771\tvalidation_0-logloss:0.28042\tvalidation_1-error:0.10008\tvalidation_1-logloss:0.28588\n",
      "[23]\tvalidation_0-error:0.09712\tvalidation_0-logloss:0.27605\tvalidation_1-error:0.09872\tvalidation_1-logloss:0.28159\n",
      "[24]\tvalidation_0-error:0.09700\tvalidation_0-logloss:0.27234\tvalidation_1-error:0.09796\tvalidation_1-logloss:0.27800\n",
      "[25]\tvalidation_0-error:0.09675\tvalidation_0-logloss:0.26871\tvalidation_1-error:0.09897\tvalidation_1-logloss:0.27439\n",
      "[26]\tvalidation_0-error:0.09606\tvalidation_0-logloss:0.26529\tvalidation_1-error:0.09936\tvalidation_1-logloss:0.27103\n",
      "[27]\tvalidation_0-error:0.09575\tvalidation_0-logloss:0.26207\tvalidation_1-error:0.09694\tvalidation_1-logloss:0.26752\n",
      "[28]\tvalidation_0-error:0.09529\tvalidation_0-logloss:0.25943\tvalidation_1-error:0.09584\tvalidation_1-logloss:0.26482\n",
      "[29]\tvalidation_0-error:0.09510\tvalidation_0-logloss:0.25653\tvalidation_1-error:0.09622\tvalidation_1-logloss:0.26204\n",
      "[30]\tvalidation_0-error:0.09301\tvalidation_0-logloss:0.25394\tvalidation_1-error:0.09385\tvalidation_1-logloss:0.25936\n",
      "[31]\tvalidation_0-error:0.09318\tvalidation_0-logloss:0.25149\tvalidation_1-error:0.09402\tvalidation_1-logloss:0.25704\n",
      "[32]\tvalidation_0-error:0.09255\tvalidation_0-logloss:0.24898\tvalidation_1-error:0.09326\tvalidation_1-logloss:0.25469\n",
      "[33]\tvalidation_0-error:0.09258\tvalidation_0-logloss:0.24664\tvalidation_1-error:0.09321\tvalidation_1-logloss:0.25227\n",
      "[34]\tvalidation_0-error:0.09301\tvalidation_0-logloss:0.24346\tvalidation_1-error:0.09436\tvalidation_1-logloss:0.24947\n",
      "[35]\tvalidation_0-error:0.09268\tvalidation_0-logloss:0.24135\tvalidation_1-error:0.09402\tvalidation_1-logloss:0.24738\n",
      "[36]\tvalidation_0-error:0.09214\tvalidation_0-logloss:0.23965\tvalidation_1-error:0.09309\tvalidation_1-logloss:0.24571\n",
      "[37]\tvalidation_0-error:0.09205\tvalidation_0-logloss:0.23726\tvalidation_1-error:0.09275\tvalidation_1-logloss:0.24344\n",
      "[38]\tvalidation_0-error:0.09082\tvalidation_0-logloss:0.23531\tvalidation_1-error:0.09118\tvalidation_1-logloss:0.24155\n",
      "[39]\tvalidation_0-error:0.09034\tvalidation_0-logloss:0.23365\tvalidation_1-error:0.09114\tvalidation_1-logloss:0.23991\n",
      "[40]\tvalidation_0-error:0.08915\tvalidation_0-logloss:0.23238\tvalidation_1-error:0.09050\tvalidation_1-logloss:0.23875\n",
      "[41]\tvalidation_0-error:0.08650\tvalidation_0-logloss:0.23058\tvalidation_1-error:0.08775\tvalidation_1-logloss:0.23692\n",
      "[42]\tvalidation_0-error:0.08654\tvalidation_0-logloss:0.22918\tvalidation_1-error:0.08766\tvalidation_1-logloss:0.23555\n",
      "[43]\tvalidation_0-error:0.08571\tvalidation_0-logloss:0.22698\tvalidation_1-error:0.08732\tvalidation_1-logloss:0.23343\n",
      "[44]\tvalidation_0-error:0.08525\tvalidation_0-logloss:0.22594\tvalidation_1-error:0.08673\tvalidation_1-logloss:0.23238\n",
      "[45]\tvalidation_0-error:0.08412\tvalidation_0-logloss:0.22512\tvalidation_1-error:0.08546\tvalidation_1-logloss:0.23154\n",
      "[46]\tvalidation_0-error:0.08329\tvalidation_0-logloss:0.22310\tvalidation_1-error:0.08512\tvalidation_1-logloss:0.22968\n",
      "[47]\tvalidation_0-error:0.08297\tvalidation_0-logloss:0.22132\tvalidation_1-error:0.08525\tvalidation_1-logloss:0.22798\n",
      "[48]\tvalidation_0-error:0.08266\tvalidation_0-logloss:0.21957\tvalidation_1-error:0.08487\tvalidation_1-logloss:0.22628\n",
      "[49]\tvalidation_0-error:0.08133\tvalidation_0-logloss:0.21878\tvalidation_1-error:0.08402\tvalidation_1-logloss:0.22558\n",
      "[50]\tvalidation_0-error:0.08072\tvalidation_0-logloss:0.21793\tvalidation_1-error:0.08321\tvalidation_1-logloss:0.22473\n",
      "[51]\tvalidation_0-error:0.08053\tvalidation_0-logloss:0.21598\tvalidation_1-error:0.08258\tvalidation_1-logloss:0.22255\n",
      "[52]\tvalidation_0-error:0.08001\tvalidation_0-logloss:0.21506\tvalidation_1-error:0.08211\tvalidation_1-logloss:0.22162\n",
      "[53]\tvalidation_0-error:0.08062\tvalidation_0-logloss:0.21401\tvalidation_1-error:0.08292\tvalidation_1-logloss:0.22052\n",
      "[54]\tvalidation_0-error:0.08016\tvalidation_0-logloss:0.21277\tvalidation_1-error:0.08181\tvalidation_1-logloss:0.21923\n",
      "[55]\tvalidation_0-error:0.07943\tvalidation_0-logloss:0.21210\tvalidation_1-error:0.08126\tvalidation_1-logloss:0.21854\n",
      "[56]\tvalidation_0-error:0.07903\tvalidation_0-logloss:0.21051\tvalidation_1-error:0.08105\tvalidation_1-logloss:0.21673\n",
      "[57]\tvalidation_0-error:0.07891\tvalidation_0-logloss:0.20977\tvalidation_1-error:0.08080\tvalidation_1-logloss:0.21596\n",
      "[58]\tvalidation_0-error:0.07843\tvalidation_0-logloss:0.20874\tvalidation_1-error:0.08025\tvalidation_1-logloss:0.21496\n",
      "[59]\tvalidation_0-error:0.07847\tvalidation_0-logloss:0.20833\tvalidation_1-error:0.08016\tvalidation_1-logloss:0.21463\n",
      "[60]\tvalidation_0-error:0.07834\tvalidation_0-logloss:0.20689\tvalidation_1-error:0.07940\tvalidation_1-logloss:0.21309\n",
      "[61]\tvalidation_0-error:0.07774\tvalidation_0-logloss:0.20451\tvalidation_1-error:0.07961\tvalidation_1-logloss:0.21079\n",
      "[62]\tvalidation_0-error:0.07740\tvalidation_0-logloss:0.20361\tvalidation_1-error:0.07877\tvalidation_1-logloss:0.20993\n",
      "[63]\tvalidation_0-error:0.07676\tvalidation_0-logloss:0.20256\tvalidation_1-error:0.07804\tvalidation_1-logloss:0.20890\n",
      "[64]\tvalidation_0-error:0.07684\tvalidation_0-logloss:0.20209\tvalidation_1-error:0.07838\tvalidation_1-logloss:0.20838\n",
      "[65]\tvalidation_0-error:0.07694\tvalidation_0-logloss:0.20139\tvalidation_1-error:0.07868\tvalidation_1-logloss:0.20770\n",
      "[66]\tvalidation_0-error:0.07697\tvalidation_0-logloss:0.20049\tvalidation_1-error:0.07915\tvalidation_1-logloss:0.20686\n",
      "[67]\tvalidation_0-error:0.07552\tvalidation_0-logloss:0.19876\tvalidation_1-error:0.07800\tvalidation_1-logloss:0.20499\n",
      "[68]\tvalidation_0-error:0.07540\tvalidation_0-logloss:0.19770\tvalidation_1-error:0.07775\tvalidation_1-logloss:0.20394\n"
     ]
    },
    {
     "name": "stdout",
     "output_type": "stream",
     "text": [
      "[69]\tvalidation_0-error:0.07459\tvalidation_0-logloss:0.19658\tvalidation_1-error:0.07686\tvalidation_1-logloss:0.20273\n",
      "[70]\tvalidation_0-error:0.07371\tvalidation_0-logloss:0.19551\tvalidation_1-error:0.07609\tvalidation_1-logloss:0.20161\n",
      "[71]\tvalidation_0-error:0.07358\tvalidation_0-logloss:0.19398\tvalidation_1-error:0.07584\tvalidation_1-logloss:0.19999\n",
      "[72]\tvalidation_0-error:0.07342\tvalidation_0-logloss:0.19372\tvalidation_1-error:0.07567\tvalidation_1-logloss:0.19971\n",
      "[73]\tvalidation_0-error:0.07321\tvalidation_0-logloss:0.19266\tvalidation_1-error:0.07508\tvalidation_1-logloss:0.19860\n",
      "[74]\tvalidation_0-error:0.07302\tvalidation_0-logloss:0.19207\tvalidation_1-error:0.07495\tvalidation_1-logloss:0.19802\n",
      "[75]\tvalidation_0-error:0.07200\tvalidation_0-logloss:0.19078\tvalidation_1-error:0.07398\tvalidation_1-logloss:0.19665\n",
      "[76]\tvalidation_0-error:0.07104\tvalidation_0-logloss:0.18920\tvalidation_1-error:0.07287\tvalidation_1-logloss:0.19517\n",
      "[77]\tvalidation_0-error:0.07075\tvalidation_0-logloss:0.18794\tvalidation_1-error:0.07245\tvalidation_1-logloss:0.19392\n",
      "[78]\tvalidation_0-error:0.07056\tvalidation_0-logloss:0.18774\tvalidation_1-error:0.07232\tvalidation_1-logloss:0.19372\n",
      "[79]\tvalidation_0-error:0.06983\tvalidation_0-logloss:0.18662\tvalidation_1-error:0.07228\tvalidation_1-logloss:0.19255\n",
      "[80]\tvalidation_0-error:0.06970\tvalidation_0-logloss:0.18635\tvalidation_1-error:0.07203\tvalidation_1-logloss:0.19233\n",
      "[81]\tvalidation_0-error:0.06951\tvalidation_0-logloss:0.18504\tvalidation_1-error:0.07190\tvalidation_1-logloss:0.19106\n",
      "[82]\tvalidation_0-error:0.07010\tvalidation_0-logloss:0.18413\tvalidation_1-error:0.07224\tvalidation_1-logloss:0.19028\n",
      "[83]\tvalidation_0-error:0.06960\tvalidation_0-logloss:0.18353\tvalidation_1-error:0.07173\tvalidation_1-logloss:0.18962\n",
      "[84]\tvalidation_0-error:0.06885\tvalidation_0-logloss:0.18216\tvalidation_1-error:0.07122\tvalidation_1-logloss:0.18825\n",
      "[85]\tvalidation_0-error:0.06801\tvalidation_0-logloss:0.18042\tvalidation_1-error:0.06987\tvalidation_1-logloss:0.18633\n",
      "[86]\tvalidation_0-error:0.06812\tvalidation_0-logloss:0.17965\tvalidation_1-error:0.07016\tvalidation_1-logloss:0.18553\n",
      "[87]\tvalidation_0-error:0.06762\tvalidation_0-logloss:0.17869\tvalidation_1-error:0.06965\tvalidation_1-logloss:0.18450\n",
      "[88]\tvalidation_0-error:0.06726\tvalidation_0-logloss:0.17821\tvalidation_1-error:0.06936\tvalidation_1-logloss:0.18399\n",
      "[89]\tvalidation_0-error:0.06707\tvalidation_0-logloss:0.17733\tvalidation_1-error:0.06923\tvalidation_1-logloss:0.18302\n",
      "[90]\tvalidation_0-error:0.06645\tvalidation_0-logloss:0.17676\tvalidation_1-error:0.06847\tvalidation_1-logloss:0.18246\n",
      "[91]\tvalidation_0-error:0.06661\tvalidation_0-logloss:0.17626\tvalidation_1-error:0.06864\tvalidation_1-logloss:0.18192\n",
      "[92]\tvalidation_0-error:0.06586\tvalidation_0-logloss:0.17535\tvalidation_1-error:0.06813\tvalidation_1-logloss:0.18097\n",
      "[93]\tvalidation_0-error:0.06522\tvalidation_0-logloss:0.17429\tvalidation_1-error:0.06741\tvalidation_1-logloss:0.17980\n",
      "[94]\tvalidation_0-error:0.06442\tvalidation_0-logloss:0.17344\tvalidation_1-error:0.06699\tvalidation_1-logloss:0.17895\n",
      "[95]\tvalidation_0-error:0.06396\tvalidation_0-logloss:0.17318\tvalidation_1-error:0.06639\tvalidation_1-logloss:0.17867\n",
      "[96]\tvalidation_0-error:0.06442\tvalidation_0-logloss:0.17289\tvalidation_1-error:0.06699\tvalidation_1-logloss:0.17845\n",
      "[97]\tvalidation_0-error:0.06421\tvalidation_0-logloss:0.17264\tvalidation_1-error:0.06690\tvalidation_1-logloss:0.17822\n",
      "[98]\tvalidation_0-error:0.06424\tvalidation_0-logloss:0.17227\tvalidation_1-error:0.06686\tvalidation_1-logloss:0.17783\n",
      "[99]\tvalidation_0-error:0.06371\tvalidation_0-logloss:0.17114\tvalidation_1-error:0.06639\tvalidation_1-logloss:0.17661\n",
      "[100]\tvalidation_0-error:0.06338\tvalidation_0-logloss:0.17000\tvalidation_1-error:0.06605\tvalidation_1-logloss:0.17546\n",
      "[101]\tvalidation_0-error:0.06311\tvalidation_0-logloss:0.16910\tvalidation_1-error:0.06610\tvalidation_1-logloss:0.17449\n",
      "[102]\tvalidation_0-error:0.06213\tvalidation_0-logloss:0.16825\tvalidation_1-error:0.06504\tvalidation_1-logloss:0.17363\n",
      "[103]\tvalidation_0-error:0.06200\tvalidation_0-logloss:0.16765\tvalidation_1-error:0.06478\tvalidation_1-logloss:0.17309\n",
      "[104]\tvalidation_0-error:0.06121\tvalidation_0-logloss:0.16635\tvalidation_1-error:0.06385\tvalidation_1-logloss:0.17170\n",
      "[105]\tvalidation_0-error:0.06046\tvalidation_0-logloss:0.16575\tvalidation_1-error:0.06334\tvalidation_1-logloss:0.17106\n",
      "[106]\tvalidation_0-error:0.06021\tvalidation_0-logloss:0.16501\tvalidation_1-error:0.06283\tvalidation_1-logloss:0.17034\n",
      "[107]\tvalidation_0-error:0.06008\tvalidation_0-logloss:0.16417\tvalidation_1-error:0.06309\tvalidation_1-logloss:0.16967\n",
      "[108]\tvalidation_0-error:0.06008\tvalidation_0-logloss:0.16364\tvalidation_1-error:0.06309\tvalidation_1-logloss:0.16919\n",
      "[109]\tvalidation_0-error:0.05981\tvalidation_0-logloss:0.16318\tvalidation_1-error:0.06262\tvalidation_1-logloss:0.16876\n",
      "[110]\tvalidation_0-error:0.05925\tvalidation_0-logloss:0.16241\tvalidation_1-error:0.06173\tvalidation_1-logloss:0.16798\n",
      "[111]\tvalidation_0-error:0.05845\tvalidation_0-logloss:0.16178\tvalidation_1-error:0.06080\tvalidation_1-logloss:0.16733\n",
      "[112]\tvalidation_0-error:0.05829\tvalidation_0-logloss:0.16130\tvalidation_1-error:0.06063\tvalidation_1-logloss:0.16692\n",
      "[113]\tvalidation_0-error:0.05806\tvalidation_0-logloss:0.16021\tvalidation_1-error:0.06059\tvalidation_1-logloss:0.16580\n",
      "[114]\tvalidation_0-error:0.05751\tvalidation_0-logloss:0.15963\tvalidation_1-error:0.05966\tvalidation_1-logloss:0.16523\n",
      "[115]\tvalidation_0-error:0.05787\tvalidation_0-logloss:0.15871\tvalidation_1-error:0.05995\tvalidation_1-logloss:0.16424\n",
      "[116]\tvalidation_0-error:0.05779\tvalidation_0-logloss:0.15842\tvalidation_1-error:0.06012\tvalidation_1-logloss:0.16401\n",
      "[117]\tvalidation_0-error:0.05776\tvalidation_0-logloss:0.15818\tvalidation_1-error:0.06016\tvalidation_1-logloss:0.16375\n",
      "[118]\tvalidation_0-error:0.05603\tvalidation_0-logloss:0.15655\tvalidation_1-error:0.05910\tvalidation_1-logloss:0.16211\n",
      "[119]\tvalidation_0-error:0.05656\tvalidation_0-logloss:0.15586\tvalidation_1-error:0.05957\tvalidation_1-logloss:0.16150\n",
      "[120]\tvalidation_0-error:0.05618\tvalidation_0-logloss:0.15548\tvalidation_1-error:0.05932\tvalidation_1-logloss:0.16111\n",
      "[121]\tvalidation_0-error:0.05618\tvalidation_0-logloss:0.15483\tvalidation_1-error:0.05932\tvalidation_1-logloss:0.16049\n",
      "[122]\tvalidation_0-error:0.05530\tvalidation_0-logloss:0.15403\tvalidation_1-error:0.05805\tvalidation_1-logloss:0.15955\n",
      "[123]\tvalidation_0-error:0.05520\tvalidation_0-logloss:0.15365\tvalidation_1-error:0.05775\tvalidation_1-logloss:0.15921\n",
      "[124]\tvalidation_0-error:0.05459\tvalidation_0-logloss:0.15276\tvalidation_1-error:0.05745\tvalidation_1-logloss:0.15827\n",
      "[125]\tvalidation_0-error:0.05447\tvalidation_0-logloss:0.15166\tvalidation_1-error:0.05720\tvalidation_1-logloss:0.15716\n",
      "[126]\tvalidation_0-error:0.05422\tvalidation_0-logloss:0.15136\tvalidation_1-error:0.05669\tvalidation_1-logloss:0.15682\n",
      "[127]\tvalidation_0-error:0.05401\tvalidation_0-logloss:0.15091\tvalidation_1-error:0.05661\tvalidation_1-logloss:0.15631\n",
      "[128]\tvalidation_0-error:0.05322\tvalidation_0-logloss:0.15035\tvalidation_1-error:0.05567\tvalidation_1-logloss:0.15570\n",
      "[129]\tvalidation_0-error:0.05296\tvalidation_0-logloss:0.15001\tvalidation_1-error:0.05567\tvalidation_1-logloss:0.15538\n",
      "[130]\tvalidation_0-error:0.05288\tvalidation_0-logloss:0.14931\tvalidation_1-error:0.05533\tvalidation_1-logloss:0.15469\n",
      "[131]\tvalidation_0-error:0.05365\tvalidation_0-logloss:0.14809\tvalidation_1-error:0.05682\tvalidation_1-logloss:0.15342\n",
      "[132]\tvalidation_0-error:0.05351\tvalidation_0-logloss:0.14774\tvalidation_1-error:0.05661\tvalidation_1-logloss:0.15301\n",
      "[133]\tvalidation_0-error:0.05330\tvalidation_0-logloss:0.14654\tvalidation_1-error:0.05652\tvalidation_1-logloss:0.15195\n",
      "[134]\tvalidation_0-error:0.05257\tvalidation_0-logloss:0.14597\tvalidation_1-error:0.05546\tvalidation_1-logloss:0.15129\n",
      "[135]\tvalidation_0-error:0.05169\tvalidation_0-logloss:0.14551\tvalidation_1-error:0.05470\tvalidation_1-logloss:0.15085\n",
      "[136]\tvalidation_0-error:0.05132\tvalidation_0-logloss:0.14475\tvalidation_1-error:0.05445\tvalidation_1-logloss:0.15012\n",
      "[137]\tvalidation_0-error:0.05109\tvalidation_0-logloss:0.14462\tvalidation_1-error:0.05440\tvalidation_1-logloss:0.14997\n",
      "[138]\tvalidation_0-error:0.05094\tvalidation_0-logloss:0.14432\tvalidation_1-error:0.05419\tvalidation_1-logloss:0.14963\n"
     ]
    },
    {
     "name": "stdout",
     "output_type": "stream",
     "text": [
      "[139]\tvalidation_0-error:0.05065\tvalidation_0-logloss:0.14411\tvalidation_1-error:0.05377\tvalidation_1-logloss:0.14941\n",
      "[140]\tvalidation_0-error:0.05069\tvalidation_0-logloss:0.14330\tvalidation_1-error:0.05368\tvalidation_1-logloss:0.14858\n",
      "[141]\tvalidation_0-error:0.05069\tvalidation_0-logloss:0.14317\tvalidation_1-error:0.05368\tvalidation_1-logloss:0.14845\n",
      "[142]\tvalidation_0-error:0.05050\tvalidation_0-logloss:0.14296\tvalidation_1-error:0.05355\tvalidation_1-logloss:0.14826\n",
      "[143]\tvalidation_0-error:0.05050\tvalidation_0-logloss:0.14278\tvalidation_1-error:0.05355\tvalidation_1-logloss:0.14810\n",
      "[144]\tvalidation_0-error:0.04977\tvalidation_0-logloss:0.14200\tvalidation_1-error:0.05250\tvalidation_1-logloss:0.14725\n",
      "[145]\tvalidation_0-error:0.04977\tvalidation_0-logloss:0.14184\tvalidation_1-error:0.05250\tvalidation_1-logloss:0.14708\n",
      "[146]\tvalidation_0-error:0.04967\tvalidation_0-logloss:0.14146\tvalidation_1-error:0.05220\tvalidation_1-logloss:0.14666\n",
      "[147]\tvalidation_0-error:0.04931\tvalidation_0-logloss:0.14080\tvalidation_1-error:0.05190\tvalidation_1-logloss:0.14606\n",
      "[148]\tvalidation_0-error:0.04946\tvalidation_0-logloss:0.13995\tvalidation_1-error:0.05161\tvalidation_1-logloss:0.14514\n",
      "[149]\tvalidation_0-error:0.04869\tvalidation_0-logloss:0.13910\tvalidation_1-error:0.05114\tvalidation_1-logloss:0.14440\n",
      "[150]\tvalidation_0-error:0.04840\tvalidation_0-logloss:0.13837\tvalidation_1-error:0.05072\tvalidation_1-logloss:0.14358\n",
      "[151]\tvalidation_0-error:0.04810\tvalidation_0-logloss:0.13792\tvalidation_1-error:0.05029\tvalidation_1-logloss:0.14315\n",
      "[152]\tvalidation_0-error:0.04756\tvalidation_0-logloss:0.13696\tvalidation_1-error:0.04987\tvalidation_1-logloss:0.14218\n",
      "[153]\tvalidation_0-error:0.04743\tvalidation_0-logloss:0.13619\tvalidation_1-error:0.04961\tvalidation_1-logloss:0.14147\n",
      "[154]\tvalidation_0-error:0.04743\tvalidation_0-logloss:0.13576\tvalidation_1-error:0.04961\tvalidation_1-logloss:0.14100\n",
      "[155]\tvalidation_0-error:0.04695\tvalidation_0-logloss:0.13486\tvalidation_1-error:0.04906\tvalidation_1-logloss:0.14002\n",
      "[156]\tvalidation_0-error:0.04714\tvalidation_0-logloss:0.13468\tvalidation_1-error:0.04919\tvalidation_1-logloss:0.13986\n",
      "[157]\tvalidation_0-error:0.04656\tvalidation_0-logloss:0.13398\tvalidation_1-error:0.04885\tvalidation_1-logloss:0.13911\n",
      "[158]\tvalidation_0-error:0.04700\tvalidation_0-logloss:0.13363\tvalidation_1-error:0.04898\tvalidation_1-logloss:0.13867\n",
      "[159]\tvalidation_0-error:0.04631\tvalidation_0-logloss:0.13321\tvalidation_1-error:0.04834\tvalidation_1-logloss:0.13824\n",
      "[160]\tvalidation_0-error:0.04583\tvalidation_0-logloss:0.13231\tvalidation_1-error:0.04830\tvalidation_1-logloss:0.13734\n",
      "[161]\tvalidation_0-error:0.04531\tvalidation_0-logloss:0.13211\tvalidation_1-error:0.04784\tvalidation_1-logloss:0.13712\n",
      "[162]\tvalidation_0-error:0.04512\tvalidation_0-logloss:0.13168\tvalidation_1-error:0.04771\tvalidation_1-logloss:0.13668\n",
      "[163]\tvalidation_0-error:0.04526\tvalidation_0-logloss:0.13155\tvalidation_1-error:0.04792\tvalidation_1-logloss:0.13654\n",
      "[164]\tvalidation_0-error:0.04545\tvalidation_0-logloss:0.13148\tvalidation_1-error:0.04805\tvalidation_1-logloss:0.13647\n",
      "[165]\tvalidation_0-error:0.04516\tvalidation_0-logloss:0.13122\tvalidation_1-error:0.04762\tvalidation_1-logloss:0.13618\n",
      "[166]\tvalidation_0-error:0.04483\tvalidation_0-logloss:0.13087\tvalidation_1-error:0.04728\tvalidation_1-logloss:0.13583\n",
      "[167]\tvalidation_0-error:0.04441\tvalidation_0-logloss:0.13001\tvalidation_1-error:0.04661\tvalidation_1-logloss:0.13507\n",
      "[168]\tvalidation_0-error:0.04399\tvalidation_0-logloss:0.12947\tvalidation_1-error:0.04644\tvalidation_1-logloss:0.13459\n",
      "[169]\tvalidation_0-error:0.04399\tvalidation_0-logloss:0.12929\tvalidation_1-error:0.04644\tvalidation_1-logloss:0.13440\n",
      "[170]\tvalidation_0-error:0.04403\tvalidation_0-logloss:0.12870\tvalidation_1-error:0.04686\tvalidation_1-logloss:0.13377\n",
      "[171]\tvalidation_0-error:0.04389\tvalidation_0-logloss:0.12820\tvalidation_1-error:0.04665\tvalidation_1-logloss:0.13333\n",
      "[172]\tvalidation_0-error:0.04389\tvalidation_0-logloss:0.12806\tvalidation_1-error:0.04665\tvalidation_1-logloss:0.13316\n",
      "[173]\tvalidation_0-error:0.04389\tvalidation_0-logloss:0.12789\tvalidation_1-error:0.04665\tvalidation_1-logloss:0.13295\n",
      "[174]\tvalidation_0-error:0.04387\tvalidation_0-logloss:0.12762\tvalidation_1-error:0.04669\tvalidation_1-logloss:0.13267\n",
      "[175]\tvalidation_0-error:0.04368\tvalidation_0-logloss:0.12689\tvalidation_1-error:0.04605\tvalidation_1-logloss:0.13192\n",
      "[176]\tvalidation_0-error:0.04343\tvalidation_0-logloss:0.12635\tvalidation_1-error:0.04605\tvalidation_1-logloss:0.13139\n",
      "[177]\tvalidation_0-error:0.04322\tvalidation_0-logloss:0.12607\tvalidation_1-error:0.04597\tvalidation_1-logloss:0.13108\n",
      "[178]\tvalidation_0-error:0.04287\tvalidation_0-logloss:0.12561\tvalidation_1-error:0.04567\tvalidation_1-logloss:0.13061\n",
      "[179]\tvalidation_0-error:0.04276\tvalidation_0-logloss:0.12488\tvalidation_1-error:0.04538\tvalidation_1-logloss:0.12981\n",
      "[180]\tvalidation_0-error:0.04276\tvalidation_0-logloss:0.12470\tvalidation_1-error:0.04538\tvalidation_1-logloss:0.12965\n",
      "[181]\tvalidation_0-error:0.04276\tvalidation_0-logloss:0.12454\tvalidation_1-error:0.04538\tvalidation_1-logloss:0.12949\n",
      "[182]\tvalidation_0-error:0.04209\tvalidation_0-logloss:0.12395\tvalidation_1-error:0.04470\tvalidation_1-logloss:0.12887\n",
      "[183]\tvalidation_0-error:0.04105\tvalidation_0-logloss:0.12312\tvalidation_1-error:0.04428\tvalidation_1-logloss:0.12808\n",
      "[184]\tvalidation_0-error:0.04105\tvalidation_0-logloss:0.12293\tvalidation_1-error:0.04428\tvalidation_1-logloss:0.12786\n",
      "[185]\tvalidation_0-error:0.04113\tvalidation_0-logloss:0.12264\tvalidation_1-error:0.04462\tvalidation_1-logloss:0.12758\n",
      "[186]\tvalidation_0-error:0.04099\tvalidation_0-logloss:0.12253\tvalidation_1-error:0.04440\tvalidation_1-logloss:0.12748\n",
      "[187]\tvalidation_0-error:0.04099\tvalidation_0-logloss:0.12181\tvalidation_1-error:0.04390\tvalidation_1-logloss:0.12676\n",
      "[188]\tvalidation_0-error:0.04099\tvalidation_0-logloss:0.12136\tvalidation_1-error:0.04390\tvalidation_1-logloss:0.12635\n",
      "[189]\tvalidation_0-error:0.04099\tvalidation_0-logloss:0.12092\tvalidation_1-error:0.04390\tvalidation_1-logloss:0.12584\n",
      "[190]\tvalidation_0-error:0.04088\tvalidation_0-logloss:0.12069\tvalidation_1-error:0.04360\tvalidation_1-logloss:0.12559\n",
      "[191]\tvalidation_0-error:0.04088\tvalidation_0-logloss:0.12052\tvalidation_1-error:0.04360\tvalidation_1-logloss:0.12539\n",
      "[192]\tvalidation_0-error:0.04055\tvalidation_0-logloss:0.12004\tvalidation_1-error:0.04326\tvalidation_1-logloss:0.12488\n",
      "[193]\tvalidation_0-error:0.03965\tvalidation_0-logloss:0.11909\tvalidation_1-error:0.04203\tvalidation_1-logloss:0.12392\n",
      "[194]\tvalidation_0-error:0.03982\tvalidation_0-logloss:0.11895\tvalidation_1-error:0.04220\tvalidation_1-logloss:0.12380\n",
      "[195]\tvalidation_0-error:0.03978\tvalidation_0-logloss:0.11854\tvalidation_1-error:0.04229\tvalidation_1-logloss:0.12341\n",
      "[196]\tvalidation_0-error:0.03930\tvalidation_0-logloss:0.11817\tvalidation_1-error:0.04173\tvalidation_1-logloss:0.12309\n",
      "[197]\tvalidation_0-error:0.03948\tvalidation_0-logloss:0.11804\tvalidation_1-error:0.04186\tvalidation_1-logloss:0.12298\n",
      "[198]\tvalidation_0-error:0.03963\tvalidation_0-logloss:0.11778\tvalidation_1-error:0.04207\tvalidation_1-logloss:0.12267\n",
      "[199]\tvalidation_0-error:0.03957\tvalidation_0-logloss:0.11723\tvalidation_1-error:0.04220\tvalidation_1-logloss:0.12216\n",
      "CPU times: user 9.17 s, sys: 35.2 ms, total: 9.21 s\n",
      "Wall time: 9.2 s\n"
     ]
    },
    {
     "data": {
      "text/plain": [
       "XGBClassifier(base_score=0.5, booster='gbtree', colsample_bylevel=1,\n",
       "              colsample_bynode=1, colsample_bytree=1, gamma=0, gpu_id=-1,\n",
       "              learning_rate=0.1, max_delta_step=0, max_depth=4,\n",
       "              min_child_weight=1, missing=None, n_estimators=200, n_jobs=1,\n",
       "              objective='binary:logistic', random_state=0, reg_alpha=0,\n",
       "              reg_lambda=1, scale_pos_weight=1, subsample=0.9,\n",
       "              tree_method='auto', validate_parameters=False, verbosity=1)"
      ]
     },
     "execution_count": 45,
     "metadata": {},
     "output_type": "execute_result"
    }
   ],
   "source": [
    "%%time\n",
    "\n",
    "model = xgb.XGBClassifier(max_depth=4,\n",
    "                        subsample=0.9,\n",
    "                        objective='binary:logistic',\n",
    "                        n_estimators=200,\n",
    "                        learning_rate = 0.1)\n",
    "eval_set = [(X_train, y_train), (X_test, y_test)]\n",
    "model.fit(X_train, y_train.values.ravel(), early_stopping_rounds=10,\n",
    "          eval_metric=[\"error\", \"logloss\"], eval_set=eval_set, verbose=True)"
   ]
  },
  {
   "cell_type": "markdown",
   "metadata": {},
   "source": [
    "## Model Assessment"
   ]
  },
  {
   "cell_type": "code",
   "execution_count": 46,
   "metadata": {},
   "outputs": [
    {
     "name": "stdout",
     "output_type": "stream",
     "text": [
      "Misclassification Rates\n",
      " XGBoost : 0.042199813575120704\n"
     ]
    }
   ],
   "source": [
    "dt_misclassification = 1 - metrics.accuracy_score(y_test, model.predict(X_test))\n",
    "print('Misclassification Rates\\n', 'XGBoost :', dt_misclassification)"
   ]
  },
  {
   "cell_type": "code",
   "execution_count": 47,
   "metadata": {},
   "outputs": [
    {
     "data": {
      "image/png": "[encoded data removed]",
      "text/plain": [
       "<Figure size 504x360 with 1 Axes>"
      ]
     },
     "metadata": {
      "needs_background": "light"
     },
     "output_type": "display_data"
    }
   ],
   "source": [
    "models = [{'label': 'XGBoost','model': model}]\n",
    "\n",
    "plt.figure(figsize = (7, 5))\n",
    "for m in models:\n",
    "    model = m['model']\n",
    "    fpr, tpr, thresholds = metrics.roc_curve(y_test, model.predict_proba(X_test)[:,1])\n",
    "    auc = metrics.roc_auc_score(y_test,model.predict(X_test))\n",
    "    plt.plot(fpr, tpr, label='%s ROC (area = %0.2f)' % (m['label'], auc))\n",
    "plt.plot([0, 1], [0, 1],'r--')\n",
    "plt.xlim([0.0, 1.0])\n",
    "plt.ylim([0.0, 1.05])\n",
    "plt.xlabel('False Postive Rate')\n",
    "plt.ylabel('True Positive Rate')\n",
    "plt.title('ROC Curve (using validation data)')\n",
    "plt.legend(loc=\"lower right\")\n",
    "plt.show()"
   ]
  },
  {
   "cell_type": "code",
   "execution_count": 48,
   "metadata": {},
   "outputs": [
    {
     "data": {
      "image/png": "[encoded data removed]",
      "text/plain": [
       "<Figure size 432x288 with 1 Axes>"
      ]
     },
     "metadata": {
      "needs_background": "light"
     },
     "output_type": "display_data"
    },
    {
     "data": {
      "image/png": "[encoded data removed]",
      "text/plain": [
       "<Figure size 432x288 with 1 Axes>"
      ]
     },
     "metadata": {
      "needs_background": "light"
     },
     "output_type": "display_data"
    }
   ],
   "source": [
    "# retrieve performance metrics\n",
    "results = model.evals_result()\n",
    "epochs = len(results['validation_0']['error'])\n",
    "x_axis = range(0, epochs)\n",
    "# plot log loss\n",
    "fig, ax = plt.subplots()\n",
    "ax.plot(x_axis, results['validation_0']['logloss'], label='Train')\n",
    "ax.plot(x_axis, results['validation_1']['logloss'], label='Test')\n",
    "ax.legend()\n",
    "plt.ylabel('Log Loss')\n",
    "plt.title('XGBoost Log Loss')\n",
    "plt.show()\n",
    "# plot classification error\n",
    "fig, ax = plt.subplots()\n",
    "ax.plot(x_axis, results['validation_0']['error'], label='Train')\n",
    "ax.plot(x_axis, results['validation_1']['error'], label='Test')\n",
    "ax.legend()\n",
    "plt.ylabel('Classification Error')\n",
    "plt.title('XGBoost Classification Error')\n",
    "plt.show()\n"
   ]
  },
  {
   "cell_type": "markdown",
   "metadata": {},
   "source": [
    "# Model Deployment"
   ]
  },
  {
   "cell_type": "markdown",
   "metadata": {},
   "source": [
    "For Model Deployment purpose, we need some files:\n",
    "\n",
    "    0. requirement.txt    \n",
    "    1. score.py\n",
    "    2. model.pickle\n",
    "    3. dmcas_fitstat.json\n",
    "    4. inputVar.json\n",
    "    5. outputVar.json\n",
    "    6. fileMetadata.json\n",
    "    7. ModelProperties.json\n"
   ]
  },
  {
   "cell_type": "markdown",
   "metadata": {},
   "source": [
    "## 1. requirement.txt"
   ]
  },
  {
   "cell_type": "code",
   "execution_count": 50,
   "metadata": {},
   "outputs": [],
   "source": [
    "! pip freeze > requirement.txt"
   ]
  },
  {
   "cell_type": "markdown",
   "metadata": {},
   "source": [
    "## 2. Score.py "
   ]
  },
  {
   "cell_type": "code",
   "execution_count": null,
   "metadata": {},
   "outputs": [],
   "source": []
  },
  {
   "cell_type": "markdown",
   "metadata": {},
   "source": [
    "## 4. inputVar.py"
   ]
  },
  {
   "cell_type": "code",
   "execution_count": 9,
   "metadata": {},
   "outputs": [],
   "source": [
    "from utils import modelmanager_service"
   ]
  },
  {
   "cell_type": "code",
   "execution_count": 10,
   "metadata": {},
   "outputs": [
    {
     "ename": "TypeError",
     "evalue": "inputjson() missing 3 required positional arguments: 'traindf', 'target', and 'outdir'",
     "output_type": "error",
     "traceback": [
      "\u001b[1;31m---------------------------------------------------------------------------\u001b[0m",
      "\u001b[1;31mTypeError\u001b[0m                                 Traceback (most recent call last)",
      "\u001b[1;32m<ipython-input-10-a6c99ebb86fc>\u001b[0m in \u001b[0;36m<module>\u001b[1;34m\u001b[0m\n\u001b[1;32m----> 1\u001b[1;33m \u001b[0mmodelmanager_utils\u001b[0m\u001b[1;33m.\u001b[0m\u001b[0minputjson\u001b[0m\u001b[1;33m(\u001b[0m\u001b[1;33m)\u001b[0m\u001b[1;33m\u001b[0m\u001b[1;33m\u001b[0m\u001b[0m\n\u001b[0m",
      "\u001b[1;31mTypeError\u001b[0m: inputjson() missing 3 required positional arguments: 'traindf', 'target', and 'outdir'"
     ]
    }
   ],
   "source": [
    "modelmanager_utils.inputjson()"
   ]
  },
  {
   "cell_type": "code",
   "execution_count": null,
   "metadata": {},
   "outputs": [],
   "source": []
  }
 ],
 "metadata": {
  "kernelspec": {
   "display_name": "Python 3",
   "language": "python",
   "name": "python3"
  },
  "language_info": {
   "codemirror_mode": {
    "name": "ipython",
    "version": 3
   },
   "file_extension": ".py",
   "mimetype": "text/x-python",
   "name": "python",
   "nbconvert_exporter": "python",
   "pygments_lexer": "ipython3",
   "version": "3.7.3"
  }
 },
 "nbformat": 4,
 "nbformat_minor": 2
}
