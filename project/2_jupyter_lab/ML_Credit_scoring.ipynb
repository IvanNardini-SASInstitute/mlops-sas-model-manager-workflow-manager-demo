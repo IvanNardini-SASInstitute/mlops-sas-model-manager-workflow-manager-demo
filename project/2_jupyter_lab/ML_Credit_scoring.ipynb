{
 "cells": [
  {
   "cell_type": "markdown",
   "metadata": {},
   "source": [
    "# The e2e Model Lifecycle on SAS Viya Platform"
   ]
  },
  {
   "cell_type": "markdown",
   "metadata": {},
   "source": [
    "In this notebook, \n",
    "\n",
    "1. Build and train the model.\n",
    "2. Create an API of the model. (Here we have put it in a flask API).\n",
    "3. Create the requirements file containing all the required libraries.\n",
    "4. Create the docker file with necessary environment setup and start-up operations.\n",
    "5. Build the docker image.\n",
    "\n",
    "I train XGboost model for testing Docker Private ML environment"
   ]
  },
  {
   "cell_type": "markdown",
   "metadata": {},
   "source": [
    "## Libraries"
   ]
  },
  {
   "cell_type": "code",
   "execution_count": 1,
   "metadata": {},
   "outputs": [],
   "source": [
    "# Mongo Library\n",
    "\n",
    "import pymongo\n",
    "\n",
    "# ML libraries \n",
    "\n",
    "import numpy as np\n",
    "import pandas as pd\n",
    "import scipy\n",
    "import matplotlib.pyplot as plt\n",
    "\n",
    "from sklearn.pipeline import Pipeline\n",
    "from sklearn.preprocessing import OneHotEncoder\n",
    "from sklearn.compose import ColumnTransformer\n",
    "from sklearn.impute import SimpleImputer\n",
    "\n",
    "from sklearn.base import TransformerMixin\n",
    "import sklearn.metrics as metrics\n",
    "import sklearn.model_selection as model_selection\n",
    "import statsmodels.api as smodel\n",
    "from xgboost import XGBClassifier \n",
    "\n",
    "# Tool libraries\n",
    "\n",
    "# import json\n",
    "import os\n",
    "import pprint\n",
    "import json\n",
    "# import requests as req\n",
    "# import random\n",
    "# import pickle\n",
    "import zipfile\n",
    "# import urllib\n",
    "# import base64\n",
    "# import time\n",
    "# import sys\n",
    "\n",
    "# import sasctl"
   ]
  },
  {
   "cell_type": "markdown",
   "metadata": {},
   "source": [
    "## Data Engineering"
   ]
  },
  {
   "cell_type": "markdown",
   "metadata": {},
   "source": [
    "### Load Data from Mongo"
   ]
  },
  {
   "cell_type": "code",
   "execution_count": 2,
   "metadata": {},
   "outputs": [],
   "source": [
    "#Connect to mongodb container\n",
    "\n",
    "conn = pymongo.MongoClient('mongo', 27017)"
   ]
  },
  {
   "cell_type": "code",
   "execution_count": 3,
   "metadata": {},
   "outputs": [
    {
     "data": {
      "text/plain": [
       "MongoClient(host=['mongo:27017'], document_class=dict, tz_aware=False, connect=True)"
      ]
     },
     "execution_count": 3,
     "metadata": {},
     "output_type": "execute_result"
    }
   ],
   "source": [
    "conn"
   ]
  },
  {
   "cell_type": "code",
   "execution_count": 4,
   "metadata": {},
   "outputs": [],
   "source": [
    "db = conn.training\n",
    "collection = db.churn_data"
   ]
  },
  {
   "cell_type": "code",
   "execution_count": 5,
   "metadata": {},
   "outputs": [
    {
     "data": {
      "text/html": [
       "<div>\n",
       "<style scoped>\n",
       "    .dataframe tbody tr th:only-of-type {\n",
       "        vertical-align: middle;\n",
       "    }\n",
       "\n",
       "    .dataframe tbody tr th {\n",
       "        vertical-align: top;\n",
       "    }\n",
       "\n",
       "    .dataframe thead th {\n",
       "        text-align: right;\n",
       "    }\n",
       "</style>\n",
       "<table border=\"1\" class=\"dataframe\">\n",
       "  <thead>\n",
       "    <tr style=\"text-align: right;\">\n",
       "      <th></th>\n",
       "      <th>BAD</th>\n",
       "      <th>LOAN</th>\n",
       "      <th>MORTDUE</th>\n",
       "      <th>VALUE</th>\n",
       "      <th>REASON</th>\n",
       "      <th>JOB</th>\n",
       "      <th>YOJ</th>\n",
       "      <th>DEROG</th>\n",
       "      <th>DELINQ</th>\n",
       "      <th>CLAGE</th>\n",
       "      <th>NINQ</th>\n",
       "      <th>CLNO</th>\n",
       "      <th>DEBTINC</th>\n",
       "    </tr>\n",
       "  </thead>\n",
       "  <tbody>\n",
       "    <tr>\n",
       "      <th>0</th>\n",
       "      <td>1</td>\n",
       "      <td>1100</td>\n",
       "      <td>25860</td>\n",
       "      <td>39025</td>\n",
       "      <td>HomeImp</td>\n",
       "      <td>Other</td>\n",
       "      <td>10.5</td>\n",
       "      <td>0</td>\n",
       "      <td>0</td>\n",
       "      <td>94.3667</td>\n",
       "      <td>1</td>\n",
       "      <td>9</td>\n",
       "      <td></td>\n",
       "    </tr>\n",
       "    <tr>\n",
       "      <th>1</th>\n",
       "      <td>1</td>\n",
       "      <td>1300</td>\n",
       "      <td>70053</td>\n",
       "      <td>68400</td>\n",
       "      <td>HomeImp</td>\n",
       "      <td>Other</td>\n",
       "      <td>7</td>\n",
       "      <td>0</td>\n",
       "      <td>2</td>\n",
       "      <td>121.833</td>\n",
       "      <td>0</td>\n",
       "      <td>14</td>\n",
       "      <td></td>\n",
       "    </tr>\n",
       "    <tr>\n",
       "      <th>2</th>\n",
       "      <td>1</td>\n",
       "      <td>1500</td>\n",
       "      <td>13500</td>\n",
       "      <td>16700</td>\n",
       "      <td>HomeImp</td>\n",
       "      <td>Other</td>\n",
       "      <td>4</td>\n",
       "      <td>0</td>\n",
       "      <td>0</td>\n",
       "      <td>149.467</td>\n",
       "      <td>1</td>\n",
       "      <td>10</td>\n",
       "      <td></td>\n",
       "    </tr>\n",
       "    <tr>\n",
       "      <th>3</th>\n",
       "      <td>1</td>\n",
       "      <td>1500</td>\n",
       "      <td></td>\n",
       "      <td></td>\n",
       "      <td></td>\n",
       "      <td></td>\n",
       "      <td></td>\n",
       "      <td></td>\n",
       "      <td></td>\n",
       "      <td></td>\n",
       "      <td></td>\n",
       "      <td></td>\n",
       "      <td></td>\n",
       "    </tr>\n",
       "    <tr>\n",
       "      <th>4</th>\n",
       "      <td>0</td>\n",
       "      <td>1700</td>\n",
       "      <td>97800</td>\n",
       "      <td>112000</td>\n",
       "      <td>HomeImp</td>\n",
       "      <td>Office</td>\n",
       "      <td>3</td>\n",
       "      <td>0</td>\n",
       "      <td>0</td>\n",
       "      <td>93.3333</td>\n",
       "      <td>0</td>\n",
       "      <td>14</td>\n",
       "      <td></td>\n",
       "    </tr>\n",
       "  </tbody>\n",
       "</table>\n",
       "</div>"
      ],
      "text/plain": [
       "   BAD  LOAN MORTDUE   VALUE   REASON     JOB   YOJ DEROG DELINQ    CLAGE  \\\n",
       "0    1  1100   25860   39025  HomeImp   Other  10.5     0      0  94.3667   \n",
       "1    1  1300   70053   68400  HomeImp   Other     7     0      2  121.833   \n",
       "2    1  1500   13500   16700  HomeImp   Other     4     0      0  149.467   \n",
       "3    1  1500                                                                \n",
       "4    0  1700   97800  112000  HomeImp  Office     3     0      0  93.3333   \n",
       "\n",
       "  NINQ CLNO DEBTINC  \n",
       "0    1    9          \n",
       "1    0   14          \n",
       "2    1   10          \n",
       "3                    \n",
       "4    0   14          "
      ]
     },
     "execution_count": 5,
     "metadata": {},
     "output_type": "execute_result"
    }
   ],
   "source": [
    "df = pd.DataFrame(list(collection.find()))\n",
    "df.drop('_id', axis=1, inplace=True)\n",
    "df.drop_duplicates(inplace=True)\n",
    "df.head()"
   ]
  },
  {
   "cell_type": "markdown",
   "metadata": {},
   "source": [
    "### Declare data types"
   ]
  },
  {
   "cell_type": "code",
   "execution_count": 6,
   "metadata": {},
   "outputs": [
    {
     "name": "stdout",
     "output_type": "stream",
     "text": [
      "<class 'pandas.core.frame.DataFrame'>\n",
      "Int64Index: 5960 entries, 0 to 5959\n",
      "Data columns (total 13 columns):\n",
      "BAD        5960 non-null int64\n",
      "LOAN       5960 non-null int64\n",
      "MORTDUE    5960 non-null object\n",
      "VALUE      5960 non-null object\n",
      "REASON     5960 non-null object\n",
      "JOB        5960 non-null object\n",
      "YOJ        5960 non-null object\n",
      "DEROG      5960 non-null object\n",
      "DELINQ     5960 non-null object\n",
      "CLAGE      5960 non-null object\n",
      "NINQ       5960 non-null object\n",
      "CLNO       5960 non-null object\n",
      "DEBTINC    5960 non-null object\n",
      "dtypes: int64(2), object(11)\n",
      "memory usage: 651.9+ KB\n"
     ]
    }
   ],
   "source": [
    "df.info()"
   ]
  },
  {
   "cell_type": "code",
   "execution_count": 7,
   "metadata": {},
   "outputs": [],
   "source": [
    "cols = df[df.columns.difference(['BAD','LOAN','REASON','JOB'])].columns\n",
    "df[cols] = df[cols].apply(pd.to_numeric, downcast='float', errors='coerce')\n",
    "df['BAD']=df['BAD'].astype('category')"
   ]
  },
  {
   "cell_type": "code",
   "execution_count": 8,
   "metadata": {},
   "outputs": [
    {
     "data": {
      "text/html": [
       "<div>\n",
       "<style scoped>\n",
       "    .dataframe tbody tr th:only-of-type {\n",
       "        vertical-align: middle;\n",
       "    }\n",
       "\n",
       "    .dataframe tbody tr th {\n",
       "        vertical-align: top;\n",
       "    }\n",
       "\n",
       "    .dataframe thead th {\n",
       "        text-align: right;\n",
       "    }\n",
       "</style>\n",
       "<table border=\"1\" class=\"dataframe\">\n",
       "  <thead>\n",
       "    <tr style=\"text-align: right;\">\n",
       "      <th></th>\n",
       "      <th>BAD</th>\n",
       "      <th>LOAN</th>\n",
       "      <th>MORTDUE</th>\n",
       "      <th>VALUE</th>\n",
       "      <th>REASON</th>\n",
       "      <th>JOB</th>\n",
       "      <th>YOJ</th>\n",
       "      <th>DEROG</th>\n",
       "      <th>DELINQ</th>\n",
       "      <th>CLAGE</th>\n",
       "      <th>NINQ</th>\n",
       "      <th>CLNO</th>\n",
       "      <th>DEBTINC</th>\n",
       "    </tr>\n",
       "  </thead>\n",
       "  <tbody>\n",
       "    <tr>\n",
       "      <th>0</th>\n",
       "      <td>1</td>\n",
       "      <td>1100</td>\n",
       "      <td>25860.0</td>\n",
       "      <td>39025.0</td>\n",
       "      <td>HomeImp</td>\n",
       "      <td>Other</td>\n",
       "      <td>10.5</td>\n",
       "      <td>0.0</td>\n",
       "      <td>0.0</td>\n",
       "      <td>94.366669</td>\n",
       "      <td>1.0</td>\n",
       "      <td>9.0</td>\n",
       "      <td>NaN</td>\n",
       "    </tr>\n",
       "    <tr>\n",
       "      <th>1</th>\n",
       "      <td>1</td>\n",
       "      <td>1300</td>\n",
       "      <td>70053.0</td>\n",
       "      <td>68400.0</td>\n",
       "      <td>HomeImp</td>\n",
       "      <td>Other</td>\n",
       "      <td>7.0</td>\n",
       "      <td>0.0</td>\n",
       "      <td>2.0</td>\n",
       "      <td>121.833336</td>\n",
       "      <td>0.0</td>\n",
       "      <td>14.0</td>\n",
       "      <td>NaN</td>\n",
       "    </tr>\n",
       "    <tr>\n",
       "      <th>2</th>\n",
       "      <td>1</td>\n",
       "      <td>1500</td>\n",
       "      <td>13500.0</td>\n",
       "      <td>16700.0</td>\n",
       "      <td>HomeImp</td>\n",
       "      <td>Other</td>\n",
       "      <td>4.0</td>\n",
       "      <td>0.0</td>\n",
       "      <td>0.0</td>\n",
       "      <td>149.466660</td>\n",
       "      <td>1.0</td>\n",
       "      <td>10.0</td>\n",
       "      <td>NaN</td>\n",
       "    </tr>\n",
       "    <tr>\n",
       "      <th>3</th>\n",
       "      <td>1</td>\n",
       "      <td>1500</td>\n",
       "      <td>NaN</td>\n",
       "      <td>NaN</td>\n",
       "      <td></td>\n",
       "      <td></td>\n",
       "      <td>NaN</td>\n",
       "      <td>NaN</td>\n",
       "      <td>NaN</td>\n",
       "      <td>NaN</td>\n",
       "      <td>NaN</td>\n",
       "      <td>NaN</td>\n",
       "      <td>NaN</td>\n",
       "    </tr>\n",
       "    <tr>\n",
       "      <th>4</th>\n",
       "      <td>0</td>\n",
       "      <td>1700</td>\n",
       "      <td>97800.0</td>\n",
       "      <td>112000.0</td>\n",
       "      <td>HomeImp</td>\n",
       "      <td>Office</td>\n",
       "      <td>3.0</td>\n",
       "      <td>0.0</td>\n",
       "      <td>0.0</td>\n",
       "      <td>93.333336</td>\n",
       "      <td>0.0</td>\n",
       "      <td>14.0</td>\n",
       "      <td>NaN</td>\n",
       "    </tr>\n",
       "  </tbody>\n",
       "</table>\n",
       "</div>"
      ],
      "text/plain": [
       "  BAD  LOAN  MORTDUE     VALUE   REASON     JOB   YOJ  DEROG  DELINQ  \\\n",
       "0   1  1100  25860.0   39025.0  HomeImp   Other  10.5    0.0     0.0   \n",
       "1   1  1300  70053.0   68400.0  HomeImp   Other   7.0    0.0     2.0   \n",
       "2   1  1500  13500.0   16700.0  HomeImp   Other   4.0    0.0     0.0   \n",
       "3   1  1500      NaN       NaN                    NaN    NaN     NaN   \n",
       "4   0  1700  97800.0  112000.0  HomeImp  Office   3.0    0.0     0.0   \n",
       "\n",
       "        CLAGE  NINQ  CLNO  DEBTINC  \n",
       "0   94.366669   1.0   9.0      NaN  \n",
       "1  121.833336   0.0  14.0      NaN  \n",
       "2  149.466660   1.0  10.0      NaN  \n",
       "3         NaN   NaN   NaN      NaN  \n",
       "4   93.333336   0.0  14.0      NaN  "
      ]
     },
     "execution_count": 8,
     "metadata": {},
     "output_type": "execute_result"
    }
   ],
   "source": [
    "df.head()"
   ]
  },
  {
   "cell_type": "code",
   "execution_count": 9,
   "metadata": {},
   "outputs": [
    {
     "name": "stdout",
     "output_type": "stream",
     "text": [
      "<class 'pandas.core.frame.DataFrame'>\n",
      "Int64Index: 5960 entries, 0 to 5959\n",
      "Data columns (total 13 columns):\n",
      "BAD        5960 non-null category\n",
      "LOAN       5960 non-null int64\n",
      "MORTDUE    5442 non-null float32\n",
      "VALUE      5848 non-null float32\n",
      "REASON     5960 non-null object\n",
      "JOB        5960 non-null object\n",
      "YOJ        5445 non-null float32\n",
      "DEROG      5252 non-null float32\n",
      "DELINQ     5380 non-null float32\n",
      "CLAGE      5652 non-null float32\n",
      "NINQ       5450 non-null float32\n",
      "CLNO       5738 non-null float32\n",
      "DEBTINC    4693 non-null float32\n",
      "dtypes: category(1), float32(9), int64(1), object(2)\n",
      "memory usage: 401.7+ KB\n"
     ]
    }
   ],
   "source": [
    "df.info()"
   ]
  },
  {
   "cell_type": "markdown",
   "metadata": {},
   "source": [
    "### Declare variables "
   ]
  },
  {
   "cell_type": "code",
   "execution_count": 10,
   "metadata": {},
   "outputs": [
    {
     "name": "stdout",
     "output_type": "stream",
     "text": [
      "Index(['BAD'], dtype='object')\n",
      "['REASON', 'JOB']\n",
      "['LOAN', 'MORTDUE', 'VALUE', 'YOJ', 'DEROG', 'DELINQ', 'CLAGE', 'NINQ', 'CLNO', 'DEBTINC']\n",
      "['REASON', 'JOB', 'LOAN', 'MORTDUE', 'VALUE', 'YOJ', 'DEROG', 'DELINQ', 'CLAGE', 'NINQ', 'CLNO', 'DEBTINC']\n"
     ]
    }
   ],
   "source": [
    "#target var\n",
    "target = df.select_dtypes('category').columns\n",
    "\n",
    "#categorical (nominal and ordinal) variables\n",
    "class_inputs = list(df.select_dtypes('object').columns)\n",
    "\n",
    "#input interval variables\n",
    "numerical_inputs = list(df.select_dtypes(include=['int64', 'float32']).columns)\n",
    "\n",
    "inputs= class_inputs + numerical_inputs\n",
    "\n",
    "print(target)\n",
    "print(class_inputs)\n",
    "print(numerical_inputs)\n",
    "print(inputs)"
   ]
  },
  {
   "cell_type": "code",
   "execution_count": 11,
   "metadata": {},
   "outputs": [
    {
     "data": {
      "text/html": [
       "<div>\n",
       "<style scoped>\n",
       "    .dataframe tbody tr th:only-of-type {\n",
       "        vertical-align: middle;\n",
       "    }\n",
       "\n",
       "    .dataframe tbody tr th {\n",
       "        vertical-align: top;\n",
       "    }\n",
       "\n",
       "    .dataframe thead th {\n",
       "        text-align: right;\n",
       "    }\n",
       "</style>\n",
       "<table border=\"1\" class=\"dataframe\">\n",
       "  <thead>\n",
       "    <tr style=\"text-align: right;\">\n",
       "      <th></th>\n",
       "      <th>REASON</th>\n",
       "      <th>JOB</th>\n",
       "      <th>LOAN</th>\n",
       "      <th>MORTDUE</th>\n",
       "      <th>VALUE</th>\n",
       "      <th>YOJ</th>\n",
       "      <th>DEROG</th>\n",
       "      <th>DELINQ</th>\n",
       "      <th>CLAGE</th>\n",
       "      <th>NINQ</th>\n",
       "      <th>CLNO</th>\n",
       "      <th>DEBTINC</th>\n",
       "    </tr>\n",
       "  </thead>\n",
       "  <tbody>\n",
       "    <tr>\n",
       "      <th>0</th>\n",
       "      <td>HomeImp</td>\n",
       "      <td>Other</td>\n",
       "      <td>1100</td>\n",
       "      <td>25860.0</td>\n",
       "      <td>39025.0</td>\n",
       "      <td>10.5</td>\n",
       "      <td>0.0</td>\n",
       "      <td>0.0</td>\n",
       "      <td>94.366669</td>\n",
       "      <td>1.0</td>\n",
       "      <td>9.0</td>\n",
       "      <td>NaN</td>\n",
       "    </tr>\n",
       "    <tr>\n",
       "      <th>1</th>\n",
       "      <td>HomeImp</td>\n",
       "      <td>Other</td>\n",
       "      <td>1300</td>\n",
       "      <td>70053.0</td>\n",
       "      <td>68400.0</td>\n",
       "      <td>7.0</td>\n",
       "      <td>0.0</td>\n",
       "      <td>2.0</td>\n",
       "      <td>121.833336</td>\n",
       "      <td>0.0</td>\n",
       "      <td>14.0</td>\n",
       "      <td>NaN</td>\n",
       "    </tr>\n",
       "    <tr>\n",
       "      <th>2</th>\n",
       "      <td>HomeImp</td>\n",
       "      <td>Other</td>\n",
       "      <td>1500</td>\n",
       "      <td>13500.0</td>\n",
       "      <td>16700.0</td>\n",
       "      <td>4.0</td>\n",
       "      <td>0.0</td>\n",
       "      <td>0.0</td>\n",
       "      <td>149.466660</td>\n",
       "      <td>1.0</td>\n",
       "      <td>10.0</td>\n",
       "      <td>NaN</td>\n",
       "    </tr>\n",
       "    <tr>\n",
       "      <th>3</th>\n",
       "      <td></td>\n",
       "      <td></td>\n",
       "      <td>1500</td>\n",
       "      <td>NaN</td>\n",
       "      <td>NaN</td>\n",
       "      <td>NaN</td>\n",
       "      <td>NaN</td>\n",
       "      <td>NaN</td>\n",
       "      <td>NaN</td>\n",
       "      <td>NaN</td>\n",
       "      <td>NaN</td>\n",
       "      <td>NaN</td>\n",
       "    </tr>\n",
       "    <tr>\n",
       "      <th>4</th>\n",
       "      <td>HomeImp</td>\n",
       "      <td>Office</td>\n",
       "      <td>1700</td>\n",
       "      <td>97800.0</td>\n",
       "      <td>112000.0</td>\n",
       "      <td>3.0</td>\n",
       "      <td>0.0</td>\n",
       "      <td>0.0</td>\n",
       "      <td>93.333336</td>\n",
       "      <td>0.0</td>\n",
       "      <td>14.0</td>\n",
       "      <td>NaN</td>\n",
       "    </tr>\n",
       "    <tr>\n",
       "      <th>...</th>\n",
       "      <td>...</td>\n",
       "      <td>...</td>\n",
       "      <td>...</td>\n",
       "      <td>...</td>\n",
       "      <td>...</td>\n",
       "      <td>...</td>\n",
       "      <td>...</td>\n",
       "      <td>...</td>\n",
       "      <td>...</td>\n",
       "      <td>...</td>\n",
       "      <td>...</td>\n",
       "      <td>...</td>\n",
       "    </tr>\n",
       "    <tr>\n",
       "      <th>5955</th>\n",
       "      <td>DebtCon</td>\n",
       "      <td>Other</td>\n",
       "      <td>89000</td>\n",
       "      <td>54576.0</td>\n",
       "      <td>92937.0</td>\n",
       "      <td>16.0</td>\n",
       "      <td>0.0</td>\n",
       "      <td>0.0</td>\n",
       "      <td>208.692062</td>\n",
       "      <td>0.0</td>\n",
       "      <td>15.0</td>\n",
       "      <td>35.859970</td>\n",
       "    </tr>\n",
       "    <tr>\n",
       "      <th>5956</th>\n",
       "      <td>DebtCon</td>\n",
       "      <td>Other</td>\n",
       "      <td>89200</td>\n",
       "      <td>54045.0</td>\n",
       "      <td>92924.0</td>\n",
       "      <td>15.0</td>\n",
       "      <td>0.0</td>\n",
       "      <td>0.0</td>\n",
       "      <td>212.279694</td>\n",
       "      <td>0.0</td>\n",
       "      <td>15.0</td>\n",
       "      <td>35.556591</td>\n",
       "    </tr>\n",
       "    <tr>\n",
       "      <th>5957</th>\n",
       "      <td>DebtCon</td>\n",
       "      <td>Other</td>\n",
       "      <td>89800</td>\n",
       "      <td>50370.0</td>\n",
       "      <td>91861.0</td>\n",
       "      <td>14.0</td>\n",
       "      <td>0.0</td>\n",
       "      <td>0.0</td>\n",
       "      <td>213.892715</td>\n",
       "      <td>0.0</td>\n",
       "      <td>16.0</td>\n",
       "      <td>34.340881</td>\n",
       "    </tr>\n",
       "    <tr>\n",
       "      <th>5958</th>\n",
       "      <td>DebtCon</td>\n",
       "      <td>Other</td>\n",
       "      <td>89900</td>\n",
       "      <td>48811.0</td>\n",
       "      <td>88934.0</td>\n",
       "      <td>15.0</td>\n",
       "      <td>0.0</td>\n",
       "      <td>0.0</td>\n",
       "      <td>219.600998</td>\n",
       "      <td>0.0</td>\n",
       "      <td>16.0</td>\n",
       "      <td>34.571518</td>\n",
       "    </tr>\n",
       "    <tr>\n",
       "      <th>5959</th>\n",
       "      <td>DebtCon</td>\n",
       "      <td>Other</td>\n",
       "      <td>88300</td>\n",
       "      <td>54004.0</td>\n",
       "      <td>94838.0</td>\n",
       "      <td>16.0</td>\n",
       "      <td>0.0</td>\n",
       "      <td>0.0</td>\n",
       "      <td>193.702057</td>\n",
       "      <td>0.0</td>\n",
       "      <td>15.0</td>\n",
       "      <td>36.262691</td>\n",
       "    </tr>\n",
       "  </tbody>\n",
       "</table>\n",
       "<p>5960 rows × 12 columns</p>\n",
       "</div>"
      ],
      "text/plain": [
       "       REASON     JOB   LOAN  MORTDUE     VALUE   YOJ  DEROG  DELINQ  \\\n",
       "0     HomeImp   Other   1100  25860.0   39025.0  10.5    0.0     0.0   \n",
       "1     HomeImp   Other   1300  70053.0   68400.0   7.0    0.0     2.0   \n",
       "2     HomeImp   Other   1500  13500.0   16700.0   4.0    0.0     0.0   \n",
       "3                       1500      NaN       NaN   NaN    NaN     NaN   \n",
       "4     HomeImp  Office   1700  97800.0  112000.0   3.0    0.0     0.0   \n",
       "...       ...     ...    ...      ...       ...   ...    ...     ...   \n",
       "5955  DebtCon   Other  89000  54576.0   92937.0  16.0    0.0     0.0   \n",
       "5956  DebtCon   Other  89200  54045.0   92924.0  15.0    0.0     0.0   \n",
       "5957  DebtCon   Other  89800  50370.0   91861.0  14.0    0.0     0.0   \n",
       "5958  DebtCon   Other  89900  48811.0   88934.0  15.0    0.0     0.0   \n",
       "5959  DebtCon   Other  88300  54004.0   94838.0  16.0    0.0     0.0   \n",
       "\n",
       "           CLAGE  NINQ  CLNO    DEBTINC  \n",
       "0      94.366669   1.0   9.0        NaN  \n",
       "1     121.833336   0.0  14.0        NaN  \n",
       "2     149.466660   1.0  10.0        NaN  \n",
       "3            NaN   NaN   NaN        NaN  \n",
       "4      93.333336   0.0  14.0        NaN  \n",
       "...          ...   ...   ...        ...  \n",
       "5955  208.692062   0.0  15.0  35.859970  \n",
       "5956  212.279694   0.0  15.0  35.556591  \n",
       "5957  213.892715   0.0  16.0  34.340881  \n",
       "5958  219.600998   0.0  16.0  34.571518  \n",
       "5959  193.702057   0.0  15.0  36.262691  \n",
       "\n",
       "[5960 rows x 12 columns]"
      ]
     },
     "execution_count": 11,
     "metadata": {},
     "output_type": "execute_result"
    }
   ],
   "source": [
    "df[inputs]"
   ]
  },
  {
   "cell_type": "markdown",
   "metadata": {},
   "source": [
    "### Impute missing"
   ]
  },
  {
   "cell_type": "code",
   "execution_count": 12,
   "metadata": {},
   "outputs": [
    {
     "name": "stdout",
     "output_type": "stream",
     "text": [
      "<class 'pandas.core.frame.DataFrame'>\n",
      "RangeIndex: 5960 entries, 0 to 5959\n",
      "Data columns (total 2 columns):\n",
      "REASON    5960 non-null object\n",
      "JOB       5960 non-null object\n",
      "dtypes: object(2)\n",
      "memory usage: 93.2+ KB\n",
      "--------------------------------------------------\n",
      "<class 'pandas.core.frame.DataFrame'>\n",
      "RangeIndex: 5960 entries, 0 to 5959\n",
      "Data columns (total 10 columns):\n",
      "LOAN       5960 non-null float64\n",
      "MORTDUE    5960 non-null float64\n",
      "VALUE      5960 non-null float64\n",
      "YOJ        5960 non-null float64\n",
      "DEROG      5960 non-null float64\n",
      "DELINQ     5960 non-null float64\n",
      "CLAGE      5960 non-null float64\n",
      "NINQ       5960 non-null float64\n",
      "CLNO       5960 non-null float64\n",
      "DEBTINC    5960 non-null float64\n",
      "dtypes: float64(10)\n",
      "memory usage: 465.8 KB\n"
     ]
    },
    {
     "data": {
      "text/html": [
       "<div>\n",
       "<style scoped>\n",
       "    .dataframe tbody tr th:only-of-type {\n",
       "        vertical-align: middle;\n",
       "    }\n",
       "\n",
       "    .dataframe tbody tr th {\n",
       "        vertical-align: top;\n",
       "    }\n",
       "\n",
       "    .dataframe thead th {\n",
       "        text-align: right;\n",
       "    }\n",
       "</style>\n",
       "<table border=\"1\" class=\"dataframe\">\n",
       "  <thead>\n",
       "    <tr style=\"text-align: right;\">\n",
       "      <th></th>\n",
       "      <th>LOAN</th>\n",
       "      <th>MORTDUE</th>\n",
       "      <th>VALUE</th>\n",
       "      <th>YOJ</th>\n",
       "      <th>DEROG</th>\n",
       "      <th>DELINQ</th>\n",
       "      <th>CLAGE</th>\n",
       "      <th>NINQ</th>\n",
       "      <th>CLNO</th>\n",
       "      <th>DEBTINC</th>\n",
       "    </tr>\n",
       "  </thead>\n",
       "  <tbody>\n",
       "    <tr>\n",
       "      <th>0</th>\n",
       "      <td>1100.0</td>\n",
       "      <td>25860.000000</td>\n",
       "      <td>39025.000000</td>\n",
       "      <td>10.500000</td>\n",
       "      <td>0.00000</td>\n",
       "      <td>0.000000</td>\n",
       "      <td>94.366669</td>\n",
       "      <td>1.000000</td>\n",
       "      <td>9.000000</td>\n",
       "      <td>33.779915</td>\n",
       "    </tr>\n",
       "    <tr>\n",
       "      <th>1</th>\n",
       "      <td>1300.0</td>\n",
       "      <td>70053.000000</td>\n",
       "      <td>68400.000000</td>\n",
       "      <td>7.000000</td>\n",
       "      <td>0.00000</td>\n",
       "      <td>2.000000</td>\n",
       "      <td>121.833336</td>\n",
       "      <td>0.000000</td>\n",
       "      <td>14.000000</td>\n",
       "      <td>33.779915</td>\n",
       "    </tr>\n",
       "    <tr>\n",
       "      <th>2</th>\n",
       "      <td>1500.0</td>\n",
       "      <td>13500.000000</td>\n",
       "      <td>16700.000000</td>\n",
       "      <td>4.000000</td>\n",
       "      <td>0.00000</td>\n",
       "      <td>0.000000</td>\n",
       "      <td>149.466660</td>\n",
       "      <td>1.000000</td>\n",
       "      <td>10.000000</td>\n",
       "      <td>33.779915</td>\n",
       "    </tr>\n",
       "    <tr>\n",
       "      <th>3</th>\n",
       "      <td>1500.0</td>\n",
       "      <td>73760.817199</td>\n",
       "      <td>101776.048741</td>\n",
       "      <td>8.922268</td>\n",
       "      <td>0.25457</td>\n",
       "      <td>0.449442</td>\n",
       "      <td>179.766275</td>\n",
       "      <td>1.186055</td>\n",
       "      <td>21.296096</td>\n",
       "      <td>33.779915</td>\n",
       "    </tr>\n",
       "    <tr>\n",
       "      <th>4</th>\n",
       "      <td>1700.0</td>\n",
       "      <td>97800.000000</td>\n",
       "      <td>112000.000000</td>\n",
       "      <td>3.000000</td>\n",
       "      <td>0.00000</td>\n",
       "      <td>0.000000</td>\n",
       "      <td>93.333336</td>\n",
       "      <td>0.000000</td>\n",
       "      <td>14.000000</td>\n",
       "      <td>33.779915</td>\n",
       "    </tr>\n",
       "    <tr>\n",
       "      <th>...</th>\n",
       "      <td>...</td>\n",
       "      <td>...</td>\n",
       "      <td>...</td>\n",
       "      <td>...</td>\n",
       "      <td>...</td>\n",
       "      <td>...</td>\n",
       "      <td>...</td>\n",
       "      <td>...</td>\n",
       "      <td>...</td>\n",
       "      <td>...</td>\n",
       "    </tr>\n",
       "    <tr>\n",
       "      <th>5955</th>\n",
       "      <td>89000.0</td>\n",
       "      <td>54576.000000</td>\n",
       "      <td>92937.000000</td>\n",
       "      <td>16.000000</td>\n",
       "      <td>0.00000</td>\n",
       "      <td>0.000000</td>\n",
       "      <td>208.692062</td>\n",
       "      <td>0.000000</td>\n",
       "      <td>15.000000</td>\n",
       "      <td>35.859970</td>\n",
       "    </tr>\n",
       "    <tr>\n",
       "      <th>5956</th>\n",
       "      <td>89200.0</td>\n",
       "      <td>54045.000000</td>\n",
       "      <td>92924.000000</td>\n",
       "      <td>15.000000</td>\n",
       "      <td>0.00000</td>\n",
       "      <td>0.000000</td>\n",
       "      <td>212.279694</td>\n",
       "      <td>0.000000</td>\n",
       "      <td>15.000000</td>\n",
       "      <td>35.556591</td>\n",
       "    </tr>\n",
       "    <tr>\n",
       "      <th>5957</th>\n",
       "      <td>89800.0</td>\n",
       "      <td>50370.000000</td>\n",
       "      <td>91861.000000</td>\n",
       "      <td>14.000000</td>\n",
       "      <td>0.00000</td>\n",
       "      <td>0.000000</td>\n",
       "      <td>213.892715</td>\n",
       "      <td>0.000000</td>\n",
       "      <td>16.000000</td>\n",
       "      <td>34.340881</td>\n",
       "    </tr>\n",
       "    <tr>\n",
       "      <th>5958</th>\n",
       "      <td>89900.0</td>\n",
       "      <td>48811.000000</td>\n",
       "      <td>88934.000000</td>\n",
       "      <td>15.000000</td>\n",
       "      <td>0.00000</td>\n",
       "      <td>0.000000</td>\n",
       "      <td>219.600998</td>\n",
       "      <td>0.000000</td>\n",
       "      <td>16.000000</td>\n",
       "      <td>34.571518</td>\n",
       "    </tr>\n",
       "    <tr>\n",
       "      <th>5959</th>\n",
       "      <td>88300.0</td>\n",
       "      <td>54004.000000</td>\n",
       "      <td>94838.000000</td>\n",
       "      <td>16.000000</td>\n",
       "      <td>0.00000</td>\n",
       "      <td>0.000000</td>\n",
       "      <td>193.702057</td>\n",
       "      <td>0.000000</td>\n",
       "      <td>15.000000</td>\n",
       "      <td>36.262691</td>\n",
       "    </tr>\n",
       "  </tbody>\n",
       "</table>\n",
       "<p>5960 rows × 10 columns</p>\n",
       "</div>"
      ],
      "text/plain": [
       "         LOAN       MORTDUE          VALUE        YOJ    DEROG    DELINQ  \\\n",
       "0      1100.0  25860.000000   39025.000000  10.500000  0.00000  0.000000   \n",
       "1      1300.0  70053.000000   68400.000000   7.000000  0.00000  2.000000   \n",
       "2      1500.0  13500.000000   16700.000000   4.000000  0.00000  0.000000   \n",
       "3      1500.0  73760.817199  101776.048741   8.922268  0.25457  0.449442   \n",
       "4      1700.0  97800.000000  112000.000000   3.000000  0.00000  0.000000   \n",
       "...       ...           ...            ...        ...      ...       ...   \n",
       "5955  89000.0  54576.000000   92937.000000  16.000000  0.00000  0.000000   \n",
       "5956  89200.0  54045.000000   92924.000000  15.000000  0.00000  0.000000   \n",
       "5957  89800.0  50370.000000   91861.000000  14.000000  0.00000  0.000000   \n",
       "5958  89900.0  48811.000000   88934.000000  15.000000  0.00000  0.000000   \n",
       "5959  88300.0  54004.000000   94838.000000  16.000000  0.00000  0.000000   \n",
       "\n",
       "           CLAGE      NINQ       CLNO    DEBTINC  \n",
       "0      94.366669  1.000000   9.000000  33.779915  \n",
       "1     121.833336  0.000000  14.000000  33.779915  \n",
       "2     149.466660  1.000000  10.000000  33.779915  \n",
       "3     179.766275  1.186055  21.296096  33.779915  \n",
       "4      93.333336  0.000000  14.000000  33.779915  \n",
       "...          ...       ...        ...        ...  \n",
       "5955  208.692062  0.000000  15.000000  35.859970  \n",
       "5956  212.279694  0.000000  15.000000  35.556591  \n",
       "5957  213.892715  0.000000  16.000000  34.340881  \n",
       "5958  219.600998  0.000000  16.000000  34.571518  \n",
       "5959  193.702057  0.000000  15.000000  36.262691  \n",
       "\n",
       "[5960 rows x 10 columns]"
      ]
     },
     "execution_count": 12,
     "metadata": {},
     "output_type": "execute_result"
    }
   ],
   "source": [
    "categorical_imputer = SimpleImputer(missing_values = '', strategy = 'most_frequent')\n",
    "numerical_imputer = SimpleImputer(missing_values = np.nan, strategy = 'mean')\n",
    "\n",
    "# Impute categorical variables\n",
    "\n",
    "categorical_imputer.fit(df[class_inputs])\n",
    "categorical_imputed = categorical_imputer.transform(df[class_inputs])\n",
    "df_categorical_imputed = pd.DataFrame(data=categorical_imputed, columns=class_inputs)\n",
    "df_categorical_imputed.info()\n",
    "\n",
    "print('-'*50)\n",
    "\n",
    "#Impute numerical variables\n",
    "\n",
    "numerical_imputer.fit(df[numerical_inputs])\n",
    "numerical_imputed = numerical_imputer.transform(df[numerical_inputs])\n",
    "df_numerical_imputed = pd.DataFrame(data=numerical_imputed, columns=numerical_inputs)\n",
    "df_numerical_imputed.info()\n",
    "df_numerical_imputed"
   ]
  },
  {
   "cell_type": "markdown",
   "metadata": {},
   "source": [
    "### One-Hot encoding for categorical variables"
   ]
  },
  {
   "cell_type": "code",
   "execution_count": 13,
   "metadata": {},
   "outputs": [
    {
     "name": "stdout",
     "output_type": "stream",
     "text": [
      "<class 'pandas.core.frame.DataFrame'>\n",
      "RangeIndex: 5960 entries, 0 to 5959\n",
      "Data columns (total 8 columns):\n",
      "DebtCon    5960 non-null float64\n",
      "HomeImp    5960 non-null float64\n",
      "Mgr        5960 non-null float64\n",
      "Office     5960 non-null float64\n",
      "Other      5960 non-null float64\n",
      "ProfExe    5960 non-null float64\n",
      "Sales      5960 non-null float64\n",
      "Self       5960 non-null float64\n",
      "dtypes: float64(8)\n",
      "memory usage: 372.6 KB\n"
     ]
    },
    {
     "data": {
      "text/html": [
       "<div>\n",
       "<style scoped>\n",
       "    .dataframe tbody tr th:only-of-type {\n",
       "        vertical-align: middle;\n",
       "    }\n",
       "\n",
       "    .dataframe tbody tr th {\n",
       "        vertical-align: top;\n",
       "    }\n",
       "\n",
       "    .dataframe thead th {\n",
       "        text-align: right;\n",
       "    }\n",
       "</style>\n",
       "<table border=\"1\" class=\"dataframe\">\n",
       "  <thead>\n",
       "    <tr style=\"text-align: right;\">\n",
       "      <th></th>\n",
       "      <th>DebtCon</th>\n",
       "      <th>HomeImp</th>\n",
       "      <th>Mgr</th>\n",
       "      <th>Office</th>\n",
       "      <th>Other</th>\n",
       "      <th>ProfExe</th>\n",
       "      <th>Sales</th>\n",
       "      <th>Self</th>\n",
       "    </tr>\n",
       "  </thead>\n",
       "  <tbody>\n",
       "    <tr>\n",
       "      <th>0</th>\n",
       "      <td>0.0</td>\n",
       "      <td>1.0</td>\n",
       "      <td>0.0</td>\n",
       "      <td>0.0</td>\n",
       "      <td>1.0</td>\n",
       "      <td>0.0</td>\n",
       "      <td>0.0</td>\n",
       "      <td>0.0</td>\n",
       "    </tr>\n",
       "    <tr>\n",
       "      <th>1</th>\n",
       "      <td>0.0</td>\n",
       "      <td>1.0</td>\n",
       "      <td>0.0</td>\n",
       "      <td>0.0</td>\n",
       "      <td>1.0</td>\n",
       "      <td>0.0</td>\n",
       "      <td>0.0</td>\n",
       "      <td>0.0</td>\n",
       "    </tr>\n",
       "    <tr>\n",
       "      <th>2</th>\n",
       "      <td>0.0</td>\n",
       "      <td>1.0</td>\n",
       "      <td>0.0</td>\n",
       "      <td>0.0</td>\n",
       "      <td>1.0</td>\n",
       "      <td>0.0</td>\n",
       "      <td>0.0</td>\n",
       "      <td>0.0</td>\n",
       "    </tr>\n",
       "    <tr>\n",
       "      <th>3</th>\n",
       "      <td>1.0</td>\n",
       "      <td>0.0</td>\n",
       "      <td>0.0</td>\n",
       "      <td>0.0</td>\n",
       "      <td>1.0</td>\n",
       "      <td>0.0</td>\n",
       "      <td>0.0</td>\n",
       "      <td>0.0</td>\n",
       "    </tr>\n",
       "    <tr>\n",
       "      <th>4</th>\n",
       "      <td>0.0</td>\n",
       "      <td>1.0</td>\n",
       "      <td>0.0</td>\n",
       "      <td>1.0</td>\n",
       "      <td>0.0</td>\n",
       "      <td>0.0</td>\n",
       "      <td>0.0</td>\n",
       "      <td>0.0</td>\n",
       "    </tr>\n",
       "    <tr>\n",
       "      <th>...</th>\n",
       "      <td>...</td>\n",
       "      <td>...</td>\n",
       "      <td>...</td>\n",
       "      <td>...</td>\n",
       "      <td>...</td>\n",
       "      <td>...</td>\n",
       "      <td>...</td>\n",
       "      <td>...</td>\n",
       "    </tr>\n",
       "    <tr>\n",
       "      <th>5955</th>\n",
       "      <td>1.0</td>\n",
       "      <td>0.0</td>\n",
       "      <td>0.0</td>\n",
       "      <td>0.0</td>\n",
       "      <td>1.0</td>\n",
       "      <td>0.0</td>\n",
       "      <td>0.0</td>\n",
       "      <td>0.0</td>\n",
       "    </tr>\n",
       "    <tr>\n",
       "      <th>5956</th>\n",
       "      <td>1.0</td>\n",
       "      <td>0.0</td>\n",
       "      <td>0.0</td>\n",
       "      <td>0.0</td>\n",
       "      <td>1.0</td>\n",
       "      <td>0.0</td>\n",
       "      <td>0.0</td>\n",
       "      <td>0.0</td>\n",
       "    </tr>\n",
       "    <tr>\n",
       "      <th>5957</th>\n",
       "      <td>1.0</td>\n",
       "      <td>0.0</td>\n",
       "      <td>0.0</td>\n",
       "      <td>0.0</td>\n",
       "      <td>1.0</td>\n",
       "      <td>0.0</td>\n",
       "      <td>0.0</td>\n",
       "      <td>0.0</td>\n",
       "    </tr>\n",
       "    <tr>\n",
       "      <th>5958</th>\n",
       "      <td>1.0</td>\n",
       "      <td>0.0</td>\n",
       "      <td>0.0</td>\n",
       "      <td>0.0</td>\n",
       "      <td>1.0</td>\n",
       "      <td>0.0</td>\n",
       "      <td>0.0</td>\n",
       "      <td>0.0</td>\n",
       "    </tr>\n",
       "    <tr>\n",
       "      <th>5959</th>\n",
       "      <td>1.0</td>\n",
       "      <td>0.0</td>\n",
       "      <td>0.0</td>\n",
       "      <td>0.0</td>\n",
       "      <td>1.0</td>\n",
       "      <td>0.0</td>\n",
       "      <td>0.0</td>\n",
       "      <td>0.0</td>\n",
       "    </tr>\n",
       "  </tbody>\n",
       "</table>\n",
       "<p>5960 rows × 8 columns</p>\n",
       "</div>"
      ],
      "text/plain": [
       "      DebtCon  HomeImp  Mgr  Office  Other  ProfExe  Sales  Self\n",
       "0         0.0      1.0  0.0     0.0    1.0      0.0    0.0   0.0\n",
       "1         0.0      1.0  0.0     0.0    1.0      0.0    0.0   0.0\n",
       "2         0.0      1.0  0.0     0.0    1.0      0.0    0.0   0.0\n",
       "3         1.0      0.0  0.0     0.0    1.0      0.0    0.0   0.0\n",
       "4         0.0      1.0  0.0     1.0    0.0      0.0    0.0   0.0\n",
       "...       ...      ...  ...     ...    ...      ...    ...   ...\n",
       "5955      1.0      0.0  0.0     0.0    1.0      0.0    0.0   0.0\n",
       "5956      1.0      0.0  0.0     0.0    1.0      0.0    0.0   0.0\n",
       "5957      1.0      0.0  0.0     0.0    1.0      0.0    0.0   0.0\n",
       "5958      1.0      0.0  0.0     0.0    1.0      0.0    0.0   0.0\n",
       "5959      1.0      0.0  0.0     0.0    1.0      0.0    0.0   0.0\n",
       "\n",
       "[5960 rows x 8 columns]"
      ]
     },
     "execution_count": 13,
     "metadata": {},
     "output_type": "execute_result"
    }
   ],
   "source": [
    "encoder = OneHotEncoder()\n",
    "encoder.fit(categorical_imputed)\n",
    "categorical_encoded = encoder.transform(categorical_imputed)\n",
    "\n",
    "categories = list(np.hstack(encoder.categories_, ))\n",
    "categories\n",
    "\n",
    "# print(categorical_encoded.toarray())\n",
    "df_categorical_encoded = pd.DataFrame(data=categorical_encoded.toarray(), columns=categories)\n",
    "df_categorical_encoded.info()\n",
    "df_categorical_encoded"
   ]
  },
  {
   "cell_type": "markdown",
   "metadata": {},
   "source": [
    "### ABT"
   ]
  },
  {
   "cell_type": "code",
   "execution_count": 14,
   "metadata": {},
   "outputs": [
    {
     "data": {
      "text/html": [
       "<div>\n",
       "<style scoped>\n",
       "    .dataframe tbody tr th:only-of-type {\n",
       "        vertical-align: middle;\n",
       "    }\n",
       "\n",
       "    .dataframe tbody tr th {\n",
       "        vertical-align: top;\n",
       "    }\n",
       "\n",
       "    .dataframe thead th {\n",
       "        text-align: right;\n",
       "    }\n",
       "</style>\n",
       "<table border=\"1\" class=\"dataframe\">\n",
       "  <thead>\n",
       "    <tr style=\"text-align: right;\">\n",
       "      <th></th>\n",
       "      <th>BAD</th>\n",
       "      <th>LOAN</th>\n",
       "      <th>MORTDUE</th>\n",
       "      <th>VALUE</th>\n",
       "      <th>YOJ</th>\n",
       "      <th>DEROG</th>\n",
       "      <th>DELINQ</th>\n",
       "      <th>CLAGE</th>\n",
       "      <th>NINQ</th>\n",
       "      <th>CLNO</th>\n",
       "      <th>DEBTINC</th>\n",
       "      <th>DebtCon</th>\n",
       "      <th>HomeImp</th>\n",
       "      <th>Mgr</th>\n",
       "      <th>Office</th>\n",
       "      <th>Other</th>\n",
       "      <th>ProfExe</th>\n",
       "      <th>Sales</th>\n",
       "      <th>Self</th>\n",
       "    </tr>\n",
       "  </thead>\n",
       "  <tbody>\n",
       "    <tr>\n",
       "      <th>0</th>\n",
       "      <td>1</td>\n",
       "      <td>1100.0</td>\n",
       "      <td>25860.000000</td>\n",
       "      <td>39025.000000</td>\n",
       "      <td>10.500000</td>\n",
       "      <td>0.00000</td>\n",
       "      <td>0.000000</td>\n",
       "      <td>94.366669</td>\n",
       "      <td>1.000000</td>\n",
       "      <td>9.000000</td>\n",
       "      <td>33.779915</td>\n",
       "      <td>0.0</td>\n",
       "      <td>1.0</td>\n",
       "      <td>0.0</td>\n",
       "      <td>0.0</td>\n",
       "      <td>1.0</td>\n",
       "      <td>0.0</td>\n",
       "      <td>0.0</td>\n",
       "      <td>0.0</td>\n",
       "    </tr>\n",
       "    <tr>\n",
       "      <th>1</th>\n",
       "      <td>1</td>\n",
       "      <td>1300.0</td>\n",
       "      <td>70053.000000</td>\n",
       "      <td>68400.000000</td>\n",
       "      <td>7.000000</td>\n",
       "      <td>0.00000</td>\n",
       "      <td>2.000000</td>\n",
       "      <td>121.833336</td>\n",
       "      <td>0.000000</td>\n",
       "      <td>14.000000</td>\n",
       "      <td>33.779915</td>\n",
       "      <td>0.0</td>\n",
       "      <td>1.0</td>\n",
       "      <td>0.0</td>\n",
       "      <td>0.0</td>\n",
       "      <td>1.0</td>\n",
       "      <td>0.0</td>\n",
       "      <td>0.0</td>\n",
       "      <td>0.0</td>\n",
       "    </tr>\n",
       "    <tr>\n",
       "      <th>2</th>\n",
       "      <td>1</td>\n",
       "      <td>1500.0</td>\n",
       "      <td>13500.000000</td>\n",
       "      <td>16700.000000</td>\n",
       "      <td>4.000000</td>\n",
       "      <td>0.00000</td>\n",
       "      <td>0.000000</td>\n",
       "      <td>149.466660</td>\n",
       "      <td>1.000000</td>\n",
       "      <td>10.000000</td>\n",
       "      <td>33.779915</td>\n",
       "      <td>0.0</td>\n",
       "      <td>1.0</td>\n",
       "      <td>0.0</td>\n",
       "      <td>0.0</td>\n",
       "      <td>1.0</td>\n",
       "      <td>0.0</td>\n",
       "      <td>0.0</td>\n",
       "      <td>0.0</td>\n",
       "    </tr>\n",
       "    <tr>\n",
       "      <th>3</th>\n",
       "      <td>1</td>\n",
       "      <td>1500.0</td>\n",
       "      <td>73760.817199</td>\n",
       "      <td>101776.048741</td>\n",
       "      <td>8.922268</td>\n",
       "      <td>0.25457</td>\n",
       "      <td>0.449442</td>\n",
       "      <td>179.766275</td>\n",
       "      <td>1.186055</td>\n",
       "      <td>21.296096</td>\n",
       "      <td>33.779915</td>\n",
       "      <td>1.0</td>\n",
       "      <td>0.0</td>\n",
       "      <td>0.0</td>\n",
       "      <td>0.0</td>\n",
       "      <td>1.0</td>\n",
       "      <td>0.0</td>\n",
       "      <td>0.0</td>\n",
       "      <td>0.0</td>\n",
       "    </tr>\n",
       "    <tr>\n",
       "      <th>4</th>\n",
       "      <td>0</td>\n",
       "      <td>1700.0</td>\n",
       "      <td>97800.000000</td>\n",
       "      <td>112000.000000</td>\n",
       "      <td>3.000000</td>\n",
       "      <td>0.00000</td>\n",
       "      <td>0.000000</td>\n",
       "      <td>93.333336</td>\n",
       "      <td>0.000000</td>\n",
       "      <td>14.000000</td>\n",
       "      <td>33.779915</td>\n",
       "      <td>0.0</td>\n",
       "      <td>1.0</td>\n",
       "      <td>0.0</td>\n",
       "      <td>1.0</td>\n",
       "      <td>0.0</td>\n",
       "      <td>0.0</td>\n",
       "      <td>0.0</td>\n",
       "      <td>0.0</td>\n",
       "    </tr>\n",
       "    <tr>\n",
       "      <th>...</th>\n",
       "      <td>...</td>\n",
       "      <td>...</td>\n",
       "      <td>...</td>\n",
       "      <td>...</td>\n",
       "      <td>...</td>\n",
       "      <td>...</td>\n",
       "      <td>...</td>\n",
       "      <td>...</td>\n",
       "      <td>...</td>\n",
       "      <td>...</td>\n",
       "      <td>...</td>\n",
       "      <td>...</td>\n",
       "      <td>...</td>\n",
       "      <td>...</td>\n",
       "      <td>...</td>\n",
       "      <td>...</td>\n",
       "      <td>...</td>\n",
       "      <td>...</td>\n",
       "      <td>...</td>\n",
       "    </tr>\n",
       "    <tr>\n",
       "      <th>5955</th>\n",
       "      <td>0</td>\n",
       "      <td>89000.0</td>\n",
       "      <td>54576.000000</td>\n",
       "      <td>92937.000000</td>\n",
       "      <td>16.000000</td>\n",
       "      <td>0.00000</td>\n",
       "      <td>0.000000</td>\n",
       "      <td>208.692062</td>\n",
       "      <td>0.000000</td>\n",
       "      <td>15.000000</td>\n",
       "      <td>35.859970</td>\n",
       "      <td>1.0</td>\n",
       "      <td>0.0</td>\n",
       "      <td>0.0</td>\n",
       "      <td>0.0</td>\n",
       "      <td>1.0</td>\n",
       "      <td>0.0</td>\n",
       "      <td>0.0</td>\n",
       "      <td>0.0</td>\n",
       "    </tr>\n",
       "    <tr>\n",
       "      <th>5956</th>\n",
       "      <td>0</td>\n",
       "      <td>89200.0</td>\n",
       "      <td>54045.000000</td>\n",
       "      <td>92924.000000</td>\n",
       "      <td>15.000000</td>\n",
       "      <td>0.00000</td>\n",
       "      <td>0.000000</td>\n",
       "      <td>212.279694</td>\n",
       "      <td>0.000000</td>\n",
       "      <td>15.000000</td>\n",
       "      <td>35.556591</td>\n",
       "      <td>1.0</td>\n",
       "      <td>0.0</td>\n",
       "      <td>0.0</td>\n",
       "      <td>0.0</td>\n",
       "      <td>1.0</td>\n",
       "      <td>0.0</td>\n",
       "      <td>0.0</td>\n",
       "      <td>0.0</td>\n",
       "    </tr>\n",
       "    <tr>\n",
       "      <th>5957</th>\n",
       "      <td>0</td>\n",
       "      <td>89800.0</td>\n",
       "      <td>50370.000000</td>\n",
       "      <td>91861.000000</td>\n",
       "      <td>14.000000</td>\n",
       "      <td>0.00000</td>\n",
       "      <td>0.000000</td>\n",
       "      <td>213.892715</td>\n",
       "      <td>0.000000</td>\n",
       "      <td>16.000000</td>\n",
       "      <td>34.340881</td>\n",
       "      <td>1.0</td>\n",
       "      <td>0.0</td>\n",
       "      <td>0.0</td>\n",
       "      <td>0.0</td>\n",
       "      <td>1.0</td>\n",
       "      <td>0.0</td>\n",
       "      <td>0.0</td>\n",
       "      <td>0.0</td>\n",
       "    </tr>\n",
       "    <tr>\n",
       "      <th>5958</th>\n",
       "      <td>0</td>\n",
       "      <td>89900.0</td>\n",
       "      <td>48811.000000</td>\n",
       "      <td>88934.000000</td>\n",
       "      <td>15.000000</td>\n",
       "      <td>0.00000</td>\n",
       "      <td>0.000000</td>\n",
       "      <td>219.600998</td>\n",
       "      <td>0.000000</td>\n",
       "      <td>16.000000</td>\n",
       "      <td>34.571518</td>\n",
       "      <td>1.0</td>\n",
       "      <td>0.0</td>\n",
       "      <td>0.0</td>\n",
       "      <td>0.0</td>\n",
       "      <td>1.0</td>\n",
       "      <td>0.0</td>\n",
       "      <td>0.0</td>\n",
       "      <td>0.0</td>\n",
       "    </tr>\n",
       "    <tr>\n",
       "      <th>5959</th>\n",
       "      <td>0</td>\n",
       "      <td>88300.0</td>\n",
       "      <td>54004.000000</td>\n",
       "      <td>94838.000000</td>\n",
       "      <td>16.000000</td>\n",
       "      <td>0.00000</td>\n",
       "      <td>0.000000</td>\n",
       "      <td>193.702057</td>\n",
       "      <td>0.000000</td>\n",
       "      <td>15.000000</td>\n",
       "      <td>36.262691</td>\n",
       "      <td>1.0</td>\n",
       "      <td>0.0</td>\n",
       "      <td>0.0</td>\n",
       "      <td>0.0</td>\n",
       "      <td>1.0</td>\n",
       "      <td>0.0</td>\n",
       "      <td>0.0</td>\n",
       "      <td>0.0</td>\n",
       "    </tr>\n",
       "  </tbody>\n",
       "</table>\n",
       "<p>5960 rows × 19 columns</p>\n",
       "</div>"
      ],
      "text/plain": [
       "     BAD     LOAN       MORTDUE          VALUE        YOJ    DEROG    DELINQ  \\\n",
       "0      1   1100.0  25860.000000   39025.000000  10.500000  0.00000  0.000000   \n",
       "1      1   1300.0  70053.000000   68400.000000   7.000000  0.00000  2.000000   \n",
       "2      1   1500.0  13500.000000   16700.000000   4.000000  0.00000  0.000000   \n",
       "3      1   1500.0  73760.817199  101776.048741   8.922268  0.25457  0.449442   \n",
       "4      0   1700.0  97800.000000  112000.000000   3.000000  0.00000  0.000000   \n",
       "...   ..      ...           ...            ...        ...      ...       ...   \n",
       "5955   0  89000.0  54576.000000   92937.000000  16.000000  0.00000  0.000000   \n",
       "5956   0  89200.0  54045.000000   92924.000000  15.000000  0.00000  0.000000   \n",
       "5957   0  89800.0  50370.000000   91861.000000  14.000000  0.00000  0.000000   \n",
       "5958   0  89900.0  48811.000000   88934.000000  15.000000  0.00000  0.000000   \n",
       "5959   0  88300.0  54004.000000   94838.000000  16.000000  0.00000  0.000000   \n",
       "\n",
       "           CLAGE      NINQ       CLNO    DEBTINC  DebtCon  HomeImp  Mgr  \\\n",
       "0      94.366669  1.000000   9.000000  33.779915      0.0      1.0  0.0   \n",
       "1     121.833336  0.000000  14.000000  33.779915      0.0      1.0  0.0   \n",
       "2     149.466660  1.000000  10.000000  33.779915      0.0      1.0  0.0   \n",
       "3     179.766275  1.186055  21.296096  33.779915      1.0      0.0  0.0   \n",
       "4      93.333336  0.000000  14.000000  33.779915      0.0      1.0  0.0   \n",
       "...          ...       ...        ...        ...      ...      ...  ...   \n",
       "5955  208.692062  0.000000  15.000000  35.859970      1.0      0.0  0.0   \n",
       "5956  212.279694  0.000000  15.000000  35.556591      1.0      0.0  0.0   \n",
       "5957  213.892715  0.000000  16.000000  34.340881      1.0      0.0  0.0   \n",
       "5958  219.600998  0.000000  16.000000  34.571518      1.0      0.0  0.0   \n",
       "5959  193.702057  0.000000  15.000000  36.262691      1.0      0.0  0.0   \n",
       "\n",
       "      Office  Other  ProfExe  Sales  Self  \n",
       "0        0.0    1.0      0.0    0.0   0.0  \n",
       "1        0.0    1.0      0.0    0.0   0.0  \n",
       "2        0.0    1.0      0.0    0.0   0.0  \n",
       "3        0.0    1.0      0.0    0.0   0.0  \n",
       "4        1.0    0.0      0.0    0.0   0.0  \n",
       "...      ...    ...      ...    ...   ...  \n",
       "5955     0.0    1.0      0.0    0.0   0.0  \n",
       "5956     0.0    1.0      0.0    0.0   0.0  \n",
       "5957     0.0    1.0      0.0    0.0   0.0  \n",
       "5958     0.0    1.0      0.0    0.0   0.0  \n",
       "5959     0.0    1.0      0.0    0.0   0.0  \n",
       "\n",
       "[5960 rows x 19 columns]"
      ]
     },
     "execution_count": 14,
     "metadata": {},
     "output_type": "execute_result"
    }
   ],
   "source": [
    "abt = pd.concat([df[target], df_numerical_imputed, df_categorical_encoded], axis=1)\n",
    "abt\n"
   ]
  },
  {
   "cell_type": "code",
   "execution_count": 15,
   "metadata": {},
   "outputs": [
    {
     "name": "stdout",
     "output_type": "stream",
     "text": [
      "<class 'pandas.core.frame.DataFrame'>\n",
      "Int64Index: 5960 entries, 0 to 5959\n",
      "Data columns (total 19 columns):\n",
      "BAD        5960 non-null category\n",
      "LOAN       5960 non-null float64\n",
      "MORTDUE    5960 non-null float64\n",
      "VALUE      5960 non-null float64\n",
      "YOJ        5960 non-null float64\n",
      "DEROG      5960 non-null float64\n",
      "DELINQ     5960 non-null float64\n",
      "CLAGE      5960 non-null float64\n",
      "NINQ       5960 non-null float64\n",
      "CLNO       5960 non-null float64\n",
      "DEBTINC    5960 non-null float64\n",
      "DebtCon    5960 non-null float64\n",
      "HomeImp    5960 non-null float64\n",
      "Mgr        5960 non-null float64\n",
      "Office     5960 non-null float64\n",
      "Other      5960 non-null float64\n",
      "ProfExe    5960 non-null float64\n",
      "Sales      5960 non-null float64\n",
      "Self       5960 non-null float64\n",
      "dtypes: category(1), float64(18)\n",
      "memory usage: 890.6 KB\n"
     ]
    }
   ],
   "source": [
    "abt.info()"
   ]
  },
  {
   "cell_type": "markdown",
   "metadata": {},
   "source": [
    "## Model Development"
   ]
  },
  {
   "cell_type": "code",
   "execution_count": 16,
   "metadata": {},
   "outputs": [],
   "source": [
    "X_train, X_test, y_train, y_test = model_selection.train_test_split(abt[abt.columns.difference(target)], \n",
    "                                                                    abt[target], \n",
    "                                                                    test_size=0.33, random_state=27513)"
   ]
  },
  {
   "cell_type": "markdown",
   "metadata": {},
   "source": [
    "## Look at traditional models..."
   ]
  },
  {
   "cell_type": "code",
   "execution_count": 17,
   "metadata": {},
   "outputs": [],
   "source": [
    "from sklearn.linear_model import LogisticRegression\n",
    "from sklearn.tree import DecisionTreeClassifier\n",
    "from sklearn.ensemble import RandomForestClassifier, GradientBoostingClassifier\n",
    "\n",
    "classifiers = [\n",
    "    LogisticRegression(),\n",
    "    DecisionTreeClassifier(),\n",
    "    RandomForestClassifier(),\n",
    "    GradientBoostingClassifier()\n",
    "    ]\n",
    "\n",
    "labels = ['Logit', 'DTree', 'RFor', 'GBoost']"
   ]
  },
  {
   "cell_type": "code",
   "execution_count": 18,
   "metadata": {},
   "outputs": [
    {
     "name": "stderr",
     "output_type": "stream",
     "text": [
      "/opt/conda/lib/python3.7/site-packages/sklearn/linear_model/logistic.py:432: FutureWarning: Default solver will be changed to 'lbfgs' in 0.22. Specify a solver to silence this warning.\n",
      "  FutureWarning)\n",
      "/opt/conda/lib/python3.7/site-packages/sklearn/ensemble/forest.py:245: FutureWarning: The default value of n_estimators will change from 10 in version 0.20 to 100 in 0.22.\n",
      "  \"10 in version 0.20 to 100 in 0.22.\", FutureWarning)\n"
     ]
    },
    {
     "name": "stdout",
     "output_type": "stream",
     "text": [
      "[{'label': 'Logit',\n",
      "  'model': LogisticRegression(C=1.0, class_weight=None, dual=False, fit_intercept=True,\n",
      "                   intercept_scaling=1, l1_ratio=None, max_iter=100,\n",
      "                   multi_class='warn', n_jobs=None, penalty='l2',\n",
      "                   random_state=None, solver='warn', tol=0.0001, verbose=0,\n",
      "                   warm_start=False)},\n",
      " {'label': 'DTree',\n",
      "  'model': DecisionTreeClassifier(class_weight=None, criterion='gini', max_depth=None,\n",
      "                       max_features=None, max_leaf_nodes=None,\n",
      "                       min_impurity_decrease=0.0, min_impurity_split=None,\n",
      "                       min_samples_leaf=1, min_samples_split=2,\n",
      "                       min_weight_fraction_leaf=0.0, presort=False,\n",
      "                       random_state=None, splitter='best')},\n",
      " {'label': 'RFor',\n",
      "  'model': RandomForestClassifier(bootstrap=True, class_weight=None, criterion='gini',\n",
      "                       max_depth=None, max_features='auto', max_leaf_nodes=None,\n",
      "                       min_impurity_decrease=0.0, min_impurity_split=None,\n",
      "                       min_samples_leaf=1, min_samples_split=2,\n",
      "                       min_weight_fraction_leaf=0.0, n_estimators=10,\n",
      "                       n_jobs=None, oob_score=False, random_state=None,\n",
      "                       verbose=0, warm_start=False)},\n",
      " {'label': 'GBoost',\n",
      "  'model': GradientBoostingClassifier(criterion='friedman_mse', init=None,\n",
      "                           learning_rate=0.1, loss='deviance', max_depth=3,\n",
      "                           max_features=None, max_leaf_nodes=None,\n",
      "                           min_impurity_decrease=0.0, min_impurity_split=None,\n",
      "                           min_samples_leaf=1, min_samples_split=2,\n",
      "                           min_weight_fraction_leaf=0.0, n_estimators=100,\n",
      "                           n_iter_no_change=None, presort='auto',\n",
      "                           random_state=None, subsample=1.0, tol=0.0001,\n",
      "                           validation_fraction=0.1, verbose=0,\n",
      "                           warm_start=False)}]\n"
     ]
    }
   ],
   "source": [
    "models = []\n",
    "models_dic = {}\n",
    "\n",
    "for label, classifier in zip(labels, classifiers):\n",
    "    model = classifier.fit(X_train, y_train.values.ravel())\n",
    "    models_dic = {'label': label, 'model': model}\n",
    "    models.append(models_dic)\n",
    "\n",
    "pprint.pprint(models)"
   ]
  },
  {
   "cell_type": "code",
   "execution_count": 19,
   "metadata": {},
   "outputs": [
    {
     "name": "stdout",
     "output_type": "stream",
     "text": [
      "Misclassification Rates\n",
      "Logit : 0.1962379257752923\n",
      "DTree : 0.12150482968988308\n",
      "RFor : 0.08642602948652767\n",
      "GBoost : 0.09811896288764621\n"
     ]
    }
   ],
   "source": [
    "print('Misclassification Rates')\n",
    "for m in models:\n",
    "    dt_misclassification = 1 - metrics.accuracy_score(y_test, m['model'].predict(X_test))\n",
    "    print('{} :'.format(m['label']), dt_misclassification)"
   ]
  },
  {
   "cell_type": "code",
   "execution_count": 20,
   "metadata": {},
   "outputs": [
    {
     "data": {
      "image/png": "[encoded data removed]",
      "text/plain": [
       "<Figure size 504x360 with 1 Axes>"
      ]
     },
     "metadata": {
      "needs_background": "light"
     },
     "output_type": "display_data"
    }
   ],
   "source": [
    "plt.figure(figsize = (7, 5))\n",
    "for m in models:\n",
    "    model = m['model']\n",
    "    fpr, tpr, thresholds = metrics.roc_curve(y_test, model.predict_proba(X_test)[:,1])\n",
    "    auc = metrics.roc_auc_score(y_test,model.predict(X_test))\n",
    "    plt.plot(fpr, tpr, label='%s ROC (area = %0.2f)' % (m['label'], auc))\n",
    "plt.plot([0, 1], [0, 1],'r--')\n",
    "plt.xlim([0.0, 1.0])\n",
    "plt.ylim([0.0, 1.05])\n",
    "plt.xlabel('False Postive Rate')\n",
    "plt.ylabel('True Positive Rate')\n",
    "plt.title('ROC Curve (using validation data)')\n",
    "plt.legend(loc=\"lower right\")\n",
    "plt.show()"
   ]
  },
  {
   "cell_type": "code",
   "execution_count": 21,
   "metadata": {},
   "outputs": [],
   "source": [
    "del_models = ['Logit', 'DTree']\n",
    "\n",
    "for model_dict in models:\n",
    "    if model_dict['label'] in del_models:\n",
    "        models.remove(model_dict)"
   ]
  },
  {
   "cell_type": "markdown",
   "metadata": {},
   "source": [
    "## Model Assessment"
   ]
  },
  {
   "cell_type": "code",
   "execution_count": 22,
   "metadata": {},
   "outputs": [
    {
     "name": "stdout",
     "output_type": "stream",
     "text": [
      "[0]\tvalidation_0-error:0.132983\tvalidation_0-logloss:0.632955\tvalidation_1-error:0.141332\tvalidation_1-logloss:0.633291\n",
      "Multiple eval metrics have been passed: 'validation_1-logloss' will be used for early stopping.\n",
      "\n",
      "Will train until validation_1-logloss hasn't improved in 10 rounds.\n",
      "[1]\tvalidation_0-error:0.123967\tvalidation_0-logloss:0.589621\tvalidation_1-error:0.118455\tvalidation_1-logloss:0.591154\n",
      "[2]\tvalidation_0-error:0.121963\tvalidation_0-logloss:0.547251\tvalidation_1-error:0.11998\tvalidation_1-logloss:0.54912\n",
      "[3]\tvalidation_0-error:0.122464\tvalidation_0-logloss:0.51643\tvalidation_1-error:0.117946\tvalidation_1-logloss:0.519304\n",
      "[4]\tvalidation_0-error:0.119459\tvalidation_0-logloss:0.484503\tvalidation_1-error:0.114387\tvalidation_1-logloss:0.487593\n",
      "[5]\tvalidation_0-error:0.11996\tvalidation_0-logloss:0.457353\tvalidation_1-error:0.114896\tvalidation_1-logloss:0.461332\n",
      "[6]\tvalidation_0-error:0.119209\tvalidation_0-logloss:0.434235\tvalidation_1-error:0.114387\tvalidation_1-logloss:0.439161\n",
      "[7]\tvalidation_0-error:0.119709\tvalidation_0-logloss:0.414584\tvalidation_1-error:0.113879\tvalidation_1-logloss:0.419953\n",
      "[8]\tvalidation_0-error:0.110193\tvalidation_0-logloss:0.398011\tvalidation_1-error:0.112354\tvalidation_1-logloss:0.40487\n",
      "[9]\tvalidation_0-error:0.113198\tvalidation_0-logloss:0.384941\tvalidation_1-error:0.110829\tvalidation_1-logloss:0.392773\n",
      "[10]\tvalidation_0-error:0.107188\tvalidation_0-logloss:0.369814\tvalidation_1-error:0.107778\tvalidation_1-logloss:0.378188\n",
      "[11]\tvalidation_0-error:0.112948\tvalidation_0-logloss:0.359322\tvalidation_1-error:0.112354\tvalidation_1-logloss:0.368626\n",
      "[12]\tvalidation_0-error:0.107438\tvalidation_0-logloss:0.347769\tvalidation_1-error:0.110829\tvalidation_1-logloss:0.3582\n",
      "[13]\tvalidation_0-error:0.106687\tvalidation_0-logloss:0.338684\tvalidation_1-error:0.108795\tvalidation_1-logloss:0.350136\n",
      "[14]\tvalidation_0-error:0.105184\tvalidation_0-logloss:0.329469\tvalidation_1-error:0.109812\tvalidation_1-logloss:0.341876\n",
      "[15]\tvalidation_0-error:0.104683\tvalidation_0-logloss:0.322458\tvalidation_1-error:0.112862\tvalidation_1-logloss:0.335808\n",
      "[16]\tvalidation_0-error:0.104182\tvalidation_0-logloss:0.3146\tvalidation_1-error:0.108287\tvalidation_1-logloss:0.327733\n",
      "[17]\tvalidation_0-error:0.10268\tvalidation_0-logloss:0.30875\tvalidation_1-error:0.106253\tvalidation_1-logloss:0.322563\n"
     ]
    },
    {
     "name": "stderr",
     "output_type": "stream",
     "text": [
      "/opt/conda/lib/python3.7/site-packages/sklearn/preprocessing/label.py:252: DataConversionWarning: A column-vector y was passed when a 1d array was expected. Please change the shape of y to (n_samples, ), for example using ravel().\n",
      "  y = column_or_1d(y, warn=True)\n"
     ]
    },
    {
     "name": "stdout",
     "output_type": "stream",
     "text": [
      "[18]\tvalidation_0-error:0.10293\tvalidation_0-logloss:0.301774\tvalidation_1-error:0.109812\tvalidation_1-logloss:0.316851\n",
      "[19]\tvalidation_0-error:0.101678\tvalidation_0-logloss:0.296885\tvalidation_1-error:0.109304\tvalidation_1-logloss:0.313289\n",
      "[20]\tvalidation_0-error:0.100676\tvalidation_0-logloss:0.291485\tvalidation_1-error:0.109812\tvalidation_1-logloss:0.308966\n",
      "[21]\tvalidation_0-error:0.100927\tvalidation_0-logloss:0.287363\tvalidation_1-error:0.109304\tvalidation_1-logloss:0.305637\n",
      "[22]\tvalidation_0-error:0.100175\tvalidation_0-logloss:0.283351\tvalidation_1-error:0.109304\tvalidation_1-logloss:0.302766\n",
      "[23]\tvalidation_0-error:0.097921\tvalidation_0-logloss:0.278641\tvalidation_1-error:0.108287\tvalidation_1-logloss:0.29874\n",
      "[24]\tvalidation_0-error:0.09742\tvalidation_0-logloss:0.274573\tvalidation_1-error:0.107778\tvalidation_1-logloss:0.295486\n",
      "[25]\tvalidation_0-error:0.095918\tvalidation_0-logloss:0.270858\tvalidation_1-error:0.10727\tvalidation_1-logloss:0.293103\n",
      "[26]\tvalidation_0-error:0.099174\tvalidation_0-logloss:0.267858\tvalidation_1-error:0.109304\tvalidation_1-logloss:0.290589\n",
      "[27]\tvalidation_0-error:0.095667\tvalidation_0-logloss:0.264971\tvalidation_1-error:0.106762\tvalidation_1-logloss:0.288873\n",
      "[28]\tvalidation_0-error:0.095918\tvalidation_0-logloss:0.262153\tvalidation_1-error:0.105745\tvalidation_1-logloss:0.286202\n",
      "[29]\tvalidation_0-error:0.095667\tvalidation_0-logloss:0.259651\tvalidation_1-error:0.105236\tvalidation_1-logloss:0.284126\n",
      "[30]\tvalidation_0-error:0.095167\tvalidation_0-logloss:0.257082\tvalidation_1-error:0.103203\tvalidation_1-logloss:0.282638\n",
      "[31]\tvalidation_0-error:0.095918\tvalidation_0-logloss:0.25462\tvalidation_1-error:0.102694\tvalidation_1-logloss:0.281279\n",
      "[32]\tvalidation_0-error:0.096419\tvalidation_0-logloss:0.25242\tvalidation_1-error:0.103203\tvalidation_1-logloss:0.279826\n",
      "[33]\tvalidation_0-error:0.095918\tvalidation_0-logloss:0.250162\tvalidation_1-error:0.10422\tvalidation_1-logloss:0.278204\n",
      "[34]\tvalidation_0-error:0.094165\tvalidation_0-logloss:0.248065\tvalidation_1-error:0.102694\tvalidation_1-logloss:0.276629\n",
      "[35]\tvalidation_0-error:0.093413\tvalidation_0-logloss:0.24651\tvalidation_1-error:0.102694\tvalidation_1-logloss:0.275636\n",
      "[36]\tvalidation_0-error:0.092161\tvalidation_0-logloss:0.244093\tvalidation_1-error:0.102694\tvalidation_1-logloss:0.274346\n",
      "[37]\tvalidation_0-error:0.094415\tvalidation_0-logloss:0.241952\tvalidation_1-error:0.102694\tvalidation_1-logloss:0.272821\n",
      "[38]\tvalidation_0-error:0.092412\tvalidation_0-logloss:0.239908\tvalidation_1-error:0.103203\tvalidation_1-logloss:0.271867\n",
      "[39]\tvalidation_0-error:0.090909\tvalidation_0-logloss:0.23806\tvalidation_1-error:0.104728\tvalidation_1-logloss:0.270997\n",
      "[40]\tvalidation_0-error:0.09116\tvalidation_0-logloss:0.236292\tvalidation_1-error:0.104728\tvalidation_1-logloss:0.269818\n",
      "[41]\tvalidation_0-error:0.089406\tvalidation_0-logloss:0.23369\tvalidation_1-error:0.103203\tvalidation_1-logloss:0.26813\n",
      "[42]\tvalidation_0-error:0.089907\tvalidation_0-logloss:0.23263\tvalidation_1-error:0.103711\tvalidation_1-logloss:0.267297\n",
      "[43]\tvalidation_0-error:0.088405\tvalidation_0-logloss:0.231474\tvalidation_1-error:0.103203\tvalidation_1-logloss:0.266698\n",
      "[44]\tvalidation_0-error:0.088154\tvalidation_0-logloss:0.230144\tvalidation_1-error:0.101169\tvalidation_1-logloss:0.265694\n",
      "[45]\tvalidation_0-error:0.086652\tvalidation_0-logloss:0.228675\tvalidation_1-error:0.102186\tvalidation_1-logloss:0.265041\n",
      "[46]\tvalidation_0-error:0.087153\tvalidation_0-logloss:0.226512\tvalidation_1-error:0.101169\tvalidation_1-logloss:0.263997\n",
      "[47]\tvalidation_0-error:0.087904\tvalidation_0-logloss:0.22473\tvalidation_1-error:0.101169\tvalidation_1-logloss:0.263134\n",
      "[48]\tvalidation_0-error:0.087653\tvalidation_0-logloss:0.222862\tvalidation_1-error:0.101678\tvalidation_1-logloss:0.262454\n",
      "[49]\tvalidation_0-error:0.08565\tvalidation_0-logloss:0.220848\tvalidation_1-error:0.101678\tvalidation_1-logloss:0.261682\n",
      "[50]\tvalidation_0-error:0.08565\tvalidation_0-logloss:0.219091\tvalidation_1-error:0.101678\tvalidation_1-logloss:0.260782\n",
      "[51]\tvalidation_0-error:0.084147\tvalidation_0-logloss:0.218263\tvalidation_1-error:0.101169\tvalidation_1-logloss:0.259907\n",
      "[52]\tvalidation_0-error:0.084147\tvalidation_0-logloss:0.21768\tvalidation_1-error:0.100153\tvalidation_1-logloss:0.259579\n",
      "[53]\tvalidation_0-error:0.083396\tvalidation_0-logloss:0.216421\tvalidation_1-error:0.100661\tvalidation_1-logloss:0.258828\n",
      "[54]\tvalidation_0-error:0.082895\tvalidation_0-logloss:0.215522\tvalidation_1-error:0.100153\tvalidation_1-logloss:0.258442\n",
      "[55]\tvalidation_0-error:0.081392\tvalidation_0-logloss:0.214896\tvalidation_1-error:0.100153\tvalidation_1-logloss:0.257972\n",
      "[56]\tvalidation_0-error:0.080892\tvalidation_0-logloss:0.213725\tvalidation_1-error:0.099644\tvalidation_1-logloss:0.257297\n",
      "[57]\tvalidation_0-error:0.082394\tvalidation_0-logloss:0.211977\tvalidation_1-error:0.100661\tvalidation_1-logloss:0.256205\n",
      "[58]\tvalidation_0-error:0.078888\tvalidation_0-logloss:0.209666\tvalidation_1-error:0.097611\tvalidation_1-logloss:0.25489\n",
      "[59]\tvalidation_0-error:0.078137\tvalidation_0-logloss:0.209025\tvalidation_1-error:0.097611\tvalidation_1-logloss:0.254565\n",
      "[60]\tvalidation_0-error:0.077385\tvalidation_0-logloss:0.20779\tvalidation_1-error:0.096594\tvalidation_1-logloss:0.253879\n",
      "[61]\tvalidation_0-error:0.076885\tvalidation_0-logloss:0.206526\tvalidation_1-error:0.095069\tvalidation_1-logloss:0.253424\n",
      "[62]\tvalidation_0-error:0.076384\tvalidation_0-logloss:0.205634\tvalidation_1-error:0.095577\tvalidation_1-logloss:0.253107\n",
      "[63]\tvalidation_0-error:0.075883\tvalidation_0-logloss:0.204508\tvalidation_1-error:0.095577\tvalidation_1-logloss:0.252467\n",
      "[64]\tvalidation_0-error:0.075632\tvalidation_0-logloss:0.2029\tvalidation_1-error:0.095069\tvalidation_1-logloss:0.251369\n",
      "[65]\tvalidation_0-error:0.076133\tvalidation_0-logloss:0.201652\tvalidation_1-error:0.095069\tvalidation_1-logloss:0.250456\n",
      "[66]\tvalidation_0-error:0.075883\tvalidation_0-logloss:0.200856\tvalidation_1-error:0.095069\tvalidation_1-logloss:0.25025\n",
      "[67]\tvalidation_0-error:0.075632\tvalidation_0-logloss:0.200003\tvalidation_1-error:0.095069\tvalidation_1-logloss:0.249737\n",
      "[68]\tvalidation_0-error:0.075382\tvalidation_0-logloss:0.199271\tvalidation_1-error:0.095069\tvalidation_1-logloss:0.249332\n",
      "[69]\tvalidation_0-error:0.075632\tvalidation_0-logloss:0.198946\tvalidation_1-error:0.095069\tvalidation_1-logloss:0.249127\n",
      "[70]\tvalidation_0-error:0.074631\tvalidation_0-logloss:0.197316\tvalidation_1-error:0.094052\tvalidation_1-logloss:0.249083\n",
      "[71]\tvalidation_0-error:0.07413\tvalidation_0-logloss:0.196799\tvalidation_1-error:0.094052\tvalidation_1-logloss:0.248791\n",
      "[72]\tvalidation_0-error:0.073879\tvalidation_0-logloss:0.195375\tvalidation_1-error:0.095069\tvalidation_1-logloss:0.248749\n",
      "[73]\tvalidation_0-error:0.073879\tvalidation_0-logloss:0.194284\tvalidation_1-error:0.095577\tvalidation_1-logloss:0.247878\n",
      "[74]\tvalidation_0-error:0.072377\tvalidation_0-logloss:0.192993\tvalidation_1-error:0.095069\tvalidation_1-logloss:0.247258\n",
      "[75]\tvalidation_0-error:0.070874\tvalidation_0-logloss:0.191556\tvalidation_1-error:0.095577\tvalidation_1-logloss:0.246402\n",
      "[76]\tvalidation_0-error:0.071375\tvalidation_0-logloss:0.190654\tvalidation_1-error:0.095577\tvalidation_1-logloss:0.245967\n",
      "[77]\tvalidation_0-error:0.071375\tvalidation_0-logloss:0.190054\tvalidation_1-error:0.095069\tvalidation_1-logloss:0.245655\n",
      "[78]\tvalidation_0-error:0.071124\tvalidation_0-logloss:0.188848\tvalidation_1-error:0.09456\tvalidation_1-logloss:0.245141\n",
      "[79]\tvalidation_0-error:0.071124\tvalidation_0-logloss:0.188473\tvalidation_1-error:0.09456\tvalidation_1-logloss:0.244882\n",
      "[80]\tvalidation_0-error:0.069622\tvalidation_0-logloss:0.187767\tvalidation_1-error:0.095069\tvalidation_1-logloss:0.244866\n",
      "[81]\tvalidation_0-error:0.068871\tvalidation_0-logloss:0.187246\tvalidation_1-error:0.09456\tvalidation_1-logloss:0.244367\n",
      "[82]\tvalidation_0-error:0.067368\tvalidation_0-logloss:0.186132\tvalidation_1-error:0.094052\tvalidation_1-logloss:0.243847\n",
      "[83]\tvalidation_0-error:0.067117\tvalidation_0-logloss:0.185776\tvalidation_1-error:0.093543\tvalidation_1-logloss:0.243558\n",
      "[84]\tvalidation_0-error:0.067368\tvalidation_0-logloss:0.184797\tvalidation_1-error:0.093543\tvalidation_1-logloss:0.243351\n",
      "[85]\tvalidation_0-error:0.067869\tvalidation_0-logloss:0.184493\tvalidation_1-error:0.093543\tvalidation_1-logloss:0.24322\n"
     ]
    },
    {
     "name": "stdout",
     "output_type": "stream",
     "text": [
      "[86]\tvalidation_0-error:0.067869\tvalidation_0-logloss:0.18375\tvalidation_1-error:0.09456\tvalidation_1-logloss:0.242887\n",
      "[87]\tvalidation_0-error:0.066867\tvalidation_0-logloss:0.182801\tvalidation_1-error:0.092527\tvalidation_1-logloss:0.24211\n",
      "[88]\tvalidation_0-error:0.066366\tvalidation_0-logloss:0.181597\tvalidation_1-error:0.09151\tvalidation_1-logloss:0.241255\n",
      "[89]\tvalidation_0-error:0.066366\tvalidation_0-logloss:0.180765\tvalidation_1-error:0.091002\tvalidation_1-logloss:0.241126\n",
      "[90]\tvalidation_0-error:0.065615\tvalidation_0-logloss:0.179592\tvalidation_1-error:0.091002\tvalidation_1-logloss:0.24048\n",
      "[91]\tvalidation_0-error:0.065364\tvalidation_0-logloss:0.178482\tvalidation_1-error:0.092527\tvalidation_1-logloss:0.240373\n",
      "[92]\tvalidation_0-error:0.064864\tvalidation_0-logloss:0.177186\tvalidation_1-error:0.093035\tvalidation_1-logloss:0.240025\n",
      "[93]\tvalidation_0-error:0.064363\tvalidation_0-logloss:0.176453\tvalidation_1-error:0.093543\tvalidation_1-logloss:0.239543\n",
      "[94]\tvalidation_0-error:0.063361\tvalidation_0-logloss:0.174898\tvalidation_1-error:0.092527\tvalidation_1-logloss:0.23831\n",
      "[95]\tvalidation_0-error:0.063862\tvalidation_0-logloss:0.17458\tvalidation_1-error:0.093035\tvalidation_1-logloss:0.238526\n",
      "[96]\tvalidation_0-error:0.062359\tvalidation_0-logloss:0.173082\tvalidation_1-error:0.092018\tvalidation_1-logloss:0.238001\n",
      "[97]\tvalidation_0-error:0.062109\tvalidation_0-logloss:0.172069\tvalidation_1-error:0.092018\tvalidation_1-logloss:0.238186\n",
      "[98]\tvalidation_0-error:0.061858\tvalidation_0-logloss:0.171033\tvalidation_1-error:0.09151\tvalidation_1-logloss:0.237679\n",
      "[99]\tvalidation_0-error:0.061107\tvalidation_0-logloss:0.170431\tvalidation_1-error:0.092018\tvalidation_1-logloss:0.237459\n",
      "CPU times: user 945 ms, sys: 47.2 ms, total: 992 ms\n",
      "Wall time: 986 ms\n"
     ]
    },
    {
     "data": {
      "text/plain": [
       "XGBClassifier(base_score=0.5, booster='gbtree', colsample_bylevel=1,\n",
       "              colsample_bynode=1, colsample_bytree=1, gamma=0,\n",
       "              learning_rate=0.1, max_delta_step=0, max_depth=4,\n",
       "              min_child_weight=1, missing=None, n_estimators=100, n_jobs=1,\n",
       "              nthread=None, objective='binary:logistic', random_state=0,\n",
       "              reg_alpha=0, reg_lambda=1, scale_pos_weight=1, seed=None,\n",
       "              silent=None, subsample=0.9, verbosity=1)"
      ]
     },
     "execution_count": 22,
     "metadata": {},
     "output_type": "execute_result"
    }
   ],
   "source": [
    "%%time\n",
    "\n",
    "xgb = XGBClassifier(max_depth=4,\n",
    "                        subsample=0.9,\n",
    "                        objective='binary:logistic',\n",
    "                        n_estimators=100,\n",
    "                        learning_rate = 0.1)\n",
    "eval_set = [(X_train, y_train), (X_test, y_test)]\n",
    "xgb.fit(X_train, y_train.values.ravel(), early_stopping_rounds=10,\n",
    "          eval_metric=[\"error\", \"logloss\"], eval_set=eval_set, verbose=True)"
   ]
  },
  {
   "cell_type": "code",
   "execution_count": 23,
   "metadata": {},
   "outputs": [
    {
     "name": "stdout",
     "output_type": "stream",
     "text": [
      "Misclassification Rates\n",
      " XGBoost : 0.09201830198271477\n"
     ]
    }
   ],
   "source": [
    "dt_misclassification = 1 - metrics.accuracy_score(y_test, xgb.predict(X_test))\n",
    "print('Misclassification Rates\\n', 'XGBoost :', dt_misclassification)"
   ]
  },
  {
   "cell_type": "code",
   "execution_count": 24,
   "metadata": {},
   "outputs": [
    {
     "data": {
      "image/png": "[encoded data removed]",
      "text/plain": [
       "<Figure size 432x288 with 1 Axes>"
      ]
     },
     "metadata": {
      "needs_background": "light"
     },
     "output_type": "display_data"
    },
    {
     "data": {
      "image/png": "[encoded data removed]",
      "text/plain": [
       "<Figure size 432x288 with 1 Axes>"
      ]
     },
     "metadata": {
      "needs_background": "light"
     },
     "output_type": "display_data"
    }
   ],
   "source": [
    "# retrieve performance metrics\n",
    "results = xgb.evals_result()\n",
    "epochs = len(results['validation_0']['error'])\n",
    "x_axis = range(0, epochs)\n",
    "# plot log loss\n",
    "fig, ax = plt.subplots()\n",
    "ax.plot(x_axis, results['validation_0']['logloss'], label='Train')\n",
    "ax.plot(x_axis, results['validation_1']['logloss'], label='Test')\n",
    "ax.legend()\n",
    "plt.ylabel('Log Loss')\n",
    "plt.title('XGBoost Log Loss')\n",
    "plt.show()\n",
    "# plot classification error\n",
    "fig, ax = plt.subplots()\n",
    "ax.plot(x_axis, results['validation_0']['error'], label='Train')\n",
    "ax.plot(x_axis, results['validation_1']['error'], label='Test')\n",
    "ax.legend()\n",
    "plt.ylabel('Classification Error')\n",
    "plt.title('XGBoost Classification Error')\n",
    "plt.show()\n"
   ]
  },
  {
   "cell_type": "code",
   "execution_count": 25,
   "metadata": {},
   "outputs": [],
   "source": [
    "models.append({'label': 'XGBoost','model': xgb})"
   ]
  },
  {
   "cell_type": "code",
   "execution_count": 26,
   "metadata": {},
   "outputs": [
    {
     "data": {
      "image/png": "[encoded data removed]",
      "text/plain": [
       "<Figure size 504x360 with 1 Axes>"
      ]
     },
     "metadata": {
      "needs_background": "light"
     },
     "output_type": "display_data"
    }
   ],
   "source": [
    "plt.figure(figsize = (7, 5))\n",
    "for m in models:\n",
    "    model = m['model']\n",
    "    fpr, tpr, thresholds = metrics.roc_curve(y_test, model.predict_proba(X_test)[:,1])\n",
    "    auc = metrics.roc_auc_score(y_test,model.predict(X_test))\n",
    "    plt.plot(fpr, tpr, label='%s ROC (area = %0.2f)' % (m['label'], auc))\n",
    "plt.plot([0, 1], [0, 1],'r--')\n",
    "plt.xlim([0.0, 1.0])\n",
    "plt.ylim([0.0, 1.05])\n",
    "plt.xlabel('False Postive Rate')\n",
    "plt.ylabel('True Positive Rate')\n",
    "plt.title('ROC Curve (using validation data)')\n",
    "plt.legend(loc=\"lower right\")\n",
    "plt.show()"
   ]
  },
  {
   "cell_type": "markdown",
   "metadata": {},
   "source": [
    "#### The champion model is Rfor. And the challenger is Gboost"
   ]
  },
  {
   "cell_type": "markdown",
   "metadata": {},
   "source": [
    "## Machine Learning Engineering"
   ]
  },
  {
   "cell_type": "markdown",
   "metadata": {},
   "source": [
    "### Create ML pipelines"
   ]
  },
  {
   "cell_type": "markdown",
   "metadata": {},
   "source": [
    "# Rfor pipeline"
   ]
  },
  {
   "cell_type": "code",
   "execution_count": 27,
   "metadata": {},
   "outputs": [],
   "source": [
    "class_inputs = list(df.select_dtypes('object').columns)\n",
    "numerical_inputs = list(df.select_dtypes(include=['int64', 'float32']).columns)\n",
    "\n",
    "# Preprocessing interval variables\n",
    "numeric_transformer = Pipeline(steps=[\n",
    "    \n",
    "    ('numerical_imputer', SimpleImputer(strategy='median'))\n",
    "])\n",
    "\n",
    "# Preprocessing categorical variables\n",
    "categorical_transformer = Pipeline(steps=[\n",
    "    \n",
    "    ('categorical_imputer', SimpleImputer(strategy='most_frequent')),\n",
    "    ('encoder', OneHotEncoder(handle_unknown='ignore'))\n",
    "    \n",
    "])\n",
    "\n",
    "# Create preprocessing step\n",
    "preprocessor = ColumnTransformer(transformers=[\n",
    "    \n",
    "    ('numericals', numeric_transformer, numerical_inputs),\n",
    "    ('categoricals', categorical_transformer, class_inputs)\n",
    "\n",
    "])\n",
    "\n",
    "rfor_pipeline = Pipeline(steps=[\n",
    "    \n",
    "    ('preprocessor', preprocessor),\n",
    "    ('classifier', RandomForestClassifier())\n",
    "\n",
    "])"
   ]
  },
  {
   "cell_type": "markdown",
   "metadata": {},
   "source": [
    "## Gboost pipeline"
   ]
  },
  {
   "cell_type": "code",
   "execution_count": 28,
   "metadata": {},
   "outputs": [],
   "source": [
    "class_inputs = list(df.select_dtypes('object').columns)\n",
    "numerical_inputs = list(df.select_dtypes(include=['int64', 'float32']).columns)\n",
    "\n",
    "# Preprocessing interval variables\n",
    "numeric_transformer = Pipeline(steps=[\n",
    "    \n",
    "    ('numerical_imputer', SimpleImputer(strategy='median'))\n",
    "])\n",
    "\n",
    "# Preprocessing categorical variables\n",
    "categorical_transformer = Pipeline(steps=[\n",
    "    \n",
    "    ('categorical_imputer', SimpleImputer(strategy='most_frequent')),\n",
    "    ('encoder', OneHotEncoder(handle_unknown='ignore'))\n",
    "    \n",
    "])\n",
    "\n",
    "# Create preprocessing step\n",
    "preprocessor = ColumnTransformer(transformers=[\n",
    "    \n",
    "    ('numericals', numeric_transformer, numerical_inputs),\n",
    "    ('categoricals', categorical_transformer, class_inputs)\n",
    "\n",
    "])\n",
    "\n",
    "gboost_pipeline = Pipeline(steps=[\n",
    "    \n",
    "    ('preprocessor', preprocessor),\n",
    "    ('classifier', GradientBoostingClassifier())\n",
    "\n",
    "])"
   ]
  },
  {
   "cell_type": "markdown",
   "metadata": {},
   "source": [
    "## XGBoost pipeline"
   ]
  },
  {
   "cell_type": "code",
   "execution_count": 29,
   "metadata": {},
   "outputs": [],
   "source": [
    "class_inputs = list(df.select_dtypes('object').columns)\n",
    "numerical_inputs = list(df.select_dtypes(include=['int64', 'float32']).columns)\n",
    "\n",
    "# Preprocessing interval variables\n",
    "numeric_transformer = Pipeline(steps=[\n",
    "    \n",
    "    ('numerical_imputer', SimpleImputer(strategy='median'))\n",
    "])\n",
    "\n",
    "# Preprocessing categorical variables\n",
    "categorical_transformer = Pipeline(steps=[\n",
    "    \n",
    "    ('categorical_imputer', SimpleImputer(strategy='most_frequent')),\n",
    "    ('encoder', OneHotEncoder(handle_unknown='ignore'))\n",
    "    \n",
    "])\n",
    "\n",
    "# Create preprocessing step\n",
    "preprocessor = ColumnTransformer(transformers=[\n",
    "    \n",
    "    ('numericals', numeric_transformer, numerical_inputs),\n",
    "    ('categoricals', categorical_transformer, class_inputs)\n",
    "\n",
    "])\n",
    "\n",
    "xgb_pipeline = Pipeline(steps=[\n",
    "    \n",
    "    ('preprocessor', preprocessor),\n",
    "    ('classifier', XGBClassifier())\n",
    "\n",
    "])"
   ]
  },
  {
   "cell_type": "markdown",
   "metadata": {},
   "source": [
    "## Test fit and predict"
   ]
  },
  {
   "cell_type": "code",
   "execution_count": 30,
   "metadata": {},
   "outputs": [],
   "source": [
    "Prod_X_train, Prod_X_test, Prod_y_train, Prod_y_test = model_selection.train_test_split(df[df.columns.difference(target)], \n",
    "                                                                    df[target], \n",
    "                                                                    test_size=0.33, random_state=27513)"
   ]
  },
  {
   "cell_type": "code",
   "execution_count": 31,
   "metadata": {},
   "outputs": [
    {
     "name": "stderr",
     "output_type": "stream",
     "text": [
      "/opt/conda/lib/python3.7/site-packages/sklearn/ensemble/forest.py:245: FutureWarning: The default value of n_estimators will change from 10 in version 0.20 to 100 in 0.22.\n",
      "  \"10 in version 0.20 to 100 in 0.22.\", FutureWarning)\n",
      "/opt/conda/lib/python3.7/site-packages/sklearn/pipeline.py:356: DataConversionWarning: A column-vector y was passed when a 1d array was expected. Please change the shape of y to (n_samples,), for example using ravel().\n",
      "  self._final_estimator.fit(Xt, y, **fit_params)\n"
     ]
    },
    {
     "data": {
      "text/plain": [
       "array([[0.6, 0.4],\n",
       "       [1. , 0. ],\n",
       "       [0.7, 0.3],\n",
       "       ...,\n",
       "       [1. , 0. ],\n",
       "       [0.9, 0.1],\n",
       "       [1. , 0. ]])"
      ]
     },
     "execution_count": 31,
     "metadata": {},
     "output_type": "execute_result"
    }
   ],
   "source": [
    "rfor_pipeline.fit(Prod_X_train, Prod_y_train)\n",
    "Prod_y_predict=rfor_pipeline.predict_proba(Prod_X_test)\n",
    "Prod_y_predict"
   ]
  },
  {
   "cell_type": "code",
   "execution_count": 32,
   "metadata": {},
   "outputs": [
    {
     "data": {
      "text/plain": [
       "0.9089984748347738"
      ]
     },
     "execution_count": 32,
     "metadata": {},
     "output_type": "execute_result"
    }
   ],
   "source": [
    "rfor_pipeline.score(Prod_X_test, Prod_y_test)"
   ]
  },
  {
   "cell_type": "code",
   "execution_count": 33,
   "metadata": {},
   "outputs": [
    {
     "name": "stderr",
     "output_type": "stream",
     "text": [
      "/opt/conda/lib/python3.7/site-packages/sklearn/ensemble/gradient_boosting.py:1450: DataConversionWarning: A column-vector y was passed when a 1d array was expected. Please change the shape of y to (n_samples, ), for example using ravel().\n",
      "  y = column_or_1d(y, warn=True)\n"
     ]
    },
    {
     "data": {
      "text/plain": [
       "array([[0.54424563, 0.45575437],\n",
       "       [0.96871215, 0.03128785],\n",
       "       [0.47410441, 0.52589559],\n",
       "       ...,\n",
       "       [0.97125893, 0.02874107],\n",
       "       [0.82078169, 0.17921831],\n",
       "       [0.95975298, 0.04024702]])"
      ]
     },
     "execution_count": 33,
     "metadata": {},
     "output_type": "execute_result"
    }
   ],
   "source": [
    "gboost_pipeline.fit(Prod_X_train, Prod_y_train)\n",
    "Prod_y_predict=gboost_pipeline.predict_proba(Prod_X_test)\n",
    "Prod_y_predict"
   ]
  },
  {
   "cell_type": "code",
   "execution_count": 34,
   "metadata": {},
   "outputs": [
    {
     "data": {
      "text/plain": [
       "0.9079816980172852"
      ]
     },
     "execution_count": 34,
     "metadata": {},
     "output_type": "execute_result"
    }
   ],
   "source": [
    "gboost_pipeline.score(Prod_X_test, Prod_y_test)"
   ]
  },
  {
   "cell_type": "code",
   "execution_count": 35,
   "metadata": {},
   "outputs": [
    {
     "name": "stderr",
     "output_type": "stream",
     "text": [
      "/opt/conda/lib/python3.7/site-packages/sklearn/preprocessing/label.py:219: DataConversionWarning: A column-vector y was passed when a 1d array was expected. Please change the shape of y to (n_samples, ), for example using ravel().\n",
      "  y = column_or_1d(y, warn=True)\n",
      "/opt/conda/lib/python3.7/site-packages/sklearn/preprocessing/label.py:252: DataConversionWarning: A column-vector y was passed when a 1d array was expected. Please change the shape of y to (n_samples, ), for example using ravel().\n",
      "  y = column_or_1d(y, warn=True)\n"
     ]
    },
    {
     "data": {
      "text/plain": [
       "array([[0.4952579 , 0.5047421 ],\n",
       "       [0.95927745, 0.04072255],\n",
       "       [0.4247105 , 0.5752895 ],\n",
       "       ...,\n",
       "       [0.9712224 , 0.02877758],\n",
       "       [0.9322854 , 0.06771456],\n",
       "       [0.94304323, 0.05695674]], dtype=float32)"
      ]
     },
     "execution_count": 35,
     "metadata": {},
     "output_type": "execute_result"
    }
   ],
   "source": [
    "xgb_pipeline.fit(Prod_X_train, Prod_y_train)\n",
    "Prod_y_predict=xgb_pipeline.predict_proba(Prod_X_test)\n",
    "Prod_y_predict"
   ]
  },
  {
   "cell_type": "code",
   "execution_count": 36,
   "metadata": {},
   "outputs": [
    {
     "data": {
      "text/plain": [
       "0.9018810371123538"
      ]
     },
     "execution_count": 36,
     "metadata": {},
     "output_type": "execute_result"
    }
   ],
   "source": [
    "xgb_pipeline.score(Prod_X_test, Prod_y_test)"
   ]
  },
  {
   "cell_type": "markdown",
   "metadata": {},
   "source": [
    "# Model Deployment"
   ]
  },
  {
   "cell_type": "markdown",
   "metadata": {},
   "source": [
    "For Model Deployment purpose, we need some files:\n",
    "\n",
    "- Required\n",
    "\n",
    "    0. requirement.txt\n",
    "    1. score.py\n",
    "    2. model.pkl\n",
    "    3. inputVar.json\n",
    "    4. outputVar.json\n",
    "    \n",
    "    \n",
    "- Optional\n",
    "\n",
    "    5. fileMetadata.json\n",
    "    6. ModelProperties.json\n",
    "    7. dmcas_fitstat.json\n",
    "    8. dmcas_roc\n",
    "    9. dmcas_lift\n"
   ]
  },
  {
   "cell_type": "code",
   "execution_count": 37,
   "metadata": {},
   "outputs": [],
   "source": [
    "! mkdir -p experiment_rfor experiment_gboost experiment_xgboost"
   ]
  },
  {
   "cell_type": "markdown",
   "metadata": {},
   "source": [
    "## 0. requirement.txt"
   ]
  },
  {
   "cell_type": "code",
   "execution_count": 38,
   "metadata": {},
   "outputs": [
    {
     "name": "stdout",
     "output_type": "stream",
     "text": [
      "WARNING: pip is being invoked by an old script wrapper. This will fail in a future version of pip.\n",
      "Please see https://github.com/pypa/pip/issues/5599 for advice on fixing the underlying issue.\n",
      "To avoid this problem you can invoke Python with '-m pip' instead of running pip directly.\n",
      "WARNING: pip is being invoked by an old script wrapper. This will fail in a future version of pip.\n",
      "Please see https://github.com/pypa/pip/issues/5599 for advice on fixing the underlying issue.\n",
      "To avoid this problem you can invoke Python with '-m pip' instead of running pip directly.\n",
      "WARNING: pip is being invoked by an old script wrapper. This will fail in a future version of pip.\n",
      "Please see https://github.com/pypa/pip/issues/5599 for advice on fixing the underlying issue.\n",
      "To avoid this problem you can invoke Python with '-m pip' instead of running pip directly.\n"
     ]
    }
   ],
   "source": [
    "! pip freeze > ./experiment_rfor/requirement.txt\n",
    "! pip freeze > ./experiment_gboost/requirement.txt\n",
    "! pip freeze > ./experiment_xgboost/requirement.txt"
   ]
  },
  {
   "cell_type": "code",
   "execution_count": 39,
   "metadata": {},
   "outputs": [],
   "source": [
    "# from viya_services import modelmanager_service"
   ]
  },
  {
   "cell_type": "code",
   "execution_count": 40,
   "metadata": {},
   "outputs": [],
   "source": [
    "from viyapy.services import utils"
   ]
  },
  {
   "cell_type": "markdown",
   "metadata": {},
   "source": [
    "## 1. Score.py "
   ]
  },
  {
   "cell_type": "markdown",
   "metadata": {},
   "source": [
    "About the Score code, you have to put the pickle file on the Model Manager file system.\n",
    "To avoid that (for now) use the \"write binary\" method."
   ]
  },
  {
   "cell_type": "code",
   "execution_count": null,
   "metadata": {},
   "outputs": [],
   "source": [
    "import base64\n",
    "with open('', 'rb') as fp:\n",
    "    data = pickle.dumps(save_this_arr)\n",
    "    encoded = base64.b64encode(data)\n",
    "    fp.write(encoded)\n",
    "\n",
    "\n",
    "#     msg = bytes(f\"{len(msg):<{HEADERSIZE}}\", 'utf-8')+msg\n",
    "#     print(msg)\n",
    "#     clientsocket.send(msg)"
   ]
  },
  {
   "cell_type": "code",
   "execution_count": null,
   "metadata": {},
   "outputs": [],
   "source": [
    "try:\n",
    "    import pickle, base64\n",
    "    bytes = b\"gANjc2tsZWFybi5saW5lYXJfbW9kZWwubG9naXN0aWMKTG9naXN0aWNSZWdyZXNzaW9uCnEAKYFxAX1xAihYBwAAAHBlbmFsdHlxA1gCAAAAbDJxBFgEAAAAZHVhbHEFiVgDAAAAdG9scQZHPxo24uscQy1YAQAAAENxB0c/8AAAAAAAAFgNAAAAZml0X2ludGVyY2VwdHEIiFgRAAAAaW50ZXJjZXB0X3NjYWxpbmdxCUsBWAwAAABjbGFzc193ZWlnaHRxCk5YDAAAAHJhbmRvbV9zdGF0ZXELTlgGAAAAc29sdmVycQxYBAAAAHdhcm5xDVgIAAAAbWF4X2l0ZXJxDktkWAsAAABtdWx0aV9jbGFzc3EPaA1YBwAAAHZlcmJvc2VxEEsAWAoAAAB3YXJtX3N0YXJ0cRGJWAYAAABuX2pvYnNxEk5YCAAAAGwxX3JhdGlvcRNOWAgAAABjbGFzc2VzX3EUY251bXB5LmNvcmUubXVsdGlhcnJheQpfcmVjb25zdHJ1Y3QKcRVjbnVtcHkKbmRhcnJheQpxFksAhXEXQwFicRiHcRlScRooSwFLAoVxG2NudW1weQpkdHlwZQpxHFgCAAAAZjhxHUsASwGHcR5ScR8oSwNYAQAAADxxIE5OTkr/////Sv////9LAHRxIWKJQxAAAAAAAAAAAAAAAAAAAPA/cSJ0cSNiWAUAAABjb2VmX3EkaBVoFksAhXElaBiHcSZScScoSwFLAUsShnEoaB+JQ5Cn61GkpFN9v0BQKUOgKnk/157IA1mHiD96ZaHw/Qd5P8WYefDEUWs/lyZqNb8tGD+ybPvqoFNAv+KIQtH5Ue4+gejuUMmcFb+zinHMyPUVP6WDS+oI2CM/oHjr5ZSO+75ORCQZGlfevnuzLhEqHXA/cMphoaEbNL9p+rehCg4XPxOTdAf46Mk+jIvWOLEtbL9xKXRxKmJYCgAAAGludGVyY2VwdF9xK2gVaBZLAIVxLGgYh3EtUnEuKEsBSwGFcS9oH4lDCHKkF8z7TS+/cTB0cTFiWAcAAABuX2l0ZXJfcTJoFWgWSwCFcTNoGIdxNFJxNShLAUsBhXE2aBxYAgAAAGk0cTdLAEsBh3E4UnE5KEsDaCBOTk5K/////0r/////SwB0cTpiiUMEEgAAAHE7dHE8YlgQAAAAX3NrbGVhcm5fdmVyc2lvbnE9WAYAAAAwLjIxLjJxPnViLg==\"\n",
    "    obj = pickle.loads(base64.b64decode(bytes))\n",
    "    _compile_error = None\n",
    "except Exception as e:\n",
    "    _compile_error = e"
   ]
  },
  {
   "cell_type": "code",
   "execution_count": null,
   "metadata": {},
   "outputs": [],
   "source": [
    "# ! touch > ./experiment_rfor/score.py\n",
    "\n",
    "import numpy\n",
    "import pandas\n",
    "import pickle\n",
    "\n",
    "def scoreHMEQLogisticModel (REASON, JOB, LOAN, MORTDUE, VALUE, YOJ, DEROG, DELINQ, CLAGE, NINQ, CLNO, DEBTINC):\n",
    "    \"Output: EM_EVENTPROBABILITY, EM_CLASSIFICATION\"\n",
    "\n",
    "    try:\n",
    "       _thisModelFit\n",
    "    except NameError:\n",
    "       _pFile = open(\"/opt/sas/viya/config/data/modelsvr/resources/aabc9ecc-a000-4744-87cb-98bd39cce07c/hmeq_logistic.pkl\", \"rb\")\n",
    "       _thisModelFit = pickle.load(_pFile)\n",
    "       _pFile.close()\n",
    "\n",
    "    cStr = JOB.strip()\n",
    "    JOB_Mgr = numpy.where(cStr == \"Mgr\", 1.0, 0.0)\n",
    "    JOB_Office = numpy.where(cStr == \"Office\", 1.0, 0.0)\n",
    "    JOB_Other = numpy.where(cStr == \"Other\", 1.0, 0.0)\n",
    "    JOB_ProfExe = numpy.where(cStr == \"ProfExe\", 1.0, 0.0)\n",
    "    JOB_Sales = numpy.where(cStr == \"Sales\", 1.0, 0.0)\n",
    "\n",
    "    cStr = REASON.strip()\n",
    "    REASON_DebtCon = numpy.where(REASON == 'DebtCon', 1.0, 0.0)\n",
    "\n",
    "    # Construct the input array for scoring (the first term is for the Intercept)\n",
    "    input_array = pandas.DataFrame([[1.0, JOB_Mgr, JOB_Office, JOB_Other, JOB_ProfExe, JOB_Sales, \\\n",
    "                                     REASON_DebtCon, CLAGE, CLNO, DEBTINC, DELINQ, DEROG, NINQ]],\n",
    "        columns = [\"const\", \"JOB_Mgr\", \"JOB_Office\", \"JOB_Other\", \"JOB_ProfExe\", \"JOB_Sales\", \\\n",
    "                   \"REASON_DebtCon\", \"CLAGE\", \"CLNO\", \"DEBTINC\", \"DELINQ\", \"DEROG\", \"NINQ\"],\n",
    "        dtype = float)\n",
    "\n",
    "    # Calculate the predicted probabilities\n",
    "    _predProb = _thisModelFit.predict(input_array)\n",
    "\n",
    "    # Retrieve the event probability\n",
    "    EM_EVENTPROBABILITY = float(_predProb[1])\n",
    "\n",
    "    # Determine the predicted target category\n",
    "    EM_CLASSIFICATION = _predProb.idxmax(axis = 1).to_string(index=False)\n",
    "\n",
    "    return(EM_EVENTPROBABILITY, EM_CLASSIFICATION)"
   ]
  },
  {
   "cell_type": "markdown",
   "metadata": {},
   "source": [
    "## 2. model.pkl"
   ]
  },
  {
   "cell_type": "code",
   "execution_count": 41,
   "metadata": {},
   "outputs": [
    {
     "name": "stderr",
     "output_type": "stream",
     "text": [
      "/opt/conda/lib/python3.7/site-packages/sklearn/externals/joblib/__init__.py:15: DeprecationWarning: sklearn.externals.joblib is deprecated in 0.21 and will be removed in 0.23. Please import this functionality directly from joblib, which can be installed with: pip install joblib. If this warning is raised when loading pickled models, you may need to re-serialize those models with scikit-learn 0.21+.\n",
      "  warnings.warn(msg, category=DeprecationWarning)\n"
     ]
    }
   ],
   "source": [
    "from sklearn.externals import joblib\n",
    "folders = ['experiment_rfor', 'experiment_gboost', 'experiment_xgboost']\n",
    "pipes = [rfor_pipeline, gboost_pipeline, xgb_pipeline]\n",
    "pickles = ['rfor_pipeline.pickle', 'gboost_pipeline.pickle', 'xgb_pipeline.pickle']\n",
    "\n",
    "for folder, pipe, pkl in zip(folders, pipes, pickles):\n",
    "    joblib.dump(pipe, './{}/{}'.format(folder, pkl))"
   ]
  },
  {
   "cell_type": "markdown",
   "metadata": {},
   "source": [
    "## 4. inputVar"
   ]
  },
  {
   "cell_type": "code",
   "execution_count": 42,
   "metadata": {},
   "outputs": [],
   "source": [
    "# for folder in folders: \n",
    "#     modelmanager_service.generate_inputvar(abt, 'BAD', './{}'.format(folder), debug=False)\n",
    "\n",
    "for folder in folders: \n",
    "    utils.generate_inputvar(abt, 'BAD', './{}'.format(folder), debug=False)"
   ]
  },
  {
   "cell_type": "markdown",
   "metadata": {},
   "source": [
    "## 5. outputVar and targetVar"
   ]
  },
  {
   "cell_type": "code",
   "execution_count": 43,
   "metadata": {},
   "outputs": [],
   "source": [
    "# for folder in folders:\n",
    "#     modelmanager_service.generate_outputvar(abt, 'BAD', './{}'.format(folder))\n",
    "    \n",
    "for folder in folders: \n",
    "    utils.generate_outputvar(abt, 'BAD', './{}'.format(folder), debug=False)"
   ]
  },
  {
   "cell_type": "markdown",
   "metadata": {},
   "source": [
    "## 6. dmcas_lift"
   ]
  },
  {
   "cell_type": "code",
   "execution_count": 44,
   "metadata": {},
   "outputs": [],
   "source": [
    "# for folder, pipe in zip(folders, pipes):\n",
    "#     modelmanager_service.generate_lift(Prod_y_train, Prod_y_test, 'BAD', 1, pipe.predict_proba(Prod_X_train)[:,1], pipe.predict_proba(Prod_X_test)[:,1], folder, debug=False)\n",
    "\n",
    "for folder, pipe in zip(folders, pipes):\n",
    "    utils.generate_lift(Prod_y_train, Prod_y_test, 'BAD', 1, pipe.predict_proba(Prod_X_train)[:,1], pipe.predict_proba(Prod_X_test)[:,1], folder, debug=False)"
   ]
  },
  {
   "cell_type": "markdown",
   "metadata": {},
   "source": [
    "## Test Open Model Manager"
   ]
  },
  {
   "cell_type": "code",
   "execution_count": null,
   "metadata": {},
   "outputs": [],
   "source": [
    "with zipfile.ZipFile('pythonmodel.zip', 'w') as zipObj:\n",
    "   # Iterate over all the files in directory\n",
    "   for folderName, subfolders, filenames in os.walk('./experiment_xgboost'):\n",
    "        for filename in filenames:\n",
    "            #create complete filepath of file in directory\n",
    "            filePath = os.path.join(folderName, filename)\n",
    "            # Add file to zip\n",
    "            zipObj.write(filePath)"
   ]
  },
  {
   "cell_type": "code",
   "execution_count": null,
   "metadata": {},
   "outputs": [],
   "source": []
  }
 ],
 "metadata": {
  "kernelspec": {
   "display_name": "Python 3",
   "language": "python",
   "name": "python3"
  },
  "language_info": {
   "codemirror_mode": {
    "name": "ipython",
    "version": 3
   },
   "file_extension": ".py",
   "mimetype": "text/x-python",
   "name": "python",
   "nbconvert_exporter": "python",
   "pygments_lexer": "ipython3",
   "version": "3.7.6"
  }
 },
 "nbformat": 4,
 "nbformat_minor": 2
}
